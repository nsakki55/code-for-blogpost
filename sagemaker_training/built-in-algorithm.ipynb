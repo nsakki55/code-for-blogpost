{
 "cells": [
  {
   "cell_type": "code",
   "execution_count": 1,
   "id": "64dcc98a",
   "metadata": {},
   "outputs": [
    {
     "name": "stderr",
     "output_type": "stream",
     "text": [
      "/Users/satsuki/.pyenv/versions/3.7.10/envs/data-science/lib/python3.7/site-packages/pandas/compat/__init__.py:124: UserWarning: Could not import the lzma module. Your installed Python is incomplete. Attempting to use lzma compression will result in a RuntimeError.\n",
      "  warnings.warn(msg)\n"
     ]
    }
   ],
   "source": [
    "import os\n",
    "import pandas as pd\n",
    "import yaml\n",
    "import io\n",
    "import boto3\n",
    "from time import gmtime, strftime\n",
    "from sklearn.model_selection import train_test_split\n",
    "from sklearn.preprocessing import OneHotEncoder\n",
    "import matplotlib.pyplot as plt\n",
    "%matplotlib inline\n",
    "\n",
    "import sagemaker\n",
    "import sagemaker.amazon.common as smac\n",
    "from sagemaker import image_uris\n",
    "\n",
    "\n",
    "pd.set_option('display.max_columns', 50)"
   ]
  },
  {
   "cell_type": "markdown",
   "id": "3ecae9cc",
   "metadata": {},
   "source": [
    "## AWS設定ファイル・データ読み込み"
   ]
  },
  {
   "cell_type": "code",
   "execution_count": 17,
   "id": "5ba882f7",
   "metadata": {},
   "outputs": [],
   "source": [
    "import yaml\n",
    "import sagemaker\n",
    "import boto3\n",
    "\n",
    "SETTING_FILE_PATH = \"../config/settings.yaml\"\n",
    "DATA_FOLDER_PATH = \"avazu-ctr-prediction\"\n",
    "\n",
    "with open(SETTING_FILE_PATH) as file:\n",
    "    aws_info = yaml.safe_load(file)\n",
    "        \n",
    "sess = sagemaker.Session()\n",
    "role = aws_info['aws']['sagemaker']['role']\n",
    "bucket = aws_info['aws']['sagemaker']['s3bucket']\n",
    "region = aws_info['aws']['sagemaker']['region']\n",
    "\n",
    "sm = boto3.client('sagemaker')\n",
    "s3 = boto3.client('s3')\n",
    "\n",
    "prefix = 'built-in-algorithm-training'\n",
    "\n",
    "df_train = pd.read_csv(os.path.join(DATA_FOLDER_PATH, \"train\"), dtype=\"object\")\n"
   ]
  },
  {
   "cell_type": "code",
   "execution_count": 71,
   "id": "d481b911",
   "metadata": {},
   "outputs": [],
   "source": [
    "from sklearn.model_selection import train_test_split\n",
    "from sklearn.preprocessing import OneHotEncoder\n",
    "\n",
    "feature_columns = ['C1', 'banner_pos', 'site_category', 'app_category', 'device_type', 'device_conn_type', 'C15', 'C16', 'C18']\n",
    "\n",
    "df_train, df_test = train_test_split(df_train, train_size=0.7, random_state=0, shuffle=True)\n",
    "df_train, df_validation = train_test_split(df_train, train_size=0.8, random_state=0, shuffle=True)\n",
    "\n",
    "one_hot_encoder = OneHotEncoder(handle_unknown='ignore')\n",
    "\n",
    "y_train = df_train['click'].to_numpy()\n",
    "X_train = one_hot_encoder.fit_transform(df_train[feature_columns]).toarray()\n",
    "\n",
    "y_validation = df_validation['click'].to_numpy()\n",
    "X_validation = one_hot_encoder.transform(df_validation[feature_columns]).toarray()\n",
    "\n",
    "y_test = df_test['click'].to_numpy()\n",
    "X_test = one_hot_encoder.fit_transform(df_test[feature_columns]).toarray()\n",
    "\n"
   ]
  },
  {
   "cell_type": "code",
   "execution_count": 100,
   "id": "3cdd9d17",
   "metadata": {},
   "outputs": [],
   "source": [
    "import numpy as np \n",
    "import io\n",
    "import sagemaker.amazon.common as smac\n",
    "\n",
    "def upload_protobuf_to_s3(data_type: str, X: np.ndarray, y: np.ndarray) -> None:\n",
    "    file_name = f'{data_type}.data'\n",
    "    f = io.BytesIO()\n",
    "    smac.write_numpy_to_dense_tensor(f, X.astype(\"float32\"), y.astype(\"float32\"))\n",
    "    f.seek(0)\n",
    "    \n",
    "    boto3.Session().resource(\"s3\").Bucket(bucket).Object(\n",
    "        os.path.join(prefix, data_type, file_name)\n",
    "    ).upload_fileobj(f)\n",
    "    \n",
    "    \n",
    "upload_protobuf_to_s3('train', X_train, y_train)\n",
    "upload_protobuf_to_s3('validation', X_validation, y_validation)\n",
    "upload_protobuf_to_s3('test', X_test, y_test)\n"
   ]
  },
  {
   "cell_type": "code",
   "execution_count": 73,
   "id": "6b99f336",
   "metadata": {},
   "outputs": [],
   "source": [
    "train_file = \"train.data\"\n",
    "\n",
    "f = io.BytesIO()\n",
    "smac.write_numpy_to_dense_tensor(f, X_train.astype(\"float32\"), y_train.astype(\"float32\"))\n",
    "f.seek(0)\n",
    "\n",
    "boto3.Session().resource(\"s3\").Bucket(bucket).Object(\n",
    "    os.path.join(prefix, \"train\", train_file)\n",
    ").upload_fileobj(f)\n"
   ]
  },
  {
   "cell_type": "code",
   "execution_count": 74,
   "id": "41f5cf3d",
   "metadata": {},
   "outputs": [],
   "source": [
    "validation_file = \"validation.data\"\n",
    "s3_validation_data = os.path.join(prefix, \"validation\", validation_file)\n",
    "\n",
    "f = io.BytesIO()\n",
    "smac.write_numpy_to_dense_tensor(f, X_validation.astype(\"float32\"), y_validation.astype(\"float32\"))\n",
    "f.seek(0)\n",
    "\n",
    "boto3.Session().resource(\"s3\").Bucket(bucket).Object(\n",
    "os.path.join(prefix, \"validation\", validation_file)\n",
    ").upload_fileobj(f)\n"
   ]
  },
  {
   "cell_type": "code",
   "execution_count": 75,
   "id": "781248f9",
   "metadata": {},
   "outputs": [],
   "source": [
    "test_file = \"test.data\"\n",
    "s3_test_data = os.path.join(prefix, \"test\", test_file)\n",
    "\n",
    "f = io.BytesIO()\n",
    "smac.write_numpy_to_dense_tensor(f, X_test.astype(\"float32\"), y_test.astype(\"float32\"))\n",
    "f.seek(0)\n",
    "\n",
    "boto3.Session().resource(\"s3\").Bucket(bucket).Object(\n",
    "os.path.join(prefix, \"test\", test_file)\n",
    ").upload_fileobj(f)\n"
   ]
  },
  {
   "cell_type": "code",
   "execution_count": 105,
   "id": "7e691ad0",
   "metadata": {},
   "outputs": [],
   "source": [
    "job_name = \"built-in-linear-learner-ctr-prediction-sm-sdk\" + strftime(\"%Y%m%d-%H-%M-%S\", gmtime())\n",
    "\n",
    "output_location = f\"s3://{bucket}/{prefix}/output\"\n",
    "s3_train_data = f\"s3://{bucket}/{prefix}/train/{train_file}\"\n",
    "s3_validation_data = f\"s3://{bucket}/{prefix}/validation/{validation_file}\"\n",
    "s3_test_data = f\"s3://{bucket}/{prefix}/test/{test_file}\"\n"
   ]
  },
  {
   "cell_type": "markdown",
   "id": "ab219ce0",
   "metadata": {},
   "source": [
    "## SageMaker SDK を用いた組み込みアルゴリズムの実行"
   ]
  },
  {
   "cell_type": "code",
   "execution_count": null,
   "id": "713b4e53",
   "metadata": {},
   "outputs": [],
   "source": [
    "from sagemaker import image_uris\n",
    "import sagemaker\n",
    "\n",
    "\n",
    "container = image_uris.retrieve(region=region, framework=\"linear-learner\")\n",
    "print(container)\n",
    "\n",
    "linear = sagemaker.estimator.Estimator(\n",
    "    container,\n",
    "    role,\n",
    "    instance_count=1,\n",
    "    instance_type=\"ml.m5.large\",\n",
    "    output_path=output_location,\n",
    "    sagemaker_session=sess,\n",
    ")\n",
    "linear.set_hyperparameters(predictor_type=\"binary_classifier\", mini_batch_size=200)\n",
    "\n",
    "linear.fit({\"train\": s3_train_data, \"validation\": s3_validation_data, \"test\": s3_test_data}, job_name=job_name)\n"
   ]
  },
  {
   "cell_type": "markdown",
   "id": "f24a48f9",
   "metadata": {},
   "source": [
    "## AWS SDK を用いた組み込みアルゴリズムの実行"
   ]
  },
  {
   "cell_type": "code",
   "execution_count": 84,
   "id": "aa054422",
   "metadata": {},
   "outputs": [],
   "source": [
    "job_name = \"built-in-linear-learner-ctr-prediction-aws-sdk\" + strftime(\"%Y%m%d-%H-%M-%S\", gmtime())\n",
    "container = image_uris.retrieve(region=region, framework=\"linear-learner\")\n",
    "\n",
    "\n",
    "linear_training_params = {\n",
    "    \"RoleArn\": role,\n",
    "    \"TrainingJobName\": job_name,\n",
    "    \"AlgorithmSpecification\": {\"TrainingImage\": container, \"TrainingInputMode\": \"File\"},\n",
    "    \"ResourceConfig\": {\"InstanceCount\": 1, \"InstanceType\": \"ml.m5.large\", \"VolumeSizeInGB\": 10},\n",
    "    \"InputDataConfig\": [\n",
    "        {\n",
    "            \"ChannelName\": \"train\",\n",
    "            \"DataSource\": {\n",
    "                \"S3DataSource\": {\n",
    "                    \"S3DataType\": \"S3Prefix\",\n",
    "                    \"S3Uri\": s3_train_data,\n",
    "                    \"S3DataDistributionType\": \"ShardedByS3Key\",\n",
    "                }\n",
    "            },\n",
    "            \"CompressionType\": \"None\",\n",
    "            \"RecordWrapperType\": \"None\",\n",
    "        },\n",
    "        {\n",
    "            \"ChannelName\": \"validation\",\n",
    "            \"DataSource\": {\n",
    "                \"S3DataSource\": {\n",
    "                    \"S3DataType\": \"S3Prefix\",\n",
    "                    \"S3Uri\": s3_validation_data,\n",
    "                    \"S3DataDistributionType\": \"FullyReplicated\",\n",
    "                }\n",
    "            },\n",
    "            \"CompressionType\": \"None\",\n",
    "            \"RecordWrapperType\": \"None\",\n",
    "        },\n",
    "        {\n",
    "            \"ChannelName\": \"test\",\n",
    "            \"DataSource\": {\n",
    "                \"S3DataSource\": {\n",
    "                    \"S3DataType\": \"S3Prefix\",\n",
    "                    \"S3Uri\": s3_test_data,\n",
    "                    \"S3DataDistributionType\": \"FullyReplicated\",\n",
    "                }\n",
    "            },\n",
    "            \"CompressionType\": \"None\",\n",
    "            \"RecordWrapperType\": \"None\",\n",
    "        },\n",
    "    ],\n",
    "    \"OutputDataConfig\": {\"S3OutputPath\": output_location},\n",
    "    \"HyperParameters\": {\n",
    "        \"mini_batch_size\": \"300\",\n",
    "        \"predictor_type\": \"binary_classifier\",\n",
    "        \"epochs\": \"5\",\n",
    "        \"num_models\": \"1\",\n",
    "        \"loss\": \"absolute_loss\",\n",
    "    },\n",
    "    \"StoppingCondition\": {\"MaxRuntimeInSeconds\": 60 * 60},\n",
    "}"
   ]
  },
  {
   "cell_type": "code",
   "execution_count": null,
   "id": "e2540373",
   "metadata": {},
   "outputs": [],
   "source": [
    "sm = boto3.client('sagemaker')\n",
    "sm.create_training_job(**linear_training_params)"
   ]
  },
  {
   "cell_type": "markdown",
   "id": "4a6cb2a3",
   "metadata": {},
   "source": [
    "## LinearLerner を用いた組み込みアルゴリズムの実行"
   ]
  },
  {
   "cell_type": "code",
   "execution_count": 89,
   "id": "64657e7c",
   "metadata": {},
   "outputs": [],
   "source": [
    "train = linear.record_set(X_train.astype('float32'), labels=y_train.astype('float32'), channel='train')\n",
    "validation = linear.record_set(X_validation.astype('float32'), labels=y_validation.astype('float32'), channel='validation')\n",
    "test = linear.record_set(X_test.astype('float32'), labels=y_test.astype('float32'), channel='test')\n"
   ]
  },
  {
   "cell_type": "code",
   "execution_count": 107,
   "id": "04288ed2",
   "metadata": {},
   "outputs": [
    {
     "name": "stderr",
     "output_type": "stream",
     "text": [
      "train_instance_count has been renamed in sagemaker>=2.\n",
      "See: https://sagemaker.readthedocs.io/en/stable/v2.html for details.\n",
      "train_instance_type has been renamed in sagemaker>=2.\n",
      "See: https://sagemaker.readthedocs.io/en/stable/v2.html for details.\n",
      "Defaulting to the only supported framework/algorithm version: 1. Ignoring framework/algorithm version: 1.\n"
     ]
    }
   ],
   "source": [
    "job_name = \"built-in-linear-learner-ctr-prediction\" + strftime(\"%Y%m%d-%H-%M-%S\", gmtime())\n",
    "\n",
    "linear = sagemaker.LinearLearner(\n",
    "    role=role,\n",
    "    train_instance_count=1,\n",
    "    train_instance_type=\"ml.m5.large\",\n",
    "    output_path=output_location,\n",
    "    predictor_type=\"binary_classifier\",\n",
    "    sagemaker_session=sess\n",
    ")\n",
    "\n",
    "linear.fit([train, validation, test], mini_batch_size=200, wait=False, job_name=job_name)\n"
   ]
  },
  {
   "cell_type": "code",
   "execution_count": null,
   "id": "c4d3f4ec",
   "metadata": {},
   "outputs": [],
   "source": []
  }
 ],
 "metadata": {
  "kernelspec": {
   "display_name": "Python 3 (ipykernel)",
   "language": "python",
   "name": "python3"
  },
  "language_info": {
   "codemirror_mode": {
    "name": "ipython",
    "version": 3
   },
   "file_extension": ".py",
   "mimetype": "text/x-python",
   "name": "python",
   "nbconvert_exporter": "python",
   "pygments_lexer": "ipython3",
   "version": "3.7.10"
  }
 },
 "nbformat": 4,
 "nbformat_minor": 5
}
