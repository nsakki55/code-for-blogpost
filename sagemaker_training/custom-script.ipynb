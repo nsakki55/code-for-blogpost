{
 "cells": [
  {
   "cell_type": "code",
   "execution_count": 1,
   "id": "055cfcc8",
   "metadata": {},
   "outputs": [
    {
     "name": "stderr",
     "output_type": "stream",
     "text": [
      "/Users/satsuki/.pyenv/versions/3.7.10/envs/data-science/lib/python3.7/site-packages/pandas/compat/__init__.py:124: UserWarning: Could not import the lzma module. Your installed Python is incomplete. Attempting to use lzma compression will result in a RuntimeError.\n",
      "  warnings.warn(msg)\n"
     ]
    }
   ],
   "source": [
    "import os\n",
    "import pandas as pd\n",
    "import yaml\n",
    "import io\n",
    "import boto3\n",
    "from time import gmtime, strftime\n",
    "from sklearn.model_selection import train_test_split\n",
    "from sklearn.preprocessing import OneHotEncoder\n",
    "import matplotlib.pyplot as plt\n",
    "%matplotlib inline\n",
    "\n",
    "import sagemaker\n",
    "import sagemaker.amazon.common as smac\n",
    "from sagemaker import image_uris\n",
    "\n",
    "\n",
    "pd.set_option('display.max_columns', 50)"
   ]
  },
  {
   "cell_type": "code",
   "execution_count": 2,
   "id": "0650aafb",
   "metadata": {},
   "outputs": [],
   "source": [
    "import yaml\n",
    "import sagemaker\n",
    "import boto3\n",
    "import pandas as pd\n",
    "\n",
    "SETTING_FILE_PATH = \"../config/settings.yaml\"\n",
    "DATA_FOLDER_PATH = \"avazu-ctr-prediction\"\n",
    "\n",
    "with open(SETTING_FILE_PATH) as file:\n",
    "    aws_info = yaml.safe_load(file)\n",
    "        \n",
    "sess = sagemaker.Session()\n",
    "role = aws_info['aws']['sagemaker']['role']\n",
    "bucket = aws_info['aws']['sagemaker']['s3bucket']\n",
    "region = aws_info['aws']['sagemaker']['region']\n",
    "\n",
    "sm = boto3.client('sagemaker')\n",
    "s3 = boto3.client('s3')\n"
   ]
  },
  {
   "cell_type": "code",
   "execution_count": 3,
   "id": "97f3a224",
   "metadata": {},
   "outputs": [],
   "source": [
    "df_train = pd.read_csv(os.path.join(DATA_FOLDER_PATH, \"train_partial\"), dtype=\"object\")\n",
    "df_train, df_test = train_test_split(df_train, train_size=0.7, random_state=0, shuffle=True)\n"
   ]
  },
  {
   "cell_type": "code",
   "execution_count": 4,
   "id": "88761ed7",
   "metadata": {},
   "outputs": [],
   "source": [
    "train_file = \"train.csv\"\n",
    "test_file = \"test.csv\"\n",
    "\n",
    "df_train.to_csv(train_file, index=False)\n",
    "df_test.to_csv(test_file, index=False)\n",
    "\n",
    "prefix = 'custom-script-training'\n",
    "\n",
    "s3_resource_bucket = boto3.Session().resource(\"s3\").Bucket(bucket)\n",
    "\n",
    "s3_resource_bucket.Object(os.path.join(prefix, \"train\", train_file)).upload_file(train_file)\n",
    "s3_resource_bucket.Object(os.path.join(prefix, \"test\", test_file)).upload_file(test_file)\n"
   ]
  },
  {
   "cell_type": "code",
   "execution_count": 5,
   "id": "d8955770",
   "metadata": {},
   "outputs": [],
   "source": [
    "output_location = f\"s3://{bucket}/{prefix}/output\"\n",
    "\n",
    "s3_train_data = f\"s3://{bucket}/{prefix}/train/{train_file}\"\n",
    "s3_test_data = f\"s3://{bucket}/{prefix}/test/{test_file}\""
   ]
  },
  {
   "cell_type": "markdown",
   "id": "fe919db2",
   "metadata": {},
   "source": [
    "# AWS提供のコンテナ環境で実行する方法"
   ]
  },
  {
   "cell_type": "code",
   "execution_count": null,
   "id": "a0496a2c",
   "metadata": {},
   "outputs": [],
   "source": [
    "from sagemaker.sklearn.estimator import SKLearn\n",
    "\n",
    "job_name = \"custom-script-ctr-prediction-\" + strftime(\"%Y%m%d-%H-%M-%S\", gmtime())\n",
    "\n",
    "hyperparameters = {\"alpha\": 0.00001, \"eta0\": 2.0}\n",
    "enable_local_mode_training=True\n",
    "\n",
    "if enable_local_mode_training:\n",
    "    train_instance_type = \"local\"\n",
    "    inputs = {\"train\": f\"file://{train_file}\", \"test\": f\"file://{test_file}\"}\n",
    "else:\n",
    "    train_instance_type = \"ml.m5.large\"\n",
    "    inputs = {\"train\": s3_train_data, \"test\": s3_test_data}\n",
    "\n",
    "estimator_parameters = {\n",
    "    \"entry_point\": \"sklearn_script_mode.py\",\n",
    "    \"source_dir\": \"custom_script\",\n",
    "    \"framework_version\": \"0.23-1\",\n",
    "    \"py_version\": \"py3\",\n",
    "    \"instance_type\": train_instance_type,\n",
    "    \"instance_count\": 1,\n",
    "    \"hyperparameters\": hyperparameters,\n",
    "    \"output_path\": output_location,\n",
    "    \"role\": role,\n",
    "    \"base_job_name\": job_name,\n",
    "}\n",
    "\n",
    "estimator = SKLearn(**estimator_parameters)\n",
    "estimator.fit(inputs)"
   ]
  },
  {
   "cell_type": "markdown",
   "id": "e3c9b7fd",
   "metadata": {},
   "source": [
    "## AWS提供のコンテナ環境に自前ライブラリを追加して実行する方法"
   ]
  },
  {
   "cell_type": "code",
   "execution_count": 15,
   "id": "fe2fca84",
   "metadata": {},
   "outputs": [],
   "source": [
    "df_train = pd.read_csv(os.path.join(DATA_FOLDER_PATH, \"train_partial\"), dtype=\"object\")\n",
    "df_train, df_test = train_test_split(df_train, train_size=0.8, random_state=0, shuffle=True)\n",
    "df_train, df_validation = train_test_split(df_train, train_size=0.7, random_state=0, shuffle=True)\n"
   ]
  },
  {
   "cell_type": "code",
   "execution_count": 22,
   "id": "23850468",
   "metadata": {},
   "outputs": [],
   "source": [
    "df_train.to_csv('train.csv', index=False)\n",
    "df_validation.to_csv('validation.csv', index=False)\n",
    "df_test.to_csv('test.csv', index=False)"
   ]
  },
  {
   "cell_type": "code",
   "execution_count": 16,
   "id": "214405e3",
   "metadata": {},
   "outputs": [],
   "source": [
    "train_file = \"train.csv\"\n",
    "validation_file = \"validation.csv\"\n",
    "test_file = \"test.csv\"\n",
    "\n",
    "df_train.to_csv(train_file, index=False)\n",
    "df_validation.to_csv(validation_file, index=False)\n",
    "df_test.to_csv(test_file, index=False)\n",
    "\n",
    "prefix = 'third-party-library-script-training'\n",
    "\n",
    "s3_resource_bucket = boto3.Session().resource(\"s3\").Bucket(bucket)\n",
    "\n",
    "s3_resource_bucket.Object(os.path.join(prefix, \"train\", train_file)).upload_file(train_file)\n",
    "s3_resource_bucket.Object(os.path.join(prefix, \"validation\", validation_file)).upload_file(validation_file)\n",
    "s3_resource_bucket.Object(os.path.join(prefix, \"test\", test_file)).upload_file(test_file)\n"
   ]
  },
  {
   "cell_type": "code",
   "execution_count": 26,
   "id": "089e3d91",
   "metadata": {},
   "outputs": [],
   "source": [
    "output_location = f\"s3://{bucket}/{prefix}/output\"\n",
    "\n",
    "s3_train_data = f\"s3://{bucket}/{prefix}/train/{train_file}\"\n",
    "s3_validation_data = f\"s3://{bucket}/{prefix}/validation/{validation_file}\"\n",
    "s3_test_data = f\"s3://{bucket}/{prefix}/test/{test_file}\""
   ]
  },
  {
   "cell_type": "code",
   "execution_count": null,
   "id": "b8359ccb",
   "metadata": {},
   "outputs": [],
   "source": [
    "job_name = \"third-party-library-script-ctr-prediction-\" + strftime(\"%Y%m%d-%H-%M-%S\", gmtime())\n",
    "\n",
    "output_location = f\"s3://{bucket}/{prefix}/output\"\n",
    "\n",
    "s3_train_data = f\"s3://{bucket}/{prefix}/train/{train_file}\"\n",
    "s3_validation_data = f\"s3://{bucket}/{prefix}/validation/{validation_file}\"\n",
    "s3_test_data = f\"s3://{bucket}/{prefix}/test/{test_file}\"\n",
    "\n",
    "hyperparameters = {\"max_alpha\": 0.002}\n",
    "enable_local_mode_training=False\n",
    "\n",
    "if enable_local_mode_training:\n",
    "    train_instance_type = \"local\"\n",
    "    inputs = {\"train\": f\"file://{train_file}\", \"validation\": f\"file://{validation_file}\", \"test\": f\"file://{test_file}\"}\n",
    "else:\n",
    "    train_instance_type = \"ml.m5.large\"\n",
    "    inputs = {\"train\": s3_train_data, \"validation\": s3_validation_data, \"test\": s3_test_data}\n",
    "\n",
    "estimator_parameters = {\n",
    "    \"entry_point\": \"third_party_library_scirpt_mode.py\",\n",
    "    \"source_dir\": \"third_party_library\",\n",
    "    \"framework_version\": \"0.23-1\",\n",
    "    \"py_version\": \"py3\",\n",
    "    \"instance_type\": train_instance_type,\n",
    "    \"instance_count\": 1,\n",
    "    \"hyperparameters\": hyperparameters,\n",
    "    \"output_path\": output_location,\n",
    "    \"role\": role,\n",
    "    \"base_job_name\": job_name,\n",
    "}\n",
    "\n",
    "estimator = SKLearn(**estimator_parameters)\n",
    "estimator.fit(inputs)"
   ]
  },
  {
   "cell_type": "markdown",
   "id": "9831584a",
   "metadata": {},
   "source": [
    "## 独自のライブラリを使用する場合 "
   ]
  },
  {
   "cell_type": "code",
   "execution_count": null,
   "id": "8d16bd64",
   "metadata": {},
   "outputs": [],
   "source": [
    "job_name = \"custom-library-script-ctr-prediction-\" + strftime(\"%Y%m%d-%H-%M-%S\", gmtime())\n",
    "\n",
    "hyperparameters = {\"alpha\": 0.0002, \"eta0\": 3.0}\n",
    "enable_local_mode_training=False\n",
    "\n",
    "if enable_local_mode_training:\n",
    "    train_instance_type = \"local\"\n",
    "    inputs = {\"train\": f\"file://{train_file}\", \"test\": f\"file://{test_file}\"}\n",
    "else:\n",
    "    train_instance_type = \"ml.m5.large\"\n",
    "    inputs = {\"train\": s3_train_data, \"test\": s3_test_data}\n",
    "\n",
    "estimator_parameters = {\n",
    "    \"entry_point\": \"my_library_script_mode.py\",\n",
    "    \"source_dir\": \"custom_script\",\n",
    "    \"dependencies\": [\"my_custom_library\"],\n",
    "    \"framework_version\": \"0.23-1\",\n",
    "    \"py_version\": \"py3\",\n",
    "    \"instance_type\": train_instance_type,\n",
    "    \"instance_count\": 1,\n",
    "    \"hyperparameters\": hyperparameters,\n",
    "    \"output_path\": output_location,\n",
    "    \"role\": role,\n",
    "    \"base_job_name\": job_name,\n",
    "}\n",
    "\n",
    "estimator = SKLearn(**estimator_parameters)\n",
    "estimator.fit(inputs)"
   ]
  }
 ],
 "metadata": {
  "kernelspec": {
   "display_name": "Python 3 (ipykernel)",
   "language": "python",
   "name": "python3"
  },
  "language_info": {
   "codemirror_mode": {
    "name": "ipython",
    "version": 3
   },
   "file_extension": ".py",
   "mimetype": "text/x-python",
   "name": "python",
   "nbconvert_exporter": "python",
   "pygments_lexer": "ipython3",
   "version": "3.7.10"
  }
 },
 "nbformat": 4,
 "nbformat_minor": 5
}
