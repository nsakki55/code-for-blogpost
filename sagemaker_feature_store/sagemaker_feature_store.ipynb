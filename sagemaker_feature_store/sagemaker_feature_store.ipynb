{
 "cells": [
  {
   "cell_type": "markdown",
   "id": "19cc7992",
   "metadata": {},
   "source": [
    "## ライブラリ\n",
    "必要なライブラリを全てimport するようにしていますが、説明のためにコード中で必要な箇所でimportを行なっています"
   ]
  },
  {
   "cell_type": "code",
   "execution_count": null,
   "id": "e16256ab",
   "metadata": {},
   "outputs": [],
   "source": [
    "from pathlib import Path\n",
    "import yaml\n",
    "import boto3\n",
    "from datetime import datetime\n",
    "from time import strftime, gmtime\n",
    "import pandas as pd\n",
    "import warnings\n",
    "\n",
    "import sagemaker\n",
    "from sagemaker.feature_store.feature_definition import FeatureDefinition, FeatureTypeEnum\n",
    "from sagemaker.feature_store.feature_group import FeatureGroup\n",
    "\n",
    "pd.set_option('display.max_columns', 30)\n",
    "warnings.simplefilter('ignore')"
   ]
  },
  {
   "cell_type": "markdown",
   "id": "e8bcefbe",
   "metadata": {},
   "source": [
    "## データ準備"
   ]
  },
  {
   "cell_type": "code",
   "execution_count": 246,
   "id": "59821677",
   "metadata": {},
   "outputs": [],
   "source": [
    "import yaml\n",
    "import boto3\n",
    "\n",
    "import sagemaker\n",
    "\n",
    "# AWSの設定ファイル・データのあるフォルダのローカルパス\n",
    "SETTING_FILE_PATH = \"../config/settings.yaml\"\n",
    "DATASET_FOLDER_PATH = \"./avazu-ctr-prediction\"\n",
    "\n",
    "with open(SETTING_FILE_PATH) as file:\n",
    "    aws_info = yaml.safe_load(file)\n",
    "\n",
    "    \n",
    "sess = sagemaker.Session()\n",
    "role = aws_info['aws']['sagemaker']['role']\n",
    "bucket = aws_info['aws']['sagemaker']['s3bucket']\n",
    "region = boto3.Session().region_name\n",
    "\n",
    "sm = boto3.client('sagemaker', region_name=region)\n",
    "featurestore_runtime = boto3.client(\"sagemaker-featurestore-runtime\", region_name=region)"
   ]
  },
  {
   "cell_type": "code",
   "execution_count": 5,
   "id": "cb4ead25",
   "metadata": {},
   "outputs": [],
   "source": [
    "from pathlib import Path\n",
    "import pandas as pd\n",
    "\n",
    "dataset_folder = Path(DATASET_FOLDER_PATH)\n",
    "# df_train = pd.read_csv(dataset_folder / \"train\")\n",
    "# df_train_partial = df_train[df_train.index % 100 == 0]\n",
    "# df_train_partial.to_csv(dataset_folder / \"train_partial\", index=False)\n",
    "\n",
    "df_train_partial = pd.read_csv(dataset_folder / \"train_partial\")"
   ]
  },
  {
   "cell_type": "code",
   "execution_count": 184,
   "id": "01061f0c",
   "metadata": {},
   "outputs": [
    {
     "data": {
      "text/html": [
       "<div>\n",
       "<style scoped>\n",
       "    .dataframe tbody tr th:only-of-type {\n",
       "        vertical-align: middle;\n",
       "    }\n",
       "\n",
       "    .dataframe tbody tr th {\n",
       "        vertical-align: top;\n",
       "    }\n",
       "\n",
       "    .dataframe thead th {\n",
       "        text-align: right;\n",
       "    }\n",
       "</style>\n",
       "<table border=\"1\" class=\"dataframe\">\n",
       "  <thead>\n",
       "    <tr style=\"text-align: right;\">\n",
       "      <th></th>\n",
       "      <th>id</th>\n",
       "      <th>click</th>\n",
       "      <th>hour</th>\n",
       "      <th>C1</th>\n",
       "      <th>banner_pos</th>\n",
       "      <th>site_id</th>\n",
       "      <th>site_domain</th>\n",
       "      <th>site_category</th>\n",
       "      <th>app_id</th>\n",
       "      <th>app_domain</th>\n",
       "      <th>app_category</th>\n",
       "      <th>device_id</th>\n",
       "      <th>device_ip</th>\n",
       "      <th>device_model</th>\n",
       "      <th>device_type</th>\n",
       "      <th>device_conn_type</th>\n",
       "      <th>C14</th>\n",
       "      <th>C15</th>\n",
       "      <th>C16</th>\n",
       "      <th>C17</th>\n",
       "      <th>C18</th>\n",
       "      <th>C19</th>\n",
       "      <th>C20</th>\n",
       "      <th>C21</th>\n",
       "      <th>event_time</th>\n",
       "    </tr>\n",
       "  </thead>\n",
       "  <tbody>\n",
       "    <tr>\n",
       "      <th>0</th>\n",
       "      <td>1.000009e+18</td>\n",
       "      <td>0</td>\n",
       "      <td>14102100</td>\n",
       "      <td>1005</td>\n",
       "      <td>0</td>\n",
       "      <td>1fbe01fe</td>\n",
       "      <td>f3845767</td>\n",
       "      <td>28905ebd</td>\n",
       "      <td>ecad2386</td>\n",
       "      <td>7801e8d9</td>\n",
       "      <td>07d7df22</td>\n",
       "      <td>a99f214a</td>\n",
       "      <td>ddd2926e</td>\n",
       "      <td>44956a24</td>\n",
       "      <td>1</td>\n",
       "      <td>2</td>\n",
       "      <td>15706</td>\n",
       "      <td>320</td>\n",
       "      <td>50</td>\n",
       "      <td>1722</td>\n",
       "      <td>0</td>\n",
       "      <td>35</td>\n",
       "      <td>-1</td>\n",
       "      <td>79</td>\n",
       "      <td>2022-05-11T09:22:24Z</td>\n",
       "    </tr>\n",
       "    <tr>\n",
       "      <th>1</th>\n",
       "      <td>1.001579e+19</td>\n",
       "      <td>0</td>\n",
       "      <td>14102100</td>\n",
       "      <td>1005</td>\n",
       "      <td>1</td>\n",
       "      <td>856e6d3f</td>\n",
       "      <td>58a89a43</td>\n",
       "      <td>f028772b</td>\n",
       "      <td>ecad2386</td>\n",
       "      <td>7801e8d9</td>\n",
       "      <td>07d7df22</td>\n",
       "      <td>a99f214a</td>\n",
       "      <td>4375586d</td>\n",
       "      <td>5ec45883</td>\n",
       "      <td>1</td>\n",
       "      <td>0</td>\n",
       "      <td>19772</td>\n",
       "      <td>320</td>\n",
       "      <td>50</td>\n",
       "      <td>2227</td>\n",
       "      <td>0</td>\n",
       "      <td>687</td>\n",
       "      <td>100075</td>\n",
       "      <td>48</td>\n",
       "      <td>2022-05-11T09:22:24Z</td>\n",
       "    </tr>\n",
       "    <tr>\n",
       "      <th>2</th>\n",
       "      <td>1.002948e+18</td>\n",
       "      <td>0</td>\n",
       "      <td>14102100</td>\n",
       "      <td>1005</td>\n",
       "      <td>0</td>\n",
       "      <td>85f751fd</td>\n",
       "      <td>c4e18dd6</td>\n",
       "      <td>50e219e0</td>\n",
       "      <td>1779deee</td>\n",
       "      <td>2347f47a</td>\n",
       "      <td>f95efa07</td>\n",
       "      <td>a99f214a</td>\n",
       "      <td>ab9a5222</td>\n",
       "      <td>2ee63ff8</td>\n",
       "      <td>1</td>\n",
       "      <td>0</td>\n",
       "      <td>20596</td>\n",
       "      <td>320</td>\n",
       "      <td>50</td>\n",
       "      <td>2161</td>\n",
       "      <td>0</td>\n",
       "      <td>35</td>\n",
       "      <td>-1</td>\n",
       "      <td>157</td>\n",
       "      <td>2022-05-11T09:22:24Z</td>\n",
       "    </tr>\n",
       "    <tr>\n",
       "      <th>3</th>\n",
       "      <td>1.004511e+19</td>\n",
       "      <td>0</td>\n",
       "      <td>14102100</td>\n",
       "      <td>1005</td>\n",
       "      <td>0</td>\n",
       "      <td>85f751fd</td>\n",
       "      <td>c4e18dd6</td>\n",
       "      <td>50e219e0</td>\n",
       "      <td>51cedd4e</td>\n",
       "      <td>aefc06bd</td>\n",
       "      <td>0f2161f8</td>\n",
       "      <td>a99f214a</td>\n",
       "      <td>bbe53381</td>\n",
       "      <td>542422a7</td>\n",
       "      <td>1</td>\n",
       "      <td>0</td>\n",
       "      <td>19743</td>\n",
       "      <td>320</td>\n",
       "      <td>50</td>\n",
       "      <td>2264</td>\n",
       "      <td>3</td>\n",
       "      <td>427</td>\n",
       "      <td>100000</td>\n",
       "      <td>61</td>\n",
       "      <td>2022-05-11T09:22:24Z</td>\n",
       "    </tr>\n",
       "    <tr>\n",
       "      <th>4</th>\n",
       "      <td>1.005990e+19</td>\n",
       "      <td>0</td>\n",
       "      <td>14102100</td>\n",
       "      <td>1005</td>\n",
       "      <td>0</td>\n",
       "      <td>1fbe01fe</td>\n",
       "      <td>f3845767</td>\n",
       "      <td>28905ebd</td>\n",
       "      <td>ecad2386</td>\n",
       "      <td>7801e8d9</td>\n",
       "      <td>07d7df22</td>\n",
       "      <td>a99f214a</td>\n",
       "      <td>8a014cbb</td>\n",
       "      <td>04f5b394</td>\n",
       "      <td>1</td>\n",
       "      <td>0</td>\n",
       "      <td>15702</td>\n",
       "      <td>320</td>\n",
       "      <td>50</td>\n",
       "      <td>1722</td>\n",
       "      <td>0</td>\n",
       "      <td>35</td>\n",
       "      <td>-1</td>\n",
       "      <td>79</td>\n",
       "      <td>2022-05-11T09:22:24Z</td>\n",
       "    </tr>\n",
       "  </tbody>\n",
       "</table>\n",
       "</div>"
      ],
      "text/plain": [
       "             id  click      hour    C1  banner_pos   site_id site_domain  \\\n",
       "0  1.000009e+18      0  14102100  1005           0  1fbe01fe    f3845767   \n",
       "1  1.001579e+19      0  14102100  1005           1  856e6d3f    58a89a43   \n",
       "2  1.002948e+18      0  14102100  1005           0  85f751fd    c4e18dd6   \n",
       "3  1.004511e+19      0  14102100  1005           0  85f751fd    c4e18dd6   \n",
       "4  1.005990e+19      0  14102100  1005           0  1fbe01fe    f3845767   \n",
       "\n",
       "  site_category    app_id app_domain app_category device_id device_ip  \\\n",
       "0      28905ebd  ecad2386   7801e8d9     07d7df22  a99f214a  ddd2926e   \n",
       "1      f028772b  ecad2386   7801e8d9     07d7df22  a99f214a  4375586d   \n",
       "2      50e219e0  1779deee   2347f47a     f95efa07  a99f214a  ab9a5222   \n",
       "3      50e219e0  51cedd4e   aefc06bd     0f2161f8  a99f214a  bbe53381   \n",
       "4      28905ebd  ecad2386   7801e8d9     07d7df22  a99f214a  8a014cbb   \n",
       "\n",
       "  device_model  device_type  device_conn_type    C14  C15  C16   C17  C18  \\\n",
       "0     44956a24            1                 2  15706  320   50  1722    0   \n",
       "1     5ec45883            1                 0  19772  320   50  2227    0   \n",
       "2     2ee63ff8            1                 0  20596  320   50  2161    0   \n",
       "3     542422a7            1                 0  19743  320   50  2264    3   \n",
       "4     04f5b394            1                 0  15702  320   50  1722    0   \n",
       "\n",
       "   C19     C20  C21            event_time  \n",
       "0   35      -1   79  2022-05-11T09:22:24Z  \n",
       "1  687  100075   48  2022-05-11T09:22:24Z  \n",
       "2   35      -1  157  2022-05-11T09:22:24Z  \n",
       "3  427  100000   61  2022-05-11T09:22:24Z  \n",
       "4   35      -1   79  2022-05-11T09:22:24Z  "
      ]
     },
     "execution_count": 184,
     "metadata": {},
     "output_type": "execute_result"
    }
   ],
   "source": [
    "df_train_partial.head()"
   ]
  },
  {
   "cell_type": "code",
   "execution_count": 185,
   "id": "c380a848",
   "metadata": {},
   "outputs": [],
   "source": [
    "# レコードの識別子\n",
    "df_train_partial['id'] = df_train_partial.index\n",
    "\n",
    "# レコードの生成時刻を表す列を追加\n",
    "output_date = datetime.now().strftime(\"%Y-%m-%dT%H:%M:%SZ\")\n",
    "df_train_partial['event_time'] = output_date"
   ]
  },
  {
   "cell_type": "code",
   "execution_count": 186,
   "id": "ade7bdd6",
   "metadata": {},
   "outputs": [
    {
     "name": "stdout",
     "output_type": "stream",
     "text": [
      "['click', 'hour', 'C1', 'banner_pos', 'site_id', 'site_domain', 'site_category', 'app_id', 'app_domain', 'app_category', 'device_id', 'device_ip', 'device_model', 'device_type', 'device_conn_type', 'C14', 'C15', 'C16', 'C17', 'C18', 'C19', 'C20', 'C21', 'id', 'event_time']\n"
     ]
    }
   ],
   "source": [
    "record_identifier_name = \"id\"  # レコードの識別子\n",
    "event_time_feature_name = \"event_time\"  # レコードの生成時刻\n",
    "\n",
    "feature_names = [\n",
    "    \"click\",\n",
    "    \"hour\",\n",
    "    \"C1\",\n",
    "    \"banner_pos\",\n",
    "    \"site_id\",\n",
    "    \"site_domain\",\n",
    "    \"site_category\",\n",
    "    \"app_id\",\n",
    "    \"app_domain\",\n",
    "    \"app_category\",\n",
    "    \"device_id\",\n",
    "    \"device_ip\",\n",
    "    \"device_model\",\n",
    "    \"device_type\",\n",
    "    \"device_conn_type\",\n",
    "    \"C14\",\n",
    "    \"C15\",\n",
    "    \"C16\",\n",
    "    \"C17\",\n",
    "    \"C18\",\n",
    "    \"C19\",\n",
    "    \"C20\",\n",
    "    \"C21\",\n",
    "] + [record_identifier_name, event_time_feature_name]\n",
    "\n",
    "print(feature_names)"
   ]
  },
  {
   "cell_type": "markdown",
   "id": "5a23e799",
   "metadata": {},
   "source": [
    "## Feature Group の作成"
   ]
  },
  {
   "cell_type": "code",
   "execution_count": 187,
   "id": "98a9df60",
   "metadata": {},
   "outputs": [
    {
     "name": "stdout",
     "output_type": "stream",
     "text": [
      "ctr-prediction-group-11-15-00-25\n"
     ]
    }
   ],
   "source": [
    "from sagemaker.feature_store.feature_definition import FeatureDefinition, FeatureTypeEnum\n",
    "from sagemaker.feature_store.feature_group import FeatureGroup\n",
    "\n",
    "prefix = \"ctr-prediction-feature-store\"\n",
    "feature_group_name = \"ctr-prediction-group\" + f\"-{strftime('%d-%H-%M-%S', gmtime())}\"\n",
    "print(feature_group_name)"
   ]
  },
  {
   "cell_type": "markdown",
   "id": "2a385558",
   "metadata": {},
   "source": [
    "### load_feature_definitions を使用して Feature Definition のスキーマを自動で識別する場合"
   ]
  },
  {
   "cell_type": "code",
   "execution_count": 188,
   "id": "f5f6e44d",
   "metadata": {},
   "outputs": [],
   "source": [
    "feature_group_auto = FeatureGroup(name=feature_group_name, sagemaker_session=sess)"
   ]
  },
  {
   "cell_type": "code",
   "execution_count": 189,
   "id": "e3af150d",
   "metadata": {},
   "outputs": [
    {
     "name": "stdout",
     "output_type": "stream",
     "text": [
      "Failed to infer Feature type based on dtype object for column site_id.\n"
     ]
    }
   ],
   "source": [
    "# pandas の DataFrameを直接入力すると ValueError がでる\n",
    "try:\n",
    "    feature_group_auto.load_feature_definitions(data_frame=df_train_partial)\n",
    "except ValueError as e:\n",
    "    print(e)"
   ]
  },
  {
   "cell_type": "code",
   "execution_count": 190,
   "id": "421ab1ed",
   "metadata": {},
   "outputs": [
    {
     "data": {
      "text/plain": [
       "id                  float64\n",
       "click                 int64\n",
       "hour                  int64\n",
       "C1                    int64\n",
       "banner_pos            int64\n",
       "site_id              object\n",
       "site_domain          object\n",
       "site_category        object\n",
       "app_id               object\n",
       "app_domain           object\n",
       "app_category         object\n",
       "device_id            object\n",
       "device_ip            object\n",
       "device_model         object\n",
       "device_type           int64\n",
       "device_conn_type      int64\n",
       "C14                   int64\n",
       "C15                   int64\n",
       "C16                   int64\n",
       "C17                   int64\n",
       "C18                   int64\n",
       "C19                   int64\n",
       "C20                   int64\n",
       "C21                   int64\n",
       "event_time           object\n",
       "dtype: object"
      ]
     },
     "execution_count": 190,
     "metadata": {},
     "output_type": "execute_result"
    }
   ],
   "source": [
    "df_train_partial.dtypes"
   ]
  },
  {
   "cell_type": "code",
   "execution_count": 191,
   "id": "23a99854",
   "metadata": {},
   "outputs": [],
   "source": [
    "# Pandas の object 型を Feature Group が認識できる string 型に変換する\n",
    "def cast_object_to_string(df: pd.DataFrame) -> pd.DataFrame:\n",
    "    df_tmp = df.copy()\n",
    "    for label in df_tmp.columns:\n",
    "        if df_tmp.dtypes[label] == 'object':\n",
    "            df_tmp[label] = df_tmp[label].astype(\"str\").astype(\"string\")\n",
    "    return df_tmp"
   ]
  },
  {
   "cell_type": "code",
   "execution_count": 192,
   "id": "d6494478",
   "metadata": {},
   "outputs": [
    {
     "data": {
      "text/plain": [
       "id                  float64\n",
       "click                 int64\n",
       "hour                  int64\n",
       "C1                    int64\n",
       "banner_pos            int64\n",
       "site_id              string\n",
       "site_domain          string\n",
       "site_category        string\n",
       "app_id               string\n",
       "app_domain           string\n",
       "app_category         string\n",
       "device_id            string\n",
       "device_ip            string\n",
       "device_model         string\n",
       "device_type           int64\n",
       "device_conn_type      int64\n",
       "C14                   int64\n",
       "C15                   int64\n",
       "C16                   int64\n",
       "C17                   int64\n",
       "C18                   int64\n",
       "C19                   int64\n",
       "C20                   int64\n",
       "C21                   int64\n",
       "event_time           string\n",
       "dtype: object"
      ]
     },
     "execution_count": 192,
     "metadata": {},
     "output_type": "execute_result"
    }
   ],
   "source": [
    "cast_object_to_string(df_train_partial).dtypes"
   ]
  },
  {
   "cell_type": "code",
   "execution_count": 193,
   "id": "bd260056",
   "metadata": {},
   "outputs": [
    {
     "data": {
      "text/plain": [
       "[FeatureDefinition(feature_name='id', feature_type=<FeatureTypeEnum.FRACTIONAL: 'Fractional'>),\n",
       " FeatureDefinition(feature_name='click', feature_type=<FeatureTypeEnum.INTEGRAL: 'Integral'>),\n",
       " FeatureDefinition(feature_name='hour', feature_type=<FeatureTypeEnum.INTEGRAL: 'Integral'>),\n",
       " FeatureDefinition(feature_name='C1', feature_type=<FeatureTypeEnum.INTEGRAL: 'Integral'>),\n",
       " FeatureDefinition(feature_name='banner_pos', feature_type=<FeatureTypeEnum.INTEGRAL: 'Integral'>),\n",
       " FeatureDefinition(feature_name='site_id', feature_type=<FeatureTypeEnum.STRING: 'String'>),\n",
       " FeatureDefinition(feature_name='site_domain', feature_type=<FeatureTypeEnum.STRING: 'String'>),\n",
       " FeatureDefinition(feature_name='site_category', feature_type=<FeatureTypeEnum.STRING: 'String'>),\n",
       " FeatureDefinition(feature_name='app_id', feature_type=<FeatureTypeEnum.STRING: 'String'>),\n",
       " FeatureDefinition(feature_name='app_domain', feature_type=<FeatureTypeEnum.STRING: 'String'>),\n",
       " FeatureDefinition(feature_name='app_category', feature_type=<FeatureTypeEnum.STRING: 'String'>),\n",
       " FeatureDefinition(feature_name='device_id', feature_type=<FeatureTypeEnum.STRING: 'String'>),\n",
       " FeatureDefinition(feature_name='device_ip', feature_type=<FeatureTypeEnum.STRING: 'String'>),\n",
       " FeatureDefinition(feature_name='device_model', feature_type=<FeatureTypeEnum.STRING: 'String'>),\n",
       " FeatureDefinition(feature_name='device_type', feature_type=<FeatureTypeEnum.INTEGRAL: 'Integral'>),\n",
       " FeatureDefinition(feature_name='device_conn_type', feature_type=<FeatureTypeEnum.INTEGRAL: 'Integral'>),\n",
       " FeatureDefinition(feature_name='C14', feature_type=<FeatureTypeEnum.INTEGRAL: 'Integral'>),\n",
       " FeatureDefinition(feature_name='C15', feature_type=<FeatureTypeEnum.INTEGRAL: 'Integral'>),\n",
       " FeatureDefinition(feature_name='C16', feature_type=<FeatureTypeEnum.INTEGRAL: 'Integral'>),\n",
       " FeatureDefinition(feature_name='C17', feature_type=<FeatureTypeEnum.INTEGRAL: 'Integral'>),\n",
       " FeatureDefinition(feature_name='C18', feature_type=<FeatureTypeEnum.INTEGRAL: 'Integral'>),\n",
       " FeatureDefinition(feature_name='C19', feature_type=<FeatureTypeEnum.INTEGRAL: 'Integral'>),\n",
       " FeatureDefinition(feature_name='C20', feature_type=<FeatureTypeEnum.INTEGRAL: 'Integral'>),\n",
       " FeatureDefinition(feature_name='C21', feature_type=<FeatureTypeEnum.INTEGRAL: 'Integral'>),\n",
       " FeatureDefinition(feature_name='event_time', feature_type=<FeatureTypeEnum.STRING: 'String'>)]"
      ]
     },
     "execution_count": 193,
     "metadata": {},
     "output_type": "execute_result"
    }
   ],
   "source": [
    "feature_group_auto.load_feature_definitions(data_frame=cast_object_to_string(df_train_partial))"
   ]
  },
  {
   "cell_type": "code",
   "execution_count": 194,
   "id": "880f6b1c",
   "metadata": {},
   "outputs": [],
   "source": [
    "del feature_group_auto"
   ]
  },
  {
   "cell_type": "markdown",
   "id": "16f7bcdc",
   "metadata": {},
   "source": [
    "### 自分で定義したFeature Definition のスキーマを使用する場合"
   ]
  },
  {
   "cell_type": "code",
   "execution_count": 253,
   "id": "c175b32f",
   "metadata": {},
   "outputs": [
    {
     "data": {
      "text/plain": [
       "[FeatureDefinition(feature_name='click', feature_type=<FeatureTypeEnum.STRING: 'String'>),\n",
       " FeatureDefinition(feature_name='hour', feature_type=<FeatureTypeEnum.STRING: 'String'>),\n",
       " FeatureDefinition(feature_name='C1', feature_type=<FeatureTypeEnum.STRING: 'String'>),\n",
       " FeatureDefinition(feature_name='banner_pos', feature_type=<FeatureTypeEnum.STRING: 'String'>),\n",
       " FeatureDefinition(feature_name='site_id', feature_type=<FeatureTypeEnum.STRING: 'String'>),\n",
       " FeatureDefinition(feature_name='site_domain', feature_type=<FeatureTypeEnum.STRING: 'String'>),\n",
       " FeatureDefinition(feature_name='site_category', feature_type=<FeatureTypeEnum.STRING: 'String'>),\n",
       " FeatureDefinition(feature_name='app_id', feature_type=<FeatureTypeEnum.STRING: 'String'>),\n",
       " FeatureDefinition(feature_name='app_domain', feature_type=<FeatureTypeEnum.STRING: 'String'>),\n",
       " FeatureDefinition(feature_name='app_category', feature_type=<FeatureTypeEnum.STRING: 'String'>),\n",
       " FeatureDefinition(feature_name='device_id', feature_type=<FeatureTypeEnum.STRING: 'String'>),\n",
       " FeatureDefinition(feature_name='device_ip', feature_type=<FeatureTypeEnum.STRING: 'String'>),\n",
       " FeatureDefinition(feature_name='device_model', feature_type=<FeatureTypeEnum.STRING: 'String'>),\n",
       " FeatureDefinition(feature_name='device_type', feature_type=<FeatureTypeEnum.STRING: 'String'>),\n",
       " FeatureDefinition(feature_name='device_conn_type', feature_type=<FeatureTypeEnum.STRING: 'String'>),\n",
       " FeatureDefinition(feature_name='C14', feature_type=<FeatureTypeEnum.STRING: 'String'>),\n",
       " FeatureDefinition(feature_name='C15', feature_type=<FeatureTypeEnum.STRING: 'String'>),\n",
       " FeatureDefinition(feature_name='C16', feature_type=<FeatureTypeEnum.STRING: 'String'>),\n",
       " FeatureDefinition(feature_name='C17', feature_type=<FeatureTypeEnum.STRING: 'String'>),\n",
       " FeatureDefinition(feature_name='C18', feature_type=<FeatureTypeEnum.STRING: 'String'>),\n",
       " FeatureDefinition(feature_name='C19', feature_type=<FeatureTypeEnum.STRING: 'String'>),\n",
       " FeatureDefinition(feature_name='C20', feature_type=<FeatureTypeEnum.STRING: 'String'>),\n",
       " FeatureDefinition(feature_name='C21', feature_type=<FeatureTypeEnum.STRING: 'String'>),\n",
       " FeatureDefinition(feature_name='id', feature_type=<FeatureTypeEnum.STRING: 'String'>),\n",
       " FeatureDefinition(feature_name='event_time', feature_type=<FeatureTypeEnum.STRING: 'String'>)]"
      ]
     },
     "execution_count": 253,
     "metadata": {},
     "output_type": "execute_result"
    }
   ],
   "source": [
    "feature_definitions = [\n",
    "    FeatureDefinition(feature_name=feature_name, feature_type=FeatureTypeEnum.STRING)\n",
    "    for feature_name in feature_names\n",
    "]\n",
    "\n",
    "feature_group_original = FeatureGroup(name=feature_group_name, feature_definitions=feature_definitions, sagemaker_session=sess)\n",
    "feature_group_original.feature_definitions"
   ]
  },
  {
   "cell_type": "code",
   "execution_count": null,
   "id": "bd3085d0",
   "metadata": {},
   "outputs": [],
   "source": [
    "feature_group_original.create(\n",
    "    s3_uri=f\"s3://{bucket}/{prefix}\", # offline feature store でデータを保存する S3 URI\n",
    "    record_identifier_name=record_identifier_name, # レコード識別子のカラム名\n",
    "    event_time_feature_name=event_time_feature_name, # レコード生成時刻のカラム名\n",
    "    role_arn=role, \n",
    "    enable_online_store=True, # online feature store を作成するか. defualt = False\n",
    "    description = \"Feature Group For CTR Prediciton\",\n",
    "    tags = [{\"Key\":\"author\", \"Value\": \"satsuki\"},{\"Key\":\"target\", \"Value\": \"click\"} ]\n",
    ") "
   ]
  },
  {
   "cell_type": "code",
   "execution_count": null,
   "id": "d0d87de0",
   "metadata": {},
   "outputs": [],
   "source": [
    "feature_group_original.describe()"
   ]
  },
  {
   "cell_type": "code",
   "execution_count": null,
   "id": "00deba0c",
   "metadata": {},
   "outputs": [],
   "source": [
    "sm.list_feature_groups()['FeatureGroupSummaries'][0]"
   ]
  },
  {
   "cell_type": "code",
   "execution_count": 263,
   "id": "07c204ca",
   "metadata": {},
   "outputs": [
    {
     "data": {
      "text/plain": [
       "0     2022-05-12T00:00:21Z\n",
       "1     2022-05-12T00:00:21Z\n",
       "2     2022-05-12T00:00:21Z\n",
       "3     2022-05-12T00:00:21Z\n",
       "4     2022-05-12T00:00:21Z\n",
       "5     2022-05-12T00:00:21Z\n",
       "6     2022-05-12T00:00:21Z\n",
       "7     2022-05-12T00:00:21Z\n",
       "8     2022-05-12T00:00:21Z\n",
       "9     2022-05-12T00:00:21Z\n",
       "10    2022-05-12T00:00:21Z\n",
       "11    2022-05-12T00:00:21Z\n",
       "12    2022-05-12T00:00:21Z\n",
       "13    2022-05-12T00:00:21Z\n",
       "14    2022-05-12T00:00:21Z\n",
       "15    2022-05-12T00:00:21Z\n",
       "16    2022-05-12T00:00:21Z\n",
       "17    2022-05-12T00:00:21Z\n",
       "18    2022-05-12T00:00:21Z\n",
       "19    2022-05-12T00:00:21Z\n",
       "Name: event_time, dtype: object"
      ]
     },
     "execution_count": 263,
     "metadata": {},
     "output_type": "execute_result"
    }
   ],
   "source": [
    "df_train_tmp['event_time']"
   ]
  },
  {
   "cell_type": "code",
   "execution_count": 279,
   "id": "3bd4d0da",
   "metadata": {},
   "outputs": [
    {
     "data": {
      "text/plain": [
       "array([0, 1])"
      ]
     },
     "execution_count": 279,
     "metadata": {},
     "output_type": "execute_result"
    }
   ],
   "source": [
    "df_train_tmp['banner_pos'].unique()"
   ]
  },
  {
   "cell_type": "markdown",
   "id": "e55cabbc",
   "metadata": {},
   "source": [
    "## データの登録"
   ]
  },
  {
   "cell_type": "code",
   "execution_count": 280,
   "id": "2a23723d",
   "metadata": {},
   "outputs": [
    {
     "data": {
      "text/plain": [
       "{'ResponseMetadata': {'RequestId': '69adf8c1-423f-4b9a-ae42-8f804504f7be',\n",
       "  'HTTPStatusCode': 200,\n",
       "  'HTTPHeaders': {'x-amzn-requestid': '69adf8c1-423f-4b9a-ae42-8f804504f7be',\n",
       "   'content-type': 'application/json',\n",
       "   'content-length': '0',\n",
       "   'date': 'Fri, 13 May 2022 06:39:31 GMT'},\n",
       "  'RetryAttempts': 0}}"
      ]
     },
     "execution_count": 280,
     "metadata": {},
     "output_type": "execute_result"
    }
   ],
   "source": [
    "# boto3 の sagemaker clientを利用\n",
    "record = [\n",
    "    {\"FeatureName\": \"id\", \"ValueAsString\": str(\"-2\")},\n",
    "    {\"FeatureName\": \"event_time\", \"ValueAsString\": str(\"2022-05-12T00:00:21Z\")},\n",
    "    {\"FeatureName\": \"click\", \"ValueAsString\": str(\"0\")},\n",
    "    {\"FeatureName\": \"C1\", \"ValueAsString\": str(\"1002\")},\n",
    "    {\"FeatureName\": \"banner_pos\", \"ValueAsString\": str(\"1\")},\n",
    "]\n",
    "\n",
    "featurestore_runtime.put_record(FeatureGroupName=feature_group_name, Record=record)\n"
   ]
  },
  {
   "cell_type": "code",
   "execution_count": 281,
   "id": "7290f000",
   "metadata": {},
   "outputs": [
    {
     "data": {
      "text/plain": [
       "{'ResponseMetadata': {'RequestId': 'dffca209-9fd9-48fd-980b-1a4d12cdbf26',\n",
       "  'HTTPStatusCode': 200,\n",
       "  'HTTPHeaders': {'x-amzn-requestid': 'dffca209-9fd9-48fd-980b-1a4d12cdbf26',\n",
       "   'content-type': 'application/json',\n",
       "   'content-length': '0',\n",
       "   'date': 'Fri, 13 May 2022 06:39:40 GMT'},\n",
       "  'RetryAttempts': 0}}"
      ]
     },
     "execution_count": 281,
     "metadata": {},
     "output_type": "execute_result"
    }
   ],
   "source": [
    "# FeatureGroup の put_recordを利用\n",
    "\n",
    "from sagemaker.feature_store.inputs import FeatureValue\n",
    "\n",
    "record = [\n",
    "    FeatureValue(feature_name=\"id\", value_as_string=str(\"-1\")),\n",
    "    FeatureValue(feature_name=\"event_time\", value_as_string=str(\"2022-05-12T00:00:21Z\")),\n",
    "    FeatureValue(feature_name=\"click\", value_as_string=str(\"1\")),\n",
    "    FeatureValue(feature_name=\"C1\", value_as_string=str(\"1005\")),\n",
    "    FeatureValue(feature_name=\"banner_pos\", value_as_string=str(\"0\")),\n",
    "]\n",
    "feature_group_original.put_record(record)\n"
   ]
  },
  {
   "cell_type": "code",
   "execution_count": 237,
   "id": "8202dbc0",
   "metadata": {},
   "outputs": [
    {
     "data": {
      "text/plain": [
       "IngestionManagerPandas(feature_group_name='ctr-prediction-group-11-15-00-25', sagemaker_session=<sagemaker.session.Session object at 0x125ed7a10>, data_frame=    id  click      hour    C1  banner_pos   site_id site_domain site_category  \\\n",
       "0    0      0  14102100  1005           0  1fbe01fe    f3845767      28905ebd   \n",
       "1    1      0  14102100  1005           1  856e6d3f    58a89a43      f028772b   \n",
       "2    2      0  14102100  1005           0  85f751fd    c4e18dd6      50e219e0   \n",
       "3    3      0  14102100  1005           0  85f751fd    c4e18dd6      50e219e0   \n",
       "4    4      0  14102100  1005           0  1fbe01fe    f3845767      28905ebd   \n",
       "5    5      0  14102100  1005           1  85f751fd    c4e18dd6      50e219e0   \n",
       "6    6      0  14102100  1005           0  85f751fd    c4e18dd6      50e219e0   \n",
       "7    7      0  14102100  1002           0  34d1d55f    97df357a      50e219e0   \n",
       "8    8      1  14102100  1005           0  1fbe01fe    f3845767      28905ebd   \n",
       "9    9      0  14102100  1005           0  85f751fd    c4e18dd6      50e219e0   \n",
       "10  10      0  14102100  1005           0  1fbe01fe    f3845767      28905ebd   \n",
       "11  11      0  14102100  1005           0  1fbe01fe    f3845767      28905ebd   \n",
       "12  12      0  14102100  1005           0  3a66a5a5    9e328a4d      f028772b   \n",
       "13  13      0  14102100  1005           1  44637516    27e3c518      f028772b   \n",
       "14  14      0  14102100  1005           0  1fbe01fe    f3845767      28905ebd   \n",
       "15  15      0  14102100  1005           1  e151e245    7e091613      f028772b   \n",
       "16  16      0  14102100  1005           1  11944c42    1a02dd86      3e814130   \n",
       "17  17      1  14102100  1005           0  1fbe01fe    f3845767      28905ebd   \n",
       "18  18      0  14102100  1005           0  85f751fd    c4e18dd6      50e219e0   \n",
       "19  19      0  14102100  1005           0  6c5b482c    7687a86e      3e814130   \n",
       "\n",
       "      app_id app_domain app_category device_id device_ip device_model  \\\n",
       "0   ecad2386   7801e8d9     07d7df22  a99f214a  ddd2926e     44956a24   \n",
       "1   ecad2386   7801e8d9     07d7df22  a99f214a  4375586d     5ec45883   \n",
       "2   1779deee   2347f47a     f95efa07  a99f214a  ab9a5222     2ee63ff8   \n",
       "3   51cedd4e   aefc06bd     0f2161f8  a99f214a  bbe53381     542422a7   \n",
       "4   ecad2386   7801e8d9     07d7df22  a99f214a  8a014cbb     04f5b394   \n",
       "5   13684a79   2347f47a     0f2161f8  0240183e  76f576f3     be6db1d7   \n",
       "6   e2fcccd2   5c5a694b     0f2161f8  4c362c9f  42951c8d     e981565c   \n",
       "7   ecad2386   7801e8d9     07d7df22  53c581eb  bc7b50e0     43e7b962   \n",
       "8   ecad2386   7801e8d9     07d7df22  a99f214a  bc7f9471     8b1aa260   \n",
       "9   2f6efcf2   813f3323     0f2161f8  a99f214a  bfe46e76     4ea23a13   \n",
       "10  ecad2386   7801e8d9     07d7df22  a99f214a  52aa6971     8a4875bd   \n",
       "11  ecad2386   7801e8d9     07d7df22  a99f214a  0489ce3f     e9b8d8d7   \n",
       "12  ecad2386   7801e8d9     07d7df22  a99f214a  e3510321     24f6b932   \n",
       "13  ecad2386   7801e8d9     07d7df22  a99f214a  02b89493     6332421a   \n",
       "14  ecad2386   7801e8d9     07d7df22  a99f214a  ceffea69     8a4875bd   \n",
       "15  ecad2386   7801e8d9     07d7df22  a99f214a  1527e004     63edf3a6   \n",
       "16  ecad2386   7801e8d9     07d7df22  a99f214a  4b2128ef     900981af   \n",
       "17  ecad2386   7801e8d9     07d7df22  a99f214a  0c8a8801     c144e605   \n",
       "18  0acbeaa3   45a51db4     f95efa07  a99f214a  056c2c1b     4ea23a13   \n",
       "19  ecad2386   7801e8d9     07d7df22  a99f214a  8a014cbb     8b1aa260   \n",
       "\n",
       "    device_type  device_conn_type    C14  C15  C16   C17  C18  C19     C20  \\\n",
       "0             1                 2  15706  320   50  1722    0   35      -1   \n",
       "1             1                 0  19772  320   50  2227    0  687  100075   \n",
       "2             1                 0  20596  320   50  2161    0   35      -1   \n",
       "3             1                 0  19743  320   50  2264    3  427  100000   \n",
       "4             1                 0  15702  320   50  1722    0   35      -1   \n",
       "5             1                 0  20596  320   50  2161    0   35      -1   \n",
       "6             1                 0  20633  320   50  2374    3   39      -1   \n",
       "7             0                 0  20170  300   50  2312    0  167  100075   \n",
       "8             1                 0  15705  320   50  1722    0   35      -1   \n",
       "9             1                 0  21611  320   50  2480    3  297  100111   \n",
       "10            1                 0  15706  320   50  1722    0   35      -1   \n",
       "11            1                 0  15705  320   50  1722    0   35      -1   \n",
       "12            1                 0  19666  300  250  2253    2  303  100026   \n",
       "13            1                 0  15708  320   50  1722    0   35      -1   \n",
       "14            1                 0  15707  320   50  1722    0   35      -1   \n",
       "15            1                 0  20970  320   50  2372    0  813  100225   \n",
       "16            1                 2  20596  320   50  2161    0   35      -1   \n",
       "17            1                 0  15708  320   50  1722    0   35      -1   \n",
       "18            1                 0  20596  320   50  2161    0   35      -1   \n",
       "19            1                 0  20016  300  250  2285    2   39      -1   \n",
       "\n",
       "    C21            event_time  \n",
       "0    79  2022-05-12T00:00:21Z  \n",
       "1    48  2022-05-12T00:00:21Z  \n",
       "2   157  2022-05-12T00:00:21Z  \n",
       "3    61  2022-05-12T00:00:21Z  \n",
       "4    79  2022-05-12T00:00:21Z  \n",
       "5   157  2022-05-12T00:00:21Z  \n",
       "6    23  2022-05-12T00:00:21Z  \n",
       "7    16  2022-05-12T00:00:21Z  \n",
       "8    79  2022-05-12T00:00:21Z  \n",
       "9    61  2022-05-12T00:00:21Z  \n",
       "10   79  2022-05-12T00:00:21Z  \n",
       "11   79  2022-05-12T00:00:21Z  \n",
       "12   52  2022-05-12T00:00:21Z  \n",
       "13   79  2022-05-12T00:00:21Z  \n",
       "14   79  2022-05-12T00:00:21Z  \n",
       "15   46  2022-05-12T00:00:21Z  \n",
       "16  157  2022-05-12T00:00:21Z  \n",
       "17   79  2022-05-12T00:00:21Z  \n",
       "18  157  2022-05-12T00:00:21Z  \n",
       "19   23  2022-05-12T00:00:21Z  , max_workers=4, _futures={<Future at 0x12831d350 state=finished returned NoneType>: (0, 5), <Future at 0x128208d10 state=finished returned NoneType>: (5, 10), <Future at 0x1281a22d0 state=finished returned NoneType>: (10, 15), <Future at 0x12807bf90 state=finished returned NoneType>: (15, 20)})"
      ]
     },
     "execution_count": 237,
     "metadata": {},
     "output_type": "execute_result"
    }
   ],
   "source": [
    "# FeatureGroup の ingest を利用\n",
    "feature_group_original.ingest(data_frame=df_train_tmp, max_workers=4, wait=True)"
   ]
  },
  {
   "cell_type": "markdown",
   "id": "57a376d8",
   "metadata": {},
   "source": [
    "## データ取り出し"
   ]
  },
  {
   "cell_type": "markdown",
   "id": "d8483f39",
   "metadata": {},
   "source": [
    "### Online Feature Store から取り出し"
   ]
  },
  {
   "cell_type": "code",
   "execution_count": 273,
   "id": "0c4d8a75",
   "metadata": {},
   "outputs": [
    {
     "data": {
      "text/plain": [
       "{'ResponseMetadata': {'RequestId': '2f934a36-601f-4c09-b5d9-d2549372bfaa',\n",
       "  'HTTPStatusCode': 200,\n",
       "  'HTTPHeaders': {'x-amzn-requestid': '2f934a36-601f-4c09-b5d9-d2549372bfaa',\n",
       "   'content-type': 'application/json',\n",
       "   'content-length': '260',\n",
       "   'date': 'Fri, 13 May 2022 06:20:10 GMT'},\n",
       "  'RetryAttempts': 0},\n",
       " 'Record': [{'FeatureName': 'click', 'ValueAsString': '1'},\n",
       "  {'FeatureName': 'C1', 'ValueAsString': '-1005'},\n",
       "  {'FeatureName': 'banner_pos', 'ValueAsString': '0'},\n",
       "  {'FeatureName': 'id', 'ValueAsString': '-1'},\n",
       "  {'FeatureName': 'event_time', 'ValueAsString': '2022-05-12T00:00:21Z'}]}"
      ]
     },
     "execution_count": 273,
     "metadata": {},
     "output_type": "execute_result"
    }
   ],
   "source": [
    "record_identifier_value = str(-1)\n",
    "response = featurestore_runtime.get_record(FeatureGroupName=feature_group_name, RecordIdentifierValueAsString=record_identifier_value)\n",
    "response"
   ]
  },
  {
   "cell_type": "code",
   "execution_count": 277,
   "id": "03c5ec98",
   "metadata": {},
   "outputs": [
    {
     "data": {
      "text/plain": [
       "{'ResponseMetadata': {'RequestId': '403840f6-28cd-439f-a74b-11732f87aa63',\n",
       "  'HTTPStatusCode': 200,\n",
       "  'HTTPHeaders': {'x-amzn-requestid': '403840f6-28cd-439f-a74b-11732f87aa63',\n",
       "   'content-type': 'application/json',\n",
       "   'content-length': '166',\n",
       "   'date': 'Fri, 13 May 2022 06:29:51 GMT'},\n",
       "  'RetryAttempts': 0},\n",
       " 'Record': [{'FeatureName': 'click', 'ValueAsString': '1'},\n",
       "  {'FeatureName': 'id', 'ValueAsString': '-2'},\n",
       "  {'FeatureName': 'event_time', 'ValueAsString': '2022-05-12T00:00:21Z'}]}"
      ]
     },
     "execution_count": 277,
     "metadata": {},
     "output_type": "execute_result"
    }
   ],
   "source": [
    "record_identifier_value = str(-2)\n",
    "response = featurestore_runtime.get_record(FeatureGroupName=feature_group_name, RecordIdentifierValueAsString=record_identifier_value)\n",
    "response"
   ]
  },
  {
   "cell_type": "code",
   "execution_count": 241,
   "id": "bde88f56",
   "metadata": {},
   "outputs": [
    {
     "data": {
      "text/plain": [
       "{'ResponseMetadata': {'RequestId': '1290bb4a-6ecc-4169-8bf6-55e96565fad7',\n",
       "  'HTTPStatusCode': 200,\n",
       "  'HTTPHeaders': {'x-amzn-requestid': '1290bb4a-6ecc-4169-8bf6-55e96565fad7',\n",
       "   'content-type': 'application/json',\n",
       "   'content-length': '5488',\n",
       "   'date': 'Wed, 11 May 2022 15:15:20 GMT'},\n",
       "  'RetryAttempts': 0},\n",
       " 'Records': [{'FeatureGroupName': 'ctr-prediction-group-11-15-00-25',\n",
       "   'RecordIdentifierValueAsString': '1',\n",
       "   'Record': [{'FeatureName': 'click', 'ValueAsString': '0'},\n",
       "    {'FeatureName': 'hour', 'ValueAsString': '14102100'},\n",
       "    {'FeatureName': 'C1', 'ValueAsString': '1005'},\n",
       "    {'FeatureName': 'banner_pos', 'ValueAsString': '1'},\n",
       "    {'FeatureName': 'site_id', 'ValueAsString': '856e6d3f'},\n",
       "    {'FeatureName': 'site_domain', 'ValueAsString': '58a89a43'},\n",
       "    {'FeatureName': 'site_category', 'ValueAsString': 'f028772b'},\n",
       "    {'FeatureName': 'app_id', 'ValueAsString': 'ecad2386'},\n",
       "    {'FeatureName': 'app_domain', 'ValueAsString': '7801e8d9'},\n",
       "    {'FeatureName': 'app_category', 'ValueAsString': '07d7df22'},\n",
       "    {'FeatureName': 'device_id', 'ValueAsString': 'a99f214a'},\n",
       "    {'FeatureName': 'device_ip', 'ValueAsString': '4375586d'},\n",
       "    {'FeatureName': 'device_model', 'ValueAsString': '5ec45883'},\n",
       "    {'FeatureName': 'device_type', 'ValueAsString': '1'},\n",
       "    {'FeatureName': 'device_conn_type', 'ValueAsString': '0'},\n",
       "    {'FeatureName': 'C14', 'ValueAsString': '19772'},\n",
       "    {'FeatureName': 'C15', 'ValueAsString': '320'},\n",
       "    {'FeatureName': 'C16', 'ValueAsString': '50'},\n",
       "    {'FeatureName': 'C17', 'ValueAsString': '2227'},\n",
       "    {'FeatureName': 'C18', 'ValueAsString': '0'},\n",
       "    {'FeatureName': 'C19', 'ValueAsString': '687'},\n",
       "    {'FeatureName': 'C20', 'ValueAsString': '100075'},\n",
       "    {'FeatureName': 'C21', 'ValueAsString': '48'},\n",
       "    {'FeatureName': 'id', 'ValueAsString': '1'},\n",
       "    {'FeatureName': 'event_time', 'ValueAsString': '2022-05-12T00:00:21Z'}]},\n",
       "  {'FeatureGroupName': 'ctr-prediction-group-11-15-00-25',\n",
       "   'RecordIdentifierValueAsString': '3',\n",
       "   'Record': [{'FeatureName': 'click', 'ValueAsString': '0'},\n",
       "    {'FeatureName': 'hour', 'ValueAsString': '14102100'},\n",
       "    {'FeatureName': 'C1', 'ValueAsString': '1005'},\n",
       "    {'FeatureName': 'banner_pos', 'ValueAsString': '0'},\n",
       "    {'FeatureName': 'site_id', 'ValueAsString': '85f751fd'},\n",
       "    {'FeatureName': 'site_domain', 'ValueAsString': 'c4e18dd6'},\n",
       "    {'FeatureName': 'site_category', 'ValueAsString': '50e219e0'},\n",
       "    {'FeatureName': 'app_id', 'ValueAsString': '51cedd4e'},\n",
       "    {'FeatureName': 'app_domain', 'ValueAsString': 'aefc06bd'},\n",
       "    {'FeatureName': 'app_category', 'ValueAsString': '0f2161f8'},\n",
       "    {'FeatureName': 'device_id', 'ValueAsString': 'a99f214a'},\n",
       "    {'FeatureName': 'device_ip', 'ValueAsString': 'bbe53381'},\n",
       "    {'FeatureName': 'device_model', 'ValueAsString': '542422a7'},\n",
       "    {'FeatureName': 'device_type', 'ValueAsString': '1'},\n",
       "    {'FeatureName': 'device_conn_type', 'ValueAsString': '0'},\n",
       "    {'FeatureName': 'C14', 'ValueAsString': '19743'},\n",
       "    {'FeatureName': 'C15', 'ValueAsString': '320'},\n",
       "    {'FeatureName': 'C16', 'ValueAsString': '50'},\n",
       "    {'FeatureName': 'C17', 'ValueAsString': '2264'},\n",
       "    {'FeatureName': 'C18', 'ValueAsString': '3'},\n",
       "    {'FeatureName': 'C19', 'ValueAsString': '427'},\n",
       "    {'FeatureName': 'C20', 'ValueAsString': '100000'},\n",
       "    {'FeatureName': 'C21', 'ValueAsString': '61'},\n",
       "    {'FeatureName': 'id', 'ValueAsString': '3'},\n",
       "    {'FeatureName': 'event_time', 'ValueAsString': '2022-05-12T00:00:21Z'}]},\n",
       "  {'FeatureGroupName': 'ctr-prediction-group-11-15-00-25',\n",
       "   'RecordIdentifierValueAsString': '2',\n",
       "   'Record': [{'FeatureName': 'click', 'ValueAsString': '0'},\n",
       "    {'FeatureName': 'hour', 'ValueAsString': '14102100'},\n",
       "    {'FeatureName': 'C1', 'ValueAsString': '1005'},\n",
       "    {'FeatureName': 'banner_pos', 'ValueAsString': '0'},\n",
       "    {'FeatureName': 'site_id', 'ValueAsString': '85f751fd'},\n",
       "    {'FeatureName': 'site_domain', 'ValueAsString': 'c4e18dd6'},\n",
       "    {'FeatureName': 'site_category', 'ValueAsString': '50e219e0'},\n",
       "    {'FeatureName': 'app_id', 'ValueAsString': '1779deee'},\n",
       "    {'FeatureName': 'app_domain', 'ValueAsString': '2347f47a'},\n",
       "    {'FeatureName': 'app_category', 'ValueAsString': 'f95efa07'},\n",
       "    {'FeatureName': 'device_id', 'ValueAsString': 'a99f214a'},\n",
       "    {'FeatureName': 'device_ip', 'ValueAsString': 'ab9a5222'},\n",
       "    {'FeatureName': 'device_model', 'ValueAsString': '2ee63ff8'},\n",
       "    {'FeatureName': 'device_type', 'ValueAsString': '1'},\n",
       "    {'FeatureName': 'device_conn_type', 'ValueAsString': '0'},\n",
       "    {'FeatureName': 'C14', 'ValueAsString': '20596'},\n",
       "    {'FeatureName': 'C15', 'ValueAsString': '320'},\n",
       "    {'FeatureName': 'C16', 'ValueAsString': '50'},\n",
       "    {'FeatureName': 'C17', 'ValueAsString': '2161'},\n",
       "    {'FeatureName': 'C18', 'ValueAsString': '0'},\n",
       "    {'FeatureName': 'C19', 'ValueAsString': '35'},\n",
       "    {'FeatureName': 'C20', 'ValueAsString': '-1'},\n",
       "    {'FeatureName': 'C21', 'ValueAsString': '157'},\n",
       "    {'FeatureName': 'id', 'ValueAsString': '2'},\n",
       "    {'FeatureName': 'event_time', 'ValueAsString': '2022-05-12T00:00:21Z'}]},\n",
       "  {'FeatureGroupName': 'ctr-prediction-group-11-15-00-25',\n",
       "   'RecordIdentifierValueAsString': '4',\n",
       "   'Record': [{'FeatureName': 'click', 'ValueAsString': '0'},\n",
       "    {'FeatureName': 'hour', 'ValueAsString': '14102100'},\n",
       "    {'FeatureName': 'C1', 'ValueAsString': '1005'},\n",
       "    {'FeatureName': 'banner_pos', 'ValueAsString': '0'},\n",
       "    {'FeatureName': 'site_id', 'ValueAsString': '1fbe01fe'},\n",
       "    {'FeatureName': 'site_domain', 'ValueAsString': 'f3845767'},\n",
       "    {'FeatureName': 'site_category', 'ValueAsString': '28905ebd'},\n",
       "    {'FeatureName': 'app_id', 'ValueAsString': 'ecad2386'},\n",
       "    {'FeatureName': 'app_domain', 'ValueAsString': '7801e8d9'},\n",
       "    {'FeatureName': 'app_category', 'ValueAsString': '07d7df22'},\n",
       "    {'FeatureName': 'device_id', 'ValueAsString': 'a99f214a'},\n",
       "    {'FeatureName': 'device_ip', 'ValueAsString': '8a014cbb'},\n",
       "    {'FeatureName': 'device_model', 'ValueAsString': '04f5b394'},\n",
       "    {'FeatureName': 'device_type', 'ValueAsString': '1'},\n",
       "    {'FeatureName': 'device_conn_type', 'ValueAsString': '0'},\n",
       "    {'FeatureName': 'C14', 'ValueAsString': '15702'},\n",
       "    {'FeatureName': 'C15', 'ValueAsString': '320'},\n",
       "    {'FeatureName': 'C16', 'ValueAsString': '50'},\n",
       "    {'FeatureName': 'C17', 'ValueAsString': '1722'},\n",
       "    {'FeatureName': 'C18', 'ValueAsString': '0'},\n",
       "    {'FeatureName': 'C19', 'ValueAsString': '35'},\n",
       "    {'FeatureName': 'C20', 'ValueAsString': '-1'},\n",
       "    {'FeatureName': 'C21', 'ValueAsString': '79'},\n",
       "    {'FeatureName': 'id', 'ValueAsString': '4'},\n",
       "    {'FeatureName': 'event_time', 'ValueAsString': '2022-05-12T00:00:21Z'}]}],\n",
       " 'Errors': [],\n",
       " 'UnprocessedIdentifiers': []}"
      ]
     },
     "execution_count": 241,
     "metadata": {},
     "output_type": "execute_result"
    }
   ],
   "source": [
    "record_identifier_values = [\"1\", \"2\", \"3\", \"4\"]\n",
    "batch_response = featurestore_runtime.batch_get_record(Identifiers=[{\"FeatureGroupName\": feature_group_name, \"RecordIdentifiersValueAsString\": record_identifier_values}])\n",
    "batch_response "
   ]
  },
  {
   "cell_type": "markdown",
   "id": "318097ac",
   "metadata": {},
   "source": [
    "### Offline Feature Store から取り出し"
   ]
  },
  {
   "cell_type": "code",
   "execution_count": 243,
   "id": "dfba392f",
   "metadata": {},
   "outputs": [
    {
     "name": "stdout",
     "output_type": "stream",
     "text": [
      "ctr-prediction-group-11-15-00-25-1652281250\n"
     ]
    }
   ],
   "source": [
    "feature_store_query = feature_group_original.athena_query()\n",
    "feature_store_table = feature_store_query.table_name\n",
    "print(feature_store_table)"
   ]
  },
  {
   "cell_type": "code",
   "execution_count": null,
   "id": "17ba3471",
   "metadata": {},
   "outputs": [],
   "source": [
    "print(feature_group.as_hive_ddl())"
   ]
  },
  {
   "cell_type": "code",
   "execution_count": 282,
   "id": "26163cb0",
   "metadata": {},
   "outputs": [],
   "source": [
    "query_string = \"\"\"\n",
    "SELECT *\n",
    "FROM \"{}\" LIMIT 5\n",
    "\"\"\".format(\n",
    "    feature_store_table\n",
    ")"
   ]
  },
  {
   "cell_type": "code",
   "execution_count": 285,
   "id": "5408f4fc",
   "metadata": {},
   "outputs": [],
   "source": [
    "feature_store_query.run(query_string=query_string, output_location=\"s3://\" + bucket + \"/\" + prefix + \"/query_results/\")\n",
    "feature_store_query.wait()"
   ]
  },
  {
   "cell_type": "code",
   "execution_count": 286,
   "id": "4333628e",
   "metadata": {},
   "outputs": [
    {
     "data": {
      "text/html": [
       "<div>\n",
       "<style scoped>\n",
       "    .dataframe tbody tr th:only-of-type {\n",
       "        vertical-align: middle;\n",
       "    }\n",
       "\n",
       "    .dataframe tbody tr th {\n",
       "        vertical-align: top;\n",
       "    }\n",
       "\n",
       "    .dataframe thead th {\n",
       "        text-align: right;\n",
       "    }\n",
       "</style>\n",
       "<table border=\"1\" class=\"dataframe\">\n",
       "  <thead>\n",
       "    <tr style=\"text-align: right;\">\n",
       "      <th></th>\n",
       "      <th>click</th>\n",
       "      <th>hour</th>\n",
       "      <th>c1</th>\n",
       "      <th>banner_pos</th>\n",
       "      <th>site_id</th>\n",
       "      <th>site_domain</th>\n",
       "      <th>site_category</th>\n",
       "      <th>app_id</th>\n",
       "      <th>app_domain</th>\n",
       "      <th>app_category</th>\n",
       "      <th>device_id</th>\n",
       "      <th>device_ip</th>\n",
       "      <th>device_model</th>\n",
       "      <th>device_type</th>\n",
       "      <th>device_conn_type</th>\n",
       "      <th>c14</th>\n",
       "      <th>c15</th>\n",
       "      <th>c16</th>\n",
       "      <th>c17</th>\n",
       "      <th>c18</th>\n",
       "      <th>c19</th>\n",
       "      <th>c20</th>\n",
       "      <th>c21</th>\n",
       "      <th>id</th>\n",
       "      <th>event_time</th>\n",
       "      <th>write_time</th>\n",
       "      <th>api_invocation_time</th>\n",
       "      <th>is_deleted</th>\n",
       "    </tr>\n",
       "  </thead>\n",
       "  <tbody>\n",
       "    <tr>\n",
       "      <th>0</th>\n",
       "      <td>0</td>\n",
       "      <td>14102100.0</td>\n",
       "      <td>1005.0</td>\n",
       "      <td>0.0</td>\n",
       "      <td>1fbe01fe</td>\n",
       "      <td>f3845767</td>\n",
       "      <td>28905ebd</td>\n",
       "      <td>ecad2386</td>\n",
       "      <td>7801e8d9</td>\n",
       "      <td>07d7df22</td>\n",
       "      <td>a99f214a</td>\n",
       "      <td>52aa6971</td>\n",
       "      <td>8a4875bd</td>\n",
       "      <td>1.0</td>\n",
       "      <td>0.0</td>\n",
       "      <td>15706.0</td>\n",
       "      <td>320.0</td>\n",
       "      <td>50.0</td>\n",
       "      <td>1722.0</td>\n",
       "      <td>0.0</td>\n",
       "      <td>35.0</td>\n",
       "      <td>-1.0</td>\n",
       "      <td>79.0</td>\n",
       "      <td>10</td>\n",
       "      <td>2022-05-12T00:00:21Z</td>\n",
       "      <td>2022-05-11 15:09:56.893</td>\n",
       "      <td>2022-05-11 15:04:45.000</td>\n",
       "      <td>False</td>\n",
       "    </tr>\n",
       "    <tr>\n",
       "      <th>1</th>\n",
       "      <td>1</td>\n",
       "      <td>14102100.0</td>\n",
       "      <td>1005.0</td>\n",
       "      <td>0.0</td>\n",
       "      <td>1fbe01fe</td>\n",
       "      <td>f3845767</td>\n",
       "      <td>28905ebd</td>\n",
       "      <td>ecad2386</td>\n",
       "      <td>7801e8d9</td>\n",
       "      <td>07d7df22</td>\n",
       "      <td>a99f214a</td>\n",
       "      <td>bc7f9471</td>\n",
       "      <td>8b1aa260</td>\n",
       "      <td>1.0</td>\n",
       "      <td>0.0</td>\n",
       "      <td>15705.0</td>\n",
       "      <td>320.0</td>\n",
       "      <td>50.0</td>\n",
       "      <td>1722.0</td>\n",
       "      <td>0.0</td>\n",
       "      <td>35.0</td>\n",
       "      <td>-1.0</td>\n",
       "      <td>79.0</td>\n",
       "      <td>8</td>\n",
       "      <td>2022-05-12T00:00:21Z</td>\n",
       "      <td>2022-05-11 15:17:17.810</td>\n",
       "      <td>2022-05-11 15:12:14.000</td>\n",
       "      <td>False</td>\n",
       "    </tr>\n",
       "    <tr>\n",
       "      <th>2</th>\n",
       "      <td>0</td>\n",
       "      <td>14102100.0</td>\n",
       "      <td>1005.0</td>\n",
       "      <td>0.0</td>\n",
       "      <td>3a66a5a5</td>\n",
       "      <td>9e328a4d</td>\n",
       "      <td>f028772b</td>\n",
       "      <td>ecad2386</td>\n",
       "      <td>7801e8d9</td>\n",
       "      <td>07d7df22</td>\n",
       "      <td>a99f214a</td>\n",
       "      <td>e3510321</td>\n",
       "      <td>24f6b932</td>\n",
       "      <td>1.0</td>\n",
       "      <td>0.0</td>\n",
       "      <td>19666.0</td>\n",
       "      <td>300.0</td>\n",
       "      <td>250.0</td>\n",
       "      <td>2253.0</td>\n",
       "      <td>2.0</td>\n",
       "      <td>303.0</td>\n",
       "      <td>100026.0</td>\n",
       "      <td>52.0</td>\n",
       "      <td>12</td>\n",
       "      <td>2022-05-12T00:00:21Z</td>\n",
       "      <td>2022-05-11 15:09:56.642</td>\n",
       "      <td>2022-05-11 15:04:48.000</td>\n",
       "      <td>False</td>\n",
       "    </tr>\n",
       "    <tr>\n",
       "      <th>3</th>\n",
       "      <td>1</td>\n",
       "      <td>14102100.0</td>\n",
       "      <td>1005.0</td>\n",
       "      <td>0.0</td>\n",
       "      <td>1fbe01fe</td>\n",
       "      <td>f3845767</td>\n",
       "      <td>28905ebd</td>\n",
       "      <td>ecad2386</td>\n",
       "      <td>7801e8d9</td>\n",
       "      <td>07d7df22</td>\n",
       "      <td>a99f214a</td>\n",
       "      <td>0c8a8801</td>\n",
       "      <td>c144e605</td>\n",
       "      <td>1.0</td>\n",
       "      <td>0.0</td>\n",
       "      <td>15708.0</td>\n",
       "      <td>320.0</td>\n",
       "      <td>50.0</td>\n",
       "      <td>1722.0</td>\n",
       "      <td>0.0</td>\n",
       "      <td>35.0</td>\n",
       "      <td>-1.0</td>\n",
       "      <td>79.0</td>\n",
       "      <td>17</td>\n",
       "      <td>2022-05-12T00:00:21Z</td>\n",
       "      <td>2022-05-11 15:09:56.642</td>\n",
       "      <td>2022-05-11 15:04:48.000</td>\n",
       "      <td>False</td>\n",
       "    </tr>\n",
       "    <tr>\n",
       "      <th>4</th>\n",
       "      <td>1</td>\n",
       "      <td>NaN</td>\n",
       "      <td>NaN</td>\n",
       "      <td>NaN</td>\n",
       "      <td>NaN</td>\n",
       "      <td>NaN</td>\n",
       "      <td>NaN</td>\n",
       "      <td>NaN</td>\n",
       "      <td>NaN</td>\n",
       "      <td>NaN</td>\n",
       "      <td>NaN</td>\n",
       "      <td>NaN</td>\n",
       "      <td>NaN</td>\n",
       "      <td>NaN</td>\n",
       "      <td>NaN</td>\n",
       "      <td>NaN</td>\n",
       "      <td>NaN</td>\n",
       "      <td>NaN</td>\n",
       "      <td>NaN</td>\n",
       "      <td>NaN</td>\n",
       "      <td>NaN</td>\n",
       "      <td>NaN</td>\n",
       "      <td>NaN</td>\n",
       "      <td>-1</td>\n",
       "      <td>2022-05-12T00:00:21Z</td>\n",
       "      <td>2022-05-13 06:34:21.256</td>\n",
       "      <td>2022-05-13 06:29:27.000</td>\n",
       "      <td>False</td>\n",
       "    </tr>\n",
       "  </tbody>\n",
       "</table>\n",
       "</div>"
      ],
      "text/plain": [
       "   click        hour      c1  banner_pos   site_id site_domain site_category  \\\n",
       "0      0  14102100.0  1005.0         0.0  1fbe01fe    f3845767      28905ebd   \n",
       "1      1  14102100.0  1005.0         0.0  1fbe01fe    f3845767      28905ebd   \n",
       "2      0  14102100.0  1005.0         0.0  3a66a5a5    9e328a4d      f028772b   \n",
       "3      1  14102100.0  1005.0         0.0  1fbe01fe    f3845767      28905ebd   \n",
       "4      1         NaN     NaN         NaN       NaN         NaN           NaN   \n",
       "\n",
       "     app_id app_domain app_category device_id device_ip device_model  \\\n",
       "0  ecad2386   7801e8d9     07d7df22  a99f214a  52aa6971     8a4875bd   \n",
       "1  ecad2386   7801e8d9     07d7df22  a99f214a  bc7f9471     8b1aa260   \n",
       "2  ecad2386   7801e8d9     07d7df22  a99f214a  e3510321     24f6b932   \n",
       "3  ecad2386   7801e8d9     07d7df22  a99f214a  0c8a8801     c144e605   \n",
       "4       NaN        NaN          NaN       NaN       NaN          NaN   \n",
       "\n",
       "   device_type  device_conn_type      c14    c15    c16     c17  c18    c19  \\\n",
       "0          1.0               0.0  15706.0  320.0   50.0  1722.0  0.0   35.0   \n",
       "1          1.0               0.0  15705.0  320.0   50.0  1722.0  0.0   35.0   \n",
       "2          1.0               0.0  19666.0  300.0  250.0  2253.0  2.0  303.0   \n",
       "3          1.0               0.0  15708.0  320.0   50.0  1722.0  0.0   35.0   \n",
       "4          NaN               NaN      NaN    NaN    NaN     NaN  NaN    NaN   \n",
       "\n",
       "        c20   c21  id            event_time               write_time  \\\n",
       "0      -1.0  79.0  10  2022-05-12T00:00:21Z  2022-05-11 15:09:56.893   \n",
       "1      -1.0  79.0   8  2022-05-12T00:00:21Z  2022-05-11 15:17:17.810   \n",
       "2  100026.0  52.0  12  2022-05-12T00:00:21Z  2022-05-11 15:09:56.642   \n",
       "3      -1.0  79.0  17  2022-05-12T00:00:21Z  2022-05-11 15:09:56.642   \n",
       "4       NaN   NaN  -1  2022-05-12T00:00:21Z  2022-05-13 06:34:21.256   \n",
       "\n",
       "       api_invocation_time  is_deleted  \n",
       "0  2022-05-11 15:04:45.000       False  \n",
       "1  2022-05-11 15:12:14.000       False  \n",
       "2  2022-05-11 15:04:48.000       False  \n",
       "3  2022-05-11 15:04:48.000       False  \n",
       "4  2022-05-13 06:29:27.000       False  "
      ]
     },
     "execution_count": 286,
     "metadata": {},
     "output_type": "execute_result"
    }
   ],
   "source": [
    "dataset = pd.DataFrame()\n",
    "dataset = feature_store_query.as_dataframe()\n",
    "dataset"
   ]
  },
  {
   "cell_type": "code",
   "execution_count": null,
   "id": "6f009c24",
   "metadata": {},
   "outputs": [],
   "source": []
  }
 ],
 "metadata": {
  "kernelspec": {
   "display_name": "Python 3 (ipykernel)",
   "language": "python",
   "name": "python3"
  },
  "language_info": {
   "codemirror_mode": {
    "name": "ipython",
    "version": 3
   },
   "file_extension": ".py",
   "mimetype": "text/x-python",
   "name": "python",
   "nbconvert_exporter": "python",
   "pygments_lexer": "ipython3",
   "version": "3.7.10"
  }
 },
 "nbformat": 4,
 "nbformat_minor": 5
}
