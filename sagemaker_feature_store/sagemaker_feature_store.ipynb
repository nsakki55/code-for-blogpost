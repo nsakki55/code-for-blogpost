{
 "cells": [
  {
   "cell_type": "code",
   "execution_count": 43,
   "id": "fe5ee689",
   "metadata": {},
   "outputs": [],
   "source": [
    "from pathlib import Path\n",
    "import yaml\n",
    "import boto3\n",
    "from datetime import datetime\n",
    "from time import strftime, gmtime\n",
    "import pandas as pd\n",
    "import warnings\n",
    "\n",
    "import sagemaker\n",
    "from sagemaker.feature_store.feature_definition import FeatureDefinition, FeatureTypeEnum\n",
    "from sagemaker.feature_store.feature_group import FeatureGroup\n",
    "\n",
    "pd.set_option('display.max_columns', 30)\n",
    "warnings.simplefilter('ignore')"
   ]
  },
  {
   "cell_type": "markdown",
   "id": "e8bcefbe",
   "metadata": {},
   "source": [
    "## データ準備"
   ]
  },
  {
   "cell_type": "code",
   "execution_count": 3,
   "id": "8d4ab494",
   "metadata": {},
   "outputs": [],
   "source": [
    "SETTING_FILE_PATH = \"../config/settings.yaml\"\n",
    "DATASET_FOLDER_PATH = \"./avazu-ctr-prediction\""
   ]
  },
  {
   "cell_type": "code",
   "execution_count": 4,
   "id": "59821677",
   "metadata": {},
   "outputs": [],
   "source": [
    "with open(SETTING_FILE_PATH) as file:\n",
    "    aws_info = yaml.safe_load(file)\n",
    "    \n",
    "sess = sagemaker.Session()\n",
    "role = aws_info['aws']['sagemaker']['role']\n",
    "bucket = aws_info['aws']['sagemaker']['s3bucket']\n",
    "region = boto3.Session().region_name\n",
    "\n",
    "sm = boto3.client('sagemaker')\n",
    "featurestore_runtime = boto3.client(\"sagemaker-featurestore-runtime\")\n",
    "s3 = boto3.client('s3')"
   ]
  },
  {
   "cell_type": "code",
   "execution_count": 5,
   "id": "cb4ead25",
   "metadata": {},
   "outputs": [],
   "source": [
    "dataset_folder = Path(DATASET_FOLDER_PATH)\n",
    "# df_train = pd.read_csv(dataset_folder / \"train\")\n",
    "# df_train_partial = df_train[df_train.index % 100 == 0]\n",
    "# df_train_partial.to_csv(dataset_folder / \"train_partial\", index=False)\n",
    "\n",
    "df_train_partial = pd.read_csv(dataset_folder / \"train_partial\")"
   ]
  },
  {
   "cell_type": "code",
   "execution_count": 9,
   "id": "01061f0c",
   "metadata": {},
   "outputs": [
    {
     "data": {
      "text/html": [
       "<div>\n",
       "<style scoped>\n",
       "    .dataframe tbody tr th:only-of-type {\n",
       "        vertical-align: middle;\n",
       "    }\n",
       "\n",
       "    .dataframe tbody tr th {\n",
       "        vertical-align: top;\n",
       "    }\n",
       "\n",
       "    .dataframe thead th {\n",
       "        text-align: right;\n",
       "    }\n",
       "</style>\n",
       "<table border=\"1\" class=\"dataframe\">\n",
       "  <thead>\n",
       "    <tr style=\"text-align: right;\">\n",
       "      <th></th>\n",
       "      <th>id</th>\n",
       "      <th>click</th>\n",
       "      <th>hour</th>\n",
       "      <th>C1</th>\n",
       "      <th>banner_pos</th>\n",
       "      <th>site_id</th>\n",
       "      <th>site_domain</th>\n",
       "      <th>site_category</th>\n",
       "      <th>app_id</th>\n",
       "      <th>app_domain</th>\n",
       "      <th>app_category</th>\n",
       "      <th>device_id</th>\n",
       "      <th>device_ip</th>\n",
       "      <th>device_model</th>\n",
       "      <th>device_type</th>\n",
       "      <th>device_conn_type</th>\n",
       "      <th>C14</th>\n",
       "      <th>C15</th>\n",
       "      <th>C16</th>\n",
       "      <th>C17</th>\n",
       "      <th>C18</th>\n",
       "      <th>C19</th>\n",
       "      <th>C20</th>\n",
       "      <th>C21</th>\n",
       "    </tr>\n",
       "  </thead>\n",
       "  <tbody>\n",
       "    <tr>\n",
       "      <th>0</th>\n",
       "      <td>1.000009e+18</td>\n",
       "      <td>0</td>\n",
       "      <td>14102100</td>\n",
       "      <td>1005</td>\n",
       "      <td>0</td>\n",
       "      <td>1fbe01fe</td>\n",
       "      <td>f3845767</td>\n",
       "      <td>28905ebd</td>\n",
       "      <td>ecad2386</td>\n",
       "      <td>7801e8d9</td>\n",
       "      <td>07d7df22</td>\n",
       "      <td>a99f214a</td>\n",
       "      <td>ddd2926e</td>\n",
       "      <td>44956a24</td>\n",
       "      <td>1</td>\n",
       "      <td>2</td>\n",
       "      <td>15706</td>\n",
       "      <td>320</td>\n",
       "      <td>50</td>\n",
       "      <td>1722</td>\n",
       "      <td>0</td>\n",
       "      <td>35</td>\n",
       "      <td>-1</td>\n",
       "      <td>79</td>\n",
       "    </tr>\n",
       "    <tr>\n",
       "      <th>1</th>\n",
       "      <td>1.001579e+19</td>\n",
       "      <td>0</td>\n",
       "      <td>14102100</td>\n",
       "      <td>1005</td>\n",
       "      <td>1</td>\n",
       "      <td>856e6d3f</td>\n",
       "      <td>58a89a43</td>\n",
       "      <td>f028772b</td>\n",
       "      <td>ecad2386</td>\n",
       "      <td>7801e8d9</td>\n",
       "      <td>07d7df22</td>\n",
       "      <td>a99f214a</td>\n",
       "      <td>4375586d</td>\n",
       "      <td>5ec45883</td>\n",
       "      <td>1</td>\n",
       "      <td>0</td>\n",
       "      <td>19772</td>\n",
       "      <td>320</td>\n",
       "      <td>50</td>\n",
       "      <td>2227</td>\n",
       "      <td>0</td>\n",
       "      <td>687</td>\n",
       "      <td>100075</td>\n",
       "      <td>48</td>\n",
       "    </tr>\n",
       "    <tr>\n",
       "      <th>2</th>\n",
       "      <td>1.002948e+18</td>\n",
       "      <td>0</td>\n",
       "      <td>14102100</td>\n",
       "      <td>1005</td>\n",
       "      <td>0</td>\n",
       "      <td>85f751fd</td>\n",
       "      <td>c4e18dd6</td>\n",
       "      <td>50e219e0</td>\n",
       "      <td>1779deee</td>\n",
       "      <td>2347f47a</td>\n",
       "      <td>f95efa07</td>\n",
       "      <td>a99f214a</td>\n",
       "      <td>ab9a5222</td>\n",
       "      <td>2ee63ff8</td>\n",
       "      <td>1</td>\n",
       "      <td>0</td>\n",
       "      <td>20596</td>\n",
       "      <td>320</td>\n",
       "      <td>50</td>\n",
       "      <td>2161</td>\n",
       "      <td>0</td>\n",
       "      <td>35</td>\n",
       "      <td>-1</td>\n",
       "      <td>157</td>\n",
       "    </tr>\n",
       "    <tr>\n",
       "      <th>3</th>\n",
       "      <td>1.004511e+19</td>\n",
       "      <td>0</td>\n",
       "      <td>14102100</td>\n",
       "      <td>1005</td>\n",
       "      <td>0</td>\n",
       "      <td>85f751fd</td>\n",
       "      <td>c4e18dd6</td>\n",
       "      <td>50e219e0</td>\n",
       "      <td>51cedd4e</td>\n",
       "      <td>aefc06bd</td>\n",
       "      <td>0f2161f8</td>\n",
       "      <td>a99f214a</td>\n",
       "      <td>bbe53381</td>\n",
       "      <td>542422a7</td>\n",
       "      <td>1</td>\n",
       "      <td>0</td>\n",
       "      <td>19743</td>\n",
       "      <td>320</td>\n",
       "      <td>50</td>\n",
       "      <td>2264</td>\n",
       "      <td>3</td>\n",
       "      <td>427</td>\n",
       "      <td>100000</td>\n",
       "      <td>61</td>\n",
       "    </tr>\n",
       "    <tr>\n",
       "      <th>4</th>\n",
       "      <td>1.005990e+19</td>\n",
       "      <td>0</td>\n",
       "      <td>14102100</td>\n",
       "      <td>1005</td>\n",
       "      <td>0</td>\n",
       "      <td>1fbe01fe</td>\n",
       "      <td>f3845767</td>\n",
       "      <td>28905ebd</td>\n",
       "      <td>ecad2386</td>\n",
       "      <td>7801e8d9</td>\n",
       "      <td>07d7df22</td>\n",
       "      <td>a99f214a</td>\n",
       "      <td>8a014cbb</td>\n",
       "      <td>04f5b394</td>\n",
       "      <td>1</td>\n",
       "      <td>0</td>\n",
       "      <td>15702</td>\n",
       "      <td>320</td>\n",
       "      <td>50</td>\n",
       "      <td>1722</td>\n",
       "      <td>0</td>\n",
       "      <td>35</td>\n",
       "      <td>-1</td>\n",
       "      <td>79</td>\n",
       "    </tr>\n",
       "  </tbody>\n",
       "</table>\n",
       "</div>"
      ],
      "text/plain": [
       "             id  click      hour    C1  banner_pos   site_id site_domain  \\\n",
       "0  1.000009e+18      0  14102100  1005           0  1fbe01fe    f3845767   \n",
       "1  1.001579e+19      0  14102100  1005           1  856e6d3f    58a89a43   \n",
       "2  1.002948e+18      0  14102100  1005           0  85f751fd    c4e18dd6   \n",
       "3  1.004511e+19      0  14102100  1005           0  85f751fd    c4e18dd6   \n",
       "4  1.005990e+19      0  14102100  1005           0  1fbe01fe    f3845767   \n",
       "\n",
       "  site_category    app_id app_domain app_category device_id device_ip  \\\n",
       "0      28905ebd  ecad2386   7801e8d9     07d7df22  a99f214a  ddd2926e   \n",
       "1      f028772b  ecad2386   7801e8d9     07d7df22  a99f214a  4375586d   \n",
       "2      50e219e0  1779deee   2347f47a     f95efa07  a99f214a  ab9a5222   \n",
       "3      50e219e0  51cedd4e   aefc06bd     0f2161f8  a99f214a  bbe53381   \n",
       "4      28905ebd  ecad2386   7801e8d9     07d7df22  a99f214a  8a014cbb   \n",
       "\n",
       "  device_model  device_type  device_conn_type    C14  C15  C16   C17  C18  \\\n",
       "0     44956a24            1                 2  15706  320   50  1722    0   \n",
       "1     5ec45883            1                 0  19772  320   50  2227    0   \n",
       "2     2ee63ff8            1                 0  20596  320   50  2161    0   \n",
       "3     542422a7            1                 0  19743  320   50  2264    3   \n",
       "4     04f5b394            1                 0  15702  320   50  1722    0   \n",
       "\n",
       "   C19     C20  C21  \n",
       "0   35      -1   79  \n",
       "1  687  100075   48  \n",
       "2   35      -1  157  \n",
       "3  427  100000   61  \n",
       "4   35      -1   79  "
      ]
     },
     "execution_count": 9,
     "metadata": {},
     "output_type": "execute_result"
    }
   ],
   "source": [
    "df_train_partial.head()"
   ]
  },
  {
   "cell_type": "code",
   "execution_count": 25,
   "id": "6559a513",
   "metadata": {},
   "outputs": [],
   "source": [
    "# レコードの生成時刻を表す列を追加\n",
    "output_date = datetime.now().strftime(\"%Y-%m-%dT%H:%M:%SZ\")\n",
    "df_train_partial['event_time'] = output_date"
   ]
  },
  {
   "cell_type": "code",
   "execution_count": 26,
   "id": "ade7bdd6",
   "metadata": {},
   "outputs": [
    {
     "name": "stdout",
     "output_type": "stream",
     "text": [
      "['click', 'hour', 'C1', 'banner_pos', 'site_id', 'site_domain', 'site_category', 'app_id', 'app_domain', 'app_category', 'device_id', 'device_ip', 'device_model', 'device_type', 'device_conn_type', 'C14', 'C15', 'C16', 'C17', 'C18', 'C19', 'C20', 'C21', 'id', 'event_time']\n"
     ]
    }
   ],
   "source": [
    "record_identifier_name = \"id\" # レコードの識別子\n",
    "event_time_feature_name = \"event_time\" # レコードの生成時刻\n",
    "\n",
    "feature_names = ['click', 'hour', 'C1', 'banner_pos', 'site_id', 'site_domain',\n",
    "                            'site_category', 'app_id', 'app_domain', 'app_category', 'device_id',\n",
    "                            'device_ip', 'device_model', 'device_type', 'device_conn_type', 'C14',\n",
    "                            'C15', 'C16', 'C17', 'C18', 'C19', 'C20', 'C21'] + [record_identifier_name, event_time_feature_name]\n",
    "print(feature_names)"
   ]
  },
  {
   "cell_type": "markdown",
   "id": "5a23e799",
   "metadata": {},
   "source": [
    "## Feature Group の作成"
   ]
  },
  {
   "cell_type": "code",
   "execution_count": 100,
   "id": "075cc754",
   "metadata": {},
   "outputs": [
    {
     "name": "stdout",
     "output_type": "stream",
     "text": [
      "ctr-prediction-group-11-00-53-30\n"
     ]
    }
   ],
   "source": [
    "prefix = \"ctr-prediction-feature-store\"\n",
    "feature_group_name = \"ctr-prediction-group\" + f\"-{strftime('%d-%H-%M-%S', gmtime())}\"\n",
    "print(feature_group_name)"
   ]
  },
  {
   "cell_type": "markdown",
   "id": "b134a273",
   "metadata": {},
   "source": [
    "### load_feature_definitions を使用して Feature Definition のスキーマを自動で識別する場合"
   ]
  },
  {
   "cell_type": "code",
   "execution_count": 68,
   "id": "f5f6e44d",
   "metadata": {},
   "outputs": [],
   "source": [
    "feature_group_auto = FeatureGroup(name=feature_group_name, sagemaker_session=sess)"
   ]
  },
  {
   "cell_type": "code",
   "execution_count": 69,
   "id": "e3af150d",
   "metadata": {},
   "outputs": [
    {
     "name": "stdout",
     "output_type": "stream",
     "text": [
      "Failed to infer Feature type based on dtype object for column site_id.\n"
     ]
    }
   ],
   "source": [
    "# pandas の DataFrameを直接入力すると ValueError がでる\n",
    "try:\n",
    "    feature_group_auto.load_feature_definitions(data_frame=df_train_partial)\n",
    "except ValueError as e:\n",
    "    print(e)"
   ]
  },
  {
   "cell_type": "code",
   "execution_count": 57,
   "id": "421ab1ed",
   "metadata": {},
   "outputs": [
    {
     "data": {
      "text/plain": [
       "id                  float64\n",
       "click                 int64\n",
       "hour                  int64\n",
       "C1                    int64\n",
       "banner_pos            int64\n",
       "site_id              object\n",
       "site_domain          object\n",
       "site_category        object\n",
       "app_id               object\n",
       "app_domain           object\n",
       "app_category         object\n",
       "device_id            object\n",
       "device_ip            object\n",
       "device_model         object\n",
       "device_type           int64\n",
       "device_conn_type      int64\n",
       "C14                   int64\n",
       "C15                   int64\n",
       "C16                   int64\n",
       "C17                   int64\n",
       "C18                   int64\n",
       "C19                   int64\n",
       "C20                   int64\n",
       "C21                   int64\n",
       "event_time           object\n",
       "dtype: object"
      ]
     },
     "execution_count": 57,
     "metadata": {},
     "output_type": "execute_result"
    }
   ],
   "source": [
    "df_train_partial.dtypes"
   ]
  },
  {
   "cell_type": "code",
   "execution_count": 58,
   "id": "23a99854",
   "metadata": {},
   "outputs": [],
   "source": [
    "# Pandas の object 型を Feature Group が認識できる string 型に変換する\n",
    "def cast_object_to_string(df: pd.DataFrame) -> pd.DataFrame:\n",
    "    df_tmp = df.copy()\n",
    "    for label in df_tmp.columns:\n",
    "        if df_tmp.dtypes[label] == 'object':\n",
    "            df_tmp[label] = df_tmp[label].astype(\"str\").astype(\"string\")\n",
    "    return df_tmp"
   ]
  },
  {
   "cell_type": "code",
   "execution_count": 33,
   "id": "b2841054",
   "metadata": {},
   "outputs": [
    {
     "data": {
      "text/plain": [
       "id                  float64\n",
       "click                 int64\n",
       "hour                  int64\n",
       "C1                    int64\n",
       "banner_pos            int64\n",
       "site_id              string\n",
       "site_domain          string\n",
       "site_category        string\n",
       "app_id               string\n",
       "app_domain           string\n",
       "app_category         string\n",
       "device_id            string\n",
       "device_ip            string\n",
       "device_model         string\n",
       "device_type           int64\n",
       "device_conn_type      int64\n",
       "C14                   int64\n",
       "C15                   int64\n",
       "C16                   int64\n",
       "C17                   int64\n",
       "C18                   int64\n",
       "C19                   int64\n",
       "C20                   int64\n",
       "C21                   int64\n",
       "event_time           string\n",
       "dtype: object"
      ]
     },
     "execution_count": 33,
     "metadata": {},
     "output_type": "execute_result"
    }
   ],
   "source": [
    "cast_object_to_string(df_train_partial).dtypes"
   ]
  },
  {
   "cell_type": "code",
   "execution_count": 70,
   "id": "bd260056",
   "metadata": {},
   "outputs": [
    {
     "data": {
      "text/plain": [
       "[FeatureDefinition(feature_name='id', feature_type=<FeatureTypeEnum.FRACTIONAL: 'Fractional'>),\n",
       " FeatureDefinition(feature_name='click', feature_type=<FeatureTypeEnum.INTEGRAL: 'Integral'>),\n",
       " FeatureDefinition(feature_name='hour', feature_type=<FeatureTypeEnum.INTEGRAL: 'Integral'>),\n",
       " FeatureDefinition(feature_name='C1', feature_type=<FeatureTypeEnum.INTEGRAL: 'Integral'>),\n",
       " FeatureDefinition(feature_name='banner_pos', feature_type=<FeatureTypeEnum.INTEGRAL: 'Integral'>),\n",
       " FeatureDefinition(feature_name='site_id', feature_type=<FeatureTypeEnum.STRING: 'String'>),\n",
       " FeatureDefinition(feature_name='site_domain', feature_type=<FeatureTypeEnum.STRING: 'String'>),\n",
       " FeatureDefinition(feature_name='site_category', feature_type=<FeatureTypeEnum.STRING: 'String'>),\n",
       " FeatureDefinition(feature_name='app_id', feature_type=<FeatureTypeEnum.STRING: 'String'>),\n",
       " FeatureDefinition(feature_name='app_domain', feature_type=<FeatureTypeEnum.STRING: 'String'>),\n",
       " FeatureDefinition(feature_name='app_category', feature_type=<FeatureTypeEnum.STRING: 'String'>),\n",
       " FeatureDefinition(feature_name='device_id', feature_type=<FeatureTypeEnum.STRING: 'String'>),\n",
       " FeatureDefinition(feature_name='device_ip', feature_type=<FeatureTypeEnum.STRING: 'String'>),\n",
       " FeatureDefinition(feature_name='device_model', feature_type=<FeatureTypeEnum.STRING: 'String'>),\n",
       " FeatureDefinition(feature_name='device_type', feature_type=<FeatureTypeEnum.INTEGRAL: 'Integral'>),\n",
       " FeatureDefinition(feature_name='device_conn_type', feature_type=<FeatureTypeEnum.INTEGRAL: 'Integral'>),\n",
       " FeatureDefinition(feature_name='C14', feature_type=<FeatureTypeEnum.INTEGRAL: 'Integral'>),\n",
       " FeatureDefinition(feature_name='C15', feature_type=<FeatureTypeEnum.INTEGRAL: 'Integral'>),\n",
       " FeatureDefinition(feature_name='C16', feature_type=<FeatureTypeEnum.INTEGRAL: 'Integral'>),\n",
       " FeatureDefinition(feature_name='C17', feature_type=<FeatureTypeEnum.INTEGRAL: 'Integral'>),\n",
       " FeatureDefinition(feature_name='C18', feature_type=<FeatureTypeEnum.INTEGRAL: 'Integral'>),\n",
       " FeatureDefinition(feature_name='C19', feature_type=<FeatureTypeEnum.INTEGRAL: 'Integral'>),\n",
       " FeatureDefinition(feature_name='C20', feature_type=<FeatureTypeEnum.INTEGRAL: 'Integral'>),\n",
       " FeatureDefinition(feature_name='C21', feature_type=<FeatureTypeEnum.INTEGRAL: 'Integral'>),\n",
       " FeatureDefinition(feature_name='event_time', feature_type=<FeatureTypeEnum.STRING: 'String'>)]"
      ]
     },
     "execution_count": 70,
     "metadata": {},
     "output_type": "execute_result"
    }
   ],
   "source": [
    "feature_group_auto.load_feature_definitions(data_frame=cast_object_to_string(df_train_partial))"
   ]
  },
  {
   "cell_type": "code",
   "execution_count": 71,
   "id": "d3066c37",
   "metadata": {},
   "outputs": [],
   "source": [
    "del feature_group_auto"
   ]
  },
  {
   "cell_type": "markdown",
   "id": "485496d3",
   "metadata": {},
   "source": [
    "### 自分で定義したFeature Definition のスキーマを使用する場合"
   ]
  },
  {
   "cell_type": "code",
   "execution_count": 101,
   "id": "fc87da9b",
   "metadata": {},
   "outputs": [
    {
     "data": {
      "text/plain": [
       "[FeatureDefinition(feature_name='click', feature_type=<FeatureTypeEnum.STRING: 'String'>),\n",
       " FeatureDefinition(feature_name='hour', feature_type=<FeatureTypeEnum.STRING: 'String'>),\n",
       " FeatureDefinition(feature_name='C1', feature_type=<FeatureTypeEnum.STRING: 'String'>),\n",
       " FeatureDefinition(feature_name='banner_pos', feature_type=<FeatureTypeEnum.STRING: 'String'>),\n",
       " FeatureDefinition(feature_name='site_id', feature_type=<FeatureTypeEnum.STRING: 'String'>),\n",
       " FeatureDefinition(feature_name='site_domain', feature_type=<FeatureTypeEnum.STRING: 'String'>),\n",
       " FeatureDefinition(feature_name='site_category', feature_type=<FeatureTypeEnum.STRING: 'String'>),\n",
       " FeatureDefinition(feature_name='app_id', feature_type=<FeatureTypeEnum.STRING: 'String'>),\n",
       " FeatureDefinition(feature_name='app_domain', feature_type=<FeatureTypeEnum.STRING: 'String'>),\n",
       " FeatureDefinition(feature_name='app_category', feature_type=<FeatureTypeEnum.STRING: 'String'>),\n",
       " FeatureDefinition(feature_name='device_id', feature_type=<FeatureTypeEnum.STRING: 'String'>),\n",
       " FeatureDefinition(feature_name='device_ip', feature_type=<FeatureTypeEnum.STRING: 'String'>),\n",
       " FeatureDefinition(feature_name='device_model', feature_type=<FeatureTypeEnum.STRING: 'String'>),\n",
       " FeatureDefinition(feature_name='device_type', feature_type=<FeatureTypeEnum.STRING: 'String'>),\n",
       " FeatureDefinition(feature_name='device_conn_type', feature_type=<FeatureTypeEnum.STRING: 'String'>),\n",
       " FeatureDefinition(feature_name='C14', feature_type=<FeatureTypeEnum.STRING: 'String'>),\n",
       " FeatureDefinition(feature_name='C15', feature_type=<FeatureTypeEnum.STRING: 'String'>),\n",
       " FeatureDefinition(feature_name='C16', feature_type=<FeatureTypeEnum.STRING: 'String'>),\n",
       " FeatureDefinition(feature_name='C17', feature_type=<FeatureTypeEnum.STRING: 'String'>),\n",
       " FeatureDefinition(feature_name='C18', feature_type=<FeatureTypeEnum.STRING: 'String'>),\n",
       " FeatureDefinition(feature_name='C19', feature_type=<FeatureTypeEnum.STRING: 'String'>),\n",
       " FeatureDefinition(feature_name='C20', feature_type=<FeatureTypeEnum.STRING: 'String'>),\n",
       " FeatureDefinition(feature_name='C21', feature_type=<FeatureTypeEnum.STRING: 'String'>),\n",
       " FeatureDefinition(feature_name='id', feature_type=<FeatureTypeEnum.STRING: 'String'>),\n",
       " FeatureDefinition(feature_name='event_time', feature_type=<FeatureTypeEnum.STRING: 'String'>)]"
      ]
     },
     "execution_count": 101,
     "metadata": {},
     "output_type": "execute_result"
    }
   ],
   "source": [
    "feature_definitions = [\n",
    "    FeatureDefinition(feature_name=feature_name, feature_type=FeatureTypeEnum.STRING)\n",
    "    for feature_name in feature_names\n",
    "]\n",
    "\n",
    "feature_group_original = FeatureGroup(name=feature_group_name, feature_definitions=feature_definitions, sagemaker_session=sess)\n",
    "feature_group_original.feature_definitions"
   ]
  },
  {
   "cell_type": "code",
   "execution_count": 102,
   "id": "bd3085d0",
   "metadata": {},
   "outputs": [
    {
     "data": {
      "text/plain": [
       "{'FeatureGroupArn': 'arn:aws:sagemaker:ap-northeast-1:547760918250:feature-group/ctr-prediction-group-11-00-53-30',\n",
       " 'ResponseMetadata': {'RequestId': 'ec3991ad-98e5-4f4d-8896-e2ceb0f0f1b0',\n",
       "  'HTTPStatusCode': 200,\n",
       "  'HTTPHeaders': {'x-amzn-requestid': 'ec3991ad-98e5-4f4d-8896-e2ceb0f0f1b0',\n",
       "   'content-type': 'application/x-amz-json-1.1',\n",
       "   'content-length': '114',\n",
       "   'date': 'Wed, 11 May 2022 00:53:39 GMT'},\n",
       "  'RetryAttempts': 0}}"
      ]
     },
     "execution_count": 102,
     "metadata": {},
     "output_type": "execute_result"
    }
   ],
   "source": [
    "feature_group_original.create(\n",
    "    s3_uri=f\"s3://{bucket}/{prefix}\", # offline feature store でデータを保存する S3 URI\n",
    "    record_identifier_name = record_identifier_name, # レコード識別子のカラム名\n",
    "    event_time_feature_name=event_time_feature_name, # レコード生成時刻のカラム名\n",
    "    role_arn=role, \n",
    "    enable_online_store=True, # online feature store を作成するか. defualt = False\n",
    "    description = \"Feature Group For CTR Prediciton\",\n",
    "    tags = [{\"Key\":\"author\", \"Value\": \"satsuki\"},{\"Key\":\"target\", \"Value\": \"click\"} ]\n",
    ") "
   ]
  },
  {
   "cell_type": "code",
   "execution_count": null,
   "id": "d0d87de0",
   "metadata": {},
   "outputs": [],
   "source": [
    "feature_group_original.describe()"
   ]
  },
  {
   "cell_type": "code",
   "execution_count": null,
   "id": "00deba0c",
   "metadata": {},
   "outputs": [],
   "source": [
    "sm.list_feature_groups()['FeatureGroupSummaries'][0]"
   ]
  },
  {
   "cell_type": "markdown",
   "id": "e55cabbc",
   "metadata": {},
   "source": [
    "## データの登録"
   ]
  },
  {
   "cell_type": "code",
   "execution_count": null,
   "id": "2c86e737",
   "metadata": {},
   "outputs": [],
   "source": [
    "def cast_object_to_string(data_frame):\n",
    "    for label in data_frame.columns:\n",
    "        data_frame[label] = data_frame[label].astype(\"str\").astype(\"string\")\n",
    "    return data_frame"
   ]
  },
  {
   "cell_type": "code",
   "execution_count": 103,
   "id": "8202dbc0",
   "metadata": {},
   "outputs": [
    {
     "data": {
      "text/plain": [
       "IngestionManagerPandas(feature_group_name='ctr-prediction-group-11-00-34-02', sagemaker_session=<sagemaker.session.Session object at 0x11dd35690>, data_frame=              id  click      hour    C1  banner_pos   site_id site_domain  \\\n",
       "0   1.000009e+18      0  14102100  1005           0  1fbe01fe    f3845767   \n",
       "1   1.001579e+19      0  14102100  1005           1  856e6d3f    58a89a43   \n",
       "2   1.002948e+18      0  14102100  1005           0  85f751fd    c4e18dd6   \n",
       "3   1.004511e+19      0  14102100  1005           0  85f751fd    c4e18dd6   \n",
       "4   1.005990e+19      0  14102100  1005           0  1fbe01fe    f3845767   \n",
       "5   1.007253e+19      0  14102100  1005           1  85f751fd    c4e18dd6   \n",
       "6   1.008682e+19      0  14102100  1005           0  85f751fd    c4e18dd6   \n",
       "7   1.009971e+19      0  14102100  1002           0  34d1d55f    97df357a   \n",
       "8   1.011290e+19      1  14102100  1005           0  1fbe01fe    f3845767   \n",
       "9   1.012868e+19      0  14102100  1005           0  85f751fd    c4e18dd6   \n",
       "10  1.014359e+19      0  14102100  1005           0  1fbe01fe    f3845767   \n",
       "11  1.015999e+19      0  14102100  1005           0  1fbe01fe    f3845767   \n",
       "12  1.017391e+19      0  14102100  1005           0  3a66a5a5    9e328a4d   \n",
       "13  1.018874e+19      0  14102100  1005           1  44637516    27e3c518   \n",
       "14  1.020393e+19      0  14102100  1005           0  1fbe01fe    f3845767   \n",
       "15  1.021618e+19      0  14102100  1005           1  e151e245    7e091613   \n",
       "16  1.023223e+19      0  14102100  1005           1  11944c42    1a02dd86   \n",
       "17  1.024573e+19      1  14102100  1005           0  1fbe01fe    f3845767   \n",
       "18  1.026069e+19      0  14102100  1005           0  85f751fd    c4e18dd6   \n",
       "19  1.027520e+19      0  14102100  1005           0  6c5b482c    7687a86e   \n",
       "\n",
       "   site_category    app_id app_domain app_category device_id device_ip  \\\n",
       "0       28905ebd  ecad2386   7801e8d9     07d7df22  a99f214a  ddd2926e   \n",
       "1       f028772b  ecad2386   7801e8d9     07d7df22  a99f214a  4375586d   \n",
       "2       50e219e0  1779deee   2347f47a     f95efa07  a99f214a  ab9a5222   \n",
       "3       50e219e0  51cedd4e   aefc06bd     0f2161f8  a99f214a  bbe53381   \n",
       "4       28905ebd  ecad2386   7801e8d9     07d7df22  a99f214a  8a014cbb   \n",
       "5       50e219e0  13684a79   2347f47a     0f2161f8  0240183e  76f576f3   \n",
       "6       50e219e0  e2fcccd2   5c5a694b     0f2161f8  4c362c9f  42951c8d   \n",
       "7       50e219e0  ecad2386   7801e8d9     07d7df22  53c581eb  bc7b50e0   \n",
       "8       28905ebd  ecad2386   7801e8d9     07d7df22  a99f214a  bc7f9471   \n",
       "9       50e219e0  2f6efcf2   813f3323     0f2161f8  a99f214a  bfe46e76   \n",
       "10      28905ebd  ecad2386   7801e8d9     07d7df22  a99f214a  52aa6971   \n",
       "11      28905ebd  ecad2386   7801e8d9     07d7df22  a99f214a  0489ce3f   \n",
       "12      f028772b  ecad2386   7801e8d9     07d7df22  a99f214a  e3510321   \n",
       "13      f028772b  ecad2386   7801e8d9     07d7df22  a99f214a  02b89493   \n",
       "14      28905ebd  ecad2386   7801e8d9     07d7df22  a99f214a  ceffea69   \n",
       "15      f028772b  ecad2386   7801e8d9     07d7df22  a99f214a  1527e004   \n",
       "16      3e814130  ecad2386   7801e8d9     07d7df22  a99f214a  4b2128ef   \n",
       "17      28905ebd  ecad2386   7801e8d9     07d7df22  a99f214a  0c8a8801   \n",
       "18      50e219e0  0acbeaa3   45a51db4     f95efa07  a99f214a  056c2c1b   \n",
       "19      3e814130  ecad2386   7801e8d9     07d7df22  a99f214a  8a014cbb   \n",
       "\n",
       "   device_model  device_type  device_conn_type    C14  C15  C16   C17  C18  \\\n",
       "0      44956a24            1                 2  15706  320   50  1722    0   \n",
       "1      5ec45883            1                 0  19772  320   50  2227    0   \n",
       "2      2ee63ff8            1                 0  20596  320   50  2161    0   \n",
       "3      542422a7            1                 0  19743  320   50  2264    3   \n",
       "4      04f5b394            1                 0  15702  320   50  1722    0   \n",
       "5      be6db1d7            1                 0  20596  320   50  2161    0   \n",
       "6      e981565c            1                 0  20633  320   50  2374    3   \n",
       "7      43e7b962            0                 0  20170  300   50  2312    0   \n",
       "8      8b1aa260            1                 0  15705  320   50  1722    0   \n",
       "9      4ea23a13            1                 0  21611  320   50  2480    3   \n",
       "10     8a4875bd            1                 0  15706  320   50  1722    0   \n",
       "11     e9b8d8d7            1                 0  15705  320   50  1722    0   \n",
       "12     24f6b932            1                 0  19666  300  250  2253    2   \n",
       "13     6332421a            1                 0  15708  320   50  1722    0   \n",
       "14     8a4875bd            1                 0  15707  320   50  1722    0   \n",
       "15     63edf3a6            1                 0  20970  320   50  2372    0   \n",
       "16     900981af            1                 2  20596  320   50  2161    0   \n",
       "17     c144e605            1                 0  15708  320   50  1722    0   \n",
       "18     4ea23a13            1                 0  20596  320   50  2161    0   \n",
       "19     8b1aa260            1                 0  20016  300  250  2285    2   \n",
       "\n",
       "    C19     C20  C21            event_time  \n",
       "0    35      -1   79  2022-05-11T09:22:24Z  \n",
       "1   687  100075   48  2022-05-11T09:22:24Z  \n",
       "2    35      -1  157  2022-05-11T09:22:24Z  \n",
       "3   427  100000   61  2022-05-11T09:22:24Z  \n",
       "4    35      -1   79  2022-05-11T09:22:24Z  \n",
       "5    35      -1  157  2022-05-11T09:22:24Z  \n",
       "6    39      -1   23  2022-05-11T09:22:24Z  \n",
       "7   167  100075   16  2022-05-11T09:22:24Z  \n",
       "8    35      -1   79  2022-05-11T09:22:24Z  \n",
       "9   297  100111   61  2022-05-11T09:22:24Z  \n",
       "10   35      -1   79  2022-05-11T09:22:24Z  \n",
       "11   35      -1   79  2022-05-11T09:22:24Z  \n",
       "12  303  100026   52  2022-05-11T09:22:24Z  \n",
       "13   35      -1   79  2022-05-11T09:22:24Z  \n",
       "14   35      -1   79  2022-05-11T09:22:24Z  \n",
       "15  813  100225   46  2022-05-11T09:22:24Z  \n",
       "16   35      -1  157  2022-05-11T09:22:24Z  \n",
       "17   35      -1   79  2022-05-11T09:22:24Z  \n",
       "18   35      -1  157  2022-05-11T09:22:24Z  \n",
       "19   39      -1   23  2022-05-11T09:22:24Z  , max_workers=4, _futures={<Future at 0x125dcc2d0 state=finished returned NoneType>: (0, 5), <Future at 0x125dd97d0 state=finished returned NoneType>: (5, 10), <Future at 0x1253b0390 state=finished returned NoneType>: (10, 15), <Future at 0x125da4510 state=finished returned NoneType>: (15, 20)})"
      ]
     },
     "execution_count": 103,
     "metadata": {},
     "output_type": "execute_result"
    }
   ],
   "source": [
    "df_train_tmp = df_train_partial[:20]\n",
    "feature_group.ingest(data_frame=df_train_tmp, max_workers=4, wait=True)\n"
   ]
  },
  {
   "cell_type": "markdown",
   "id": "57a376d8",
   "metadata": {},
   "source": [
    "## データ取り出し"
   ]
  },
  {
   "cell_type": "markdown",
   "id": "b07eabf6",
   "metadata": {},
   "source": [
    "### Online Feature Store から取り出し"
   ]
  },
  {
   "cell_type": "code",
   "execution_count": 156,
   "id": "b0e4b8af",
   "metadata": {},
   "outputs": [],
   "source": [
    "\n",
    "record_identifier_value = str(1.0203931153220458e+19)\n",
    "\n",
    "r = featurestore_runtime.get_record(FeatureGroupName=feature_group_name, RecordIdentifierValueAsString=record_identifier_value)\n"
   ]
  },
  {
   "cell_type": "code",
   "execution_count": null,
   "id": "d90e516c",
   "metadata": {},
   "outputs": [],
   "source": []
  },
  {
   "cell_type": "markdown",
   "id": "901f5a25",
   "metadata": {},
   "source": [
    "### Offline Feature Store から取り出し"
   ]
  },
  {
   "cell_type": "code",
   "execution_count": 125,
   "id": "dfba392f",
   "metadata": {},
   "outputs": [],
   "source": [
    "feature_store_query = feature_group.athena_query()\n",
    "feature_store_table = feature_store_query.table_name"
   ]
  },
  {
   "cell_type": "code",
   "execution_count": 126,
   "id": "17ba3471",
   "metadata": {},
   "outputs": [
    {
     "name": "stdout",
     "output_type": "stream",
     "text": [
      "CREATE EXTERNAL TABLE IF NOT EXISTS sagemaker_featurestore.ctr-prediction-group-11-00-34-02 (\n",
      "  click STRING\n",
      "  hour STRING\n",
      "  C1 STRING\n",
      "  banner_pos STRING\n",
      "  site_id STRING\n",
      "  site_domain STRING\n",
      "  site_category STRING\n",
      "  app_id STRING\n",
      "  app_domain STRING\n",
      "  app_category STRING\n",
      "  device_id STRING\n",
      "  device_ip STRING\n",
      "  device_model STRING\n",
      "  device_type STRING\n",
      "  device_conn_type STRING\n",
      "  C14 STRING\n",
      "  C15 STRING\n",
      "  C16 STRING\n",
      "  C17 STRING\n",
      "  C18 STRING\n",
      "  C19 STRING\n",
      "  C20 STRING\n",
      "  C21 STRING\n",
      "  id STRING\n",
      "  event_time STRING\n",
      "  write_time TIMESTAMP\n",
      "  event_time TIMESTAMP\n",
      "  is_deleted BOOLEAN\n",
      ")\n",
      "ROW FORMAT SERDE 'org.apache.hadoop.hive.ql.io.parquet.serde.ParquetHiveSerDe'\n",
      "  STORED AS\n",
      "  INPUTFORMAT 'parquet.hive.DeprecatedParquetInputFormat'\n",
      "  OUTPUTFORMAT 'parquet.hive.DeprecatedParquetOutputFormat'\n",
      "LOCATION 's3://ctr-prediction/ctr-prediction-feature-store/547760918250/sagemaker/ap-northeast-1/offline-store/ctr-prediction-group-11-00-34-02'\n"
     ]
    }
   ],
   "source": [
    "print(feature_group.as_hive_ddl())"
   ]
  },
  {
   "cell_type": "code",
   "execution_count": 127,
   "id": "26163cb0",
   "metadata": {},
   "outputs": [],
   "source": [
    "query_string = \"\"\"\n",
    "SELECT *\n",
    "FROM \"{}\" LIMIT 5\n",
    "\"\"\".format(\n",
    "    feature_store_table\n",
    ")\n"
   ]
  },
  {
   "cell_type": "code",
   "execution_count": 146,
   "id": "5408f4fc",
   "metadata": {},
   "outputs": [],
   "source": [
    "feature_store_query.run(query_string=query_string, output_location=\"s3://\" + bucket + \"/\" + prefix + \"/query_results/\")\n",
    "\n",
    "feature_store_query.wait()"
   ]
  },
  {
   "cell_type": "code",
   "execution_count": 147,
   "id": "4333628e",
   "metadata": {},
   "outputs": [
    {
     "data": {
      "text/html": [
       "<div>\n",
       "<style scoped>\n",
       "    .dataframe tbody tr th:only-of-type {\n",
       "        vertical-align: middle;\n",
       "    }\n",
       "\n",
       "    .dataframe tbody tr th {\n",
       "        vertical-align: top;\n",
       "    }\n",
       "\n",
       "    .dataframe thead th {\n",
       "        text-align: right;\n",
       "    }\n",
       "</style>\n",
       "<table border=\"1\" class=\"dataframe\">\n",
       "  <thead>\n",
       "    <tr style=\"text-align: right;\">\n",
       "      <th></th>\n",
       "      <th>click</th>\n",
       "      <th>hour</th>\n",
       "      <th>c1</th>\n",
       "      <th>banner_pos</th>\n",
       "      <th>site_id</th>\n",
       "      <th>site_domain</th>\n",
       "      <th>site_category</th>\n",
       "      <th>app_id</th>\n",
       "      <th>app_domain</th>\n",
       "      <th>app_category</th>\n",
       "      <th>device_id</th>\n",
       "      <th>device_ip</th>\n",
       "      <th>device_model</th>\n",
       "      <th>device_type</th>\n",
       "      <th>device_conn_type</th>\n",
       "      <th>c14</th>\n",
       "      <th>c15</th>\n",
       "      <th>c16</th>\n",
       "      <th>c17</th>\n",
       "      <th>c18</th>\n",
       "      <th>c19</th>\n",
       "      <th>c20</th>\n",
       "      <th>c21</th>\n",
       "      <th>id</th>\n",
       "      <th>event_time</th>\n",
       "      <th>write_time</th>\n",
       "      <th>api_invocation_time</th>\n",
       "      <th>is_deleted</th>\n",
       "    </tr>\n",
       "  </thead>\n",
       "  <tbody>\n",
       "    <tr>\n",
       "      <th>0</th>\n",
       "      <td>0</td>\n",
       "      <td>14102100</td>\n",
       "      <td>1005</td>\n",
       "      <td>0</td>\n",
       "      <td>1fbe01fe</td>\n",
       "      <td>f3845767</td>\n",
       "      <td>28905ebd</td>\n",
       "      <td>ecad2386</td>\n",
       "      <td>7801e8d9</td>\n",
       "      <td>07d7df22</td>\n",
       "      <td>a99f214a</td>\n",
       "      <td>ceffea69</td>\n",
       "      <td>8a4875bd</td>\n",
       "      <td>1</td>\n",
       "      <td>0</td>\n",
       "      <td>15707</td>\n",
       "      <td>320</td>\n",
       "      <td>50</td>\n",
       "      <td>1722</td>\n",
       "      <td>0</td>\n",
       "      <td>35</td>\n",
       "      <td>-1</td>\n",
       "      <td>79</td>\n",
       "      <td>1.020393e+19</td>\n",
       "      <td>2022-05-11T09:22:24Z</td>\n",
       "      <td>2022-05-11 00:59:48.649</td>\n",
       "      <td>2022-05-11 00:54:53.000</td>\n",
       "      <td>False</td>\n",
       "    </tr>\n",
       "    <tr>\n",
       "      <th>1</th>\n",
       "      <td>0</td>\n",
       "      <td>14102100</td>\n",
       "      <td>1005</td>\n",
       "      <td>0</td>\n",
       "      <td>85f751fd</td>\n",
       "      <td>c4e18dd6</td>\n",
       "      <td>50e219e0</td>\n",
       "      <td>1779deee</td>\n",
       "      <td>2347f47a</td>\n",
       "      <td>f95efa07</td>\n",
       "      <td>a99f214a</td>\n",
       "      <td>ab9a5222</td>\n",
       "      <td>2ee63ff8</td>\n",
       "      <td>1</td>\n",
       "      <td>0</td>\n",
       "      <td>20596</td>\n",
       "      <td>320</td>\n",
       "      <td>50</td>\n",
       "      <td>2161</td>\n",
       "      <td>0</td>\n",
       "      <td>35</td>\n",
       "      <td>-1</td>\n",
       "      <td>157</td>\n",
       "      <td>1.002948e+18</td>\n",
       "      <td>2022-05-11T09:22:24Z</td>\n",
       "      <td>2022-05-11 00:59:56.789</td>\n",
       "      <td>2022-05-11 00:54:53.000</td>\n",
       "      <td>False</td>\n",
       "    </tr>\n",
       "    <tr>\n",
       "      <th>2</th>\n",
       "      <td>0</td>\n",
       "      <td>14102100</td>\n",
       "      <td>1005</td>\n",
       "      <td>0</td>\n",
       "      <td>6c5b482c</td>\n",
       "      <td>7687a86e</td>\n",
       "      <td>3e814130</td>\n",
       "      <td>ecad2386</td>\n",
       "      <td>7801e8d9</td>\n",
       "      <td>07d7df22</td>\n",
       "      <td>a99f214a</td>\n",
       "      <td>8a014cbb</td>\n",
       "      <td>8b1aa260</td>\n",
       "      <td>1</td>\n",
       "      <td>0</td>\n",
       "      <td>20016</td>\n",
       "      <td>300</td>\n",
       "      <td>250</td>\n",
       "      <td>2285</td>\n",
       "      <td>2</td>\n",
       "      <td>39</td>\n",
       "      <td>-1</td>\n",
       "      <td>23</td>\n",
       "      <td>1.027520e+19</td>\n",
       "      <td>2022-05-11T09:22:24Z</td>\n",
       "      <td>2022-05-11 00:59:56.789</td>\n",
       "      <td>2022-05-11 00:54:54.000</td>\n",
       "      <td>False</td>\n",
       "    </tr>\n",
       "    <tr>\n",
       "      <th>3</th>\n",
       "      <td>0</td>\n",
       "      <td>14102100</td>\n",
       "      <td>1005</td>\n",
       "      <td>1</td>\n",
       "      <td>856e6d3f</td>\n",
       "      <td>58a89a43</td>\n",
       "      <td>f028772b</td>\n",
       "      <td>ecad2386</td>\n",
       "      <td>7801e8d9</td>\n",
       "      <td>07d7df22</td>\n",
       "      <td>a99f214a</td>\n",
       "      <td>4375586d</td>\n",
       "      <td>5ec45883</td>\n",
       "      <td>1</td>\n",
       "      <td>0</td>\n",
       "      <td>19772</td>\n",
       "      <td>320</td>\n",
       "      <td>50</td>\n",
       "      <td>2227</td>\n",
       "      <td>0</td>\n",
       "      <td>687</td>\n",
       "      <td>100075</td>\n",
       "      <td>48</td>\n",
       "      <td>1.001579e+19</td>\n",
       "      <td>2022-05-11T09:22:24Z</td>\n",
       "      <td>2022-05-11 00:59:56.612</td>\n",
       "      <td>2022-05-11 00:54:53.000</td>\n",
       "      <td>False</td>\n",
       "    </tr>\n",
       "    <tr>\n",
       "      <th>4</th>\n",
       "      <td>0</td>\n",
       "      <td>14102100</td>\n",
       "      <td>1005</td>\n",
       "      <td>1</td>\n",
       "      <td>44637516</td>\n",
       "      <td>27e3c518</td>\n",
       "      <td>f028772b</td>\n",
       "      <td>ecad2386</td>\n",
       "      <td>7801e8d9</td>\n",
       "      <td>07d7df22</td>\n",
       "      <td>a99f214a</td>\n",
       "      <td>02b89493</td>\n",
       "      <td>6332421a</td>\n",
       "      <td>1</td>\n",
       "      <td>0</td>\n",
       "      <td>15708</td>\n",
       "      <td>320</td>\n",
       "      <td>50</td>\n",
       "      <td>1722</td>\n",
       "      <td>0</td>\n",
       "      <td>35</td>\n",
       "      <td>-1</td>\n",
       "      <td>79</td>\n",
       "      <td>1.018874e+19</td>\n",
       "      <td>2022-05-11T09:22:24Z</td>\n",
       "      <td>2022-05-11 00:59:59.771</td>\n",
       "      <td>2022-05-11 00:54:53.000</td>\n",
       "      <td>False</td>\n",
       "    </tr>\n",
       "  </tbody>\n",
       "</table>\n",
       "</div>"
      ],
      "text/plain": [
       "   click      hour    c1  banner_pos   site_id site_domain site_category  \\\n",
       "0      0  14102100  1005           0  1fbe01fe    f3845767      28905ebd   \n",
       "1      0  14102100  1005           0  85f751fd    c4e18dd6      50e219e0   \n",
       "2      0  14102100  1005           0  6c5b482c    7687a86e      3e814130   \n",
       "3      0  14102100  1005           1  856e6d3f    58a89a43      f028772b   \n",
       "4      0  14102100  1005           1  44637516    27e3c518      f028772b   \n",
       "\n",
       "     app_id app_domain app_category device_id device_ip device_model  \\\n",
       "0  ecad2386   7801e8d9     07d7df22  a99f214a  ceffea69     8a4875bd   \n",
       "1  1779deee   2347f47a     f95efa07  a99f214a  ab9a5222     2ee63ff8   \n",
       "2  ecad2386   7801e8d9     07d7df22  a99f214a  8a014cbb     8b1aa260   \n",
       "3  ecad2386   7801e8d9     07d7df22  a99f214a  4375586d     5ec45883   \n",
       "4  ecad2386   7801e8d9     07d7df22  a99f214a  02b89493     6332421a   \n",
       "\n",
       "   device_type  device_conn_type    c14  c15  c16   c17  c18  c19     c20  \\\n",
       "0            1                 0  15707  320   50  1722    0   35      -1   \n",
       "1            1                 0  20596  320   50  2161    0   35      -1   \n",
       "2            1                 0  20016  300  250  2285    2   39      -1   \n",
       "3            1                 0  19772  320   50  2227    0  687  100075   \n",
       "4            1                 0  15708  320   50  1722    0   35      -1   \n",
       "\n",
       "   c21            id            event_time               write_time  \\\n",
       "0   79  1.020393e+19  2022-05-11T09:22:24Z  2022-05-11 00:59:48.649   \n",
       "1  157  1.002948e+18  2022-05-11T09:22:24Z  2022-05-11 00:59:56.789   \n",
       "2   23  1.027520e+19  2022-05-11T09:22:24Z  2022-05-11 00:59:56.789   \n",
       "3   48  1.001579e+19  2022-05-11T09:22:24Z  2022-05-11 00:59:56.612   \n",
       "4   79  1.018874e+19  2022-05-11T09:22:24Z  2022-05-11 00:59:59.771   \n",
       "\n",
       "       api_invocation_time  is_deleted  \n",
       "0  2022-05-11 00:54:53.000       False  \n",
       "1  2022-05-11 00:54:53.000       False  \n",
       "2  2022-05-11 00:54:54.000       False  \n",
       "3  2022-05-11 00:54:53.000       False  \n",
       "4  2022-05-11 00:54:53.000       False  "
      ]
     },
     "execution_count": 147,
     "metadata": {},
     "output_type": "execute_result"
    }
   ],
   "source": [
    "dataset = pd.DataFrame()\n",
    "\n",
    "dataset = feature_store_query.as_dataframe()\n",
    "\n",
    "dataset"
   ]
  },
  {
   "cell_type": "code",
   "execution_count": 150,
   "id": "4f98a3fe",
   "metadata": {},
   "outputs": [
    {
     "data": {
      "text/plain": [
       "1.0203931153220458e+19"
      ]
     },
     "execution_count": 150,
     "metadata": {},
     "output_type": "execute_result"
    }
   ],
   "source": [
    "dataset['id'][0]"
   ]
  },
  {
   "cell_type": "code",
   "execution_count": 151,
   "id": "35a3245b",
   "metadata": {},
   "outputs": [
    {
     "data": {
      "text/plain": [
       "0     True\n",
       "1    False\n",
       "2    False\n",
       "3    False\n",
       "4    False\n",
       "Name: id, dtype: bool"
      ]
     },
     "execution_count": 151,
     "metadata": {},
     "output_type": "execute_result"
    }
   ],
   "source": [
    "dataset['id'] == 1.0203931153220458e+19"
   ]
  },
  {
   "cell_type": "code",
   "execution_count": null,
   "id": "d756da1d",
   "metadata": {},
   "outputs": [],
   "source": []
  }
 ],
 "metadata": {
  "kernelspec": {
   "display_name": "Python 3 (ipykernel)",
   "language": "python",
   "name": "python3"
  },
  "language_info": {
   "codemirror_mode": {
    "name": "ipython",
    "version": 3
   },
   "file_extension": ".py",
   "mimetype": "text/x-python",
   "name": "python",
   "nbconvert_exporter": "python",
   "pygments_lexer": "ipython3",
   "version": "3.7.10"
  }
 },
 "nbformat": 4,
 "nbformat_minor": 5
}
