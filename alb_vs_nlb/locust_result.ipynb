{
 "cells": [
  {
   "cell_type": "code",
   "execution_count": 1,
   "id": "7cfcd35c-3f30-45b6-b368-c951fd7677c9",
   "metadata": {},
   "outputs": [],
   "source": [
    "import pandas as pd"
   ]
  },
  {
   "cell_type": "code",
   "execution_count": 3,
   "id": "c889e724-b36f-4b61-a29e-0d52536a8b15",
   "metadata": {},
   "outputs": [],
   "source": [
    "df_alb = pd.read_csv('alb_stats.csv')\n",
    "df_nlb = pd.read_csv('nlb_stats.csv')"
   ]
  },
  {
   "cell_type": "code",
   "execution_count": 15,
   "id": "d11f65ef-eb2d-4beb-b868-486a0e246af0",
   "metadata": {},
   "outputs": [],
   "source": [
    "df_alb['loadbalancer'] = 'ALB'\n",
    "df_nlb['loadbalancer'] = 'NLB'"
   ]
  },
  {
   "cell_type": "code",
   "execution_count": 17,
   "id": "dde73a1b-399f-445f-9394-6abed3180c92",
   "metadata": {},
   "outputs": [],
   "source": [
    "df_summary = pd.concat([df_alb[:1], df_nlb[:1]], axis=0)"
   ]
  },
  {
   "cell_type": "code",
   "execution_count": null,
   "id": "4a0f1837-5616-45b6-babf-c95f8a1737ae",
   "metadata": {},
   "outputs": [],
   "source": []
  },
  {
   "cell_type": "code",
   "execution_count": 25,
   "id": "0b88dc91-e5be-4a88-971c-b1c40848d76c",
   "metadata": {},
   "outputs": [
    {
     "data": {
      "text/html": [
       "<div>\n",
       "<style scoped>\n",
       "    .dataframe tbody tr th:only-of-type {\n",
       "        vertical-align: middle;\n",
       "    }\n",
       "\n",
       "    .dataframe tbody tr th {\n",
       "        vertical-align: top;\n",
       "    }\n",
       "\n",
       "    .dataframe thead th {\n",
       "        text-align: right;\n",
       "    }\n",
       "</style>\n",
       "<table border=\"1\" class=\"dataframe\">\n",
       "  <thead>\n",
       "    <tr style=\"text-align: right;\">\n",
       "      <th></th>\n",
       "      <th>loadbalancer</th>\n",
       "      <th>Request Count</th>\n",
       "      <th>Median Response Time</th>\n",
       "      <th>Average Response Time</th>\n",
       "      <th>Min Response Time</th>\n",
       "      <th>Max Response Time</th>\n",
       "      <th>Requests/s</th>\n",
       "    </tr>\n",
       "  </thead>\n",
       "  <tbody>\n",
       "    <tr>\n",
       "      <th>0</th>\n",
       "      <td>ALB</td>\n",
       "      <td>13872</td>\n",
       "      <td>4.000000</td>\n",
       "      <td>4.177806</td>\n",
       "      <td>1.749528</td>\n",
       "      <td>46.194923</td>\n",
       "      <td>234.685076</td>\n",
       "    </tr>\n",
       "    <tr>\n",
       "      <th>0</th>\n",
       "      <td>NLB</td>\n",
       "      <td>45697</td>\n",
       "      <td>1.046798</td>\n",
       "      <td>1.232170</td>\n",
       "      <td>1.046798</td>\n",
       "      <td>28.522916</td>\n",
       "      <td>773.339445</td>\n",
       "    </tr>\n",
       "  </tbody>\n",
       "</table>\n",
       "</div>"
      ],
      "text/plain": [
       "  loadbalancer  Request Count  Median Response Time  Average Response Time  \\\n",
       "0          ALB          13872              4.000000               4.177806   \n",
       "0          NLB          45697              1.046798               1.232170   \n",
       "\n",
       "   Min Response Time  Max Response Time  Requests/s  \n",
       "0           1.749528          46.194923  234.685076  \n",
       "0           1.046798          28.522916  773.339445  "
      ]
     },
     "execution_count": 25,
     "metadata": {},
     "output_type": "execute_result"
    }
   ],
   "source": [
    "df_summary[['loadbalancer', 'Request Count', \n",
    "       'Median Response Time', 'Average Response Time', 'Min Response Time',\n",
    "       'Max Response Time', 'Requests/s']]"
   ]
  },
  {
   "cell_type": "code",
   "execution_count": null,
   "id": "a6ca524e-061a-4a4e-a3af-927fc6a4525b",
   "metadata": {},
   "outputs": [],
   "source": []
  },
  {
   "cell_type": "code",
   "execution_count": null,
   "id": "b02ad1a0-32dc-4a93-8ccd-77333d7a7d10",
   "metadata": {},
   "outputs": [],
   "source": []
  }
 ],
 "metadata": {
  "kernelspec": {
   "display_name": "Python 3 (ipykernel)",
   "language": "python",
   "name": "python3"
  },
  "language_info": {
   "codemirror_mode": {
    "name": "ipython",
    "version": 3
   },
   "file_extension": ".py",
   "mimetype": "text/x-python",
   "name": "python",
   "nbconvert_exporter": "python",
   "pygments_lexer": "ipython3",
   "version": "3.11.5"
  }
 },
 "nbformat": 4,
 "nbformat_minor": 5
}
