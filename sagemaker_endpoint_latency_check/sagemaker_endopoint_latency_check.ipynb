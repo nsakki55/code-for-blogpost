{
 "cells": [
  {
   "cell_type": "code",
   "execution_count": 1,
   "metadata": {},
   "outputs": [],
   "source": [
    "\n",
    "import yaml\n",
    "import sagemaker\n",
    "import boto3\n",
    "import pandas as pd\n",
    "import os\n",
    "import json\n",
    "from sklearn.model_selection import train_test_split\n",
    "from time import gmtime, strftime\n",
    "from sagemaker.sklearn.estimator import SKLearn\n",
    "from sagemaker.sklearn.model import SKLearnModel\n",
    "from sagemaker.predictor import Predictor\n",
    "from sagemaker import Model"
   ]
  },
  {
   "cell_type": "code",
   "execution_count": 2,
   "metadata": {},
   "outputs": [],
   "source": [
    "\n",
    "SETTING_FILE_PATH = \"../config/settings.yaml\"\n",
    "DATA_FOLDER_PATH = \"../avazu-ctr-prediction\"\n",
    "\n",
    "# AWS リソース設定\n",
    "with open(SETTING_FILE_PATH) as file:\n",
    "    aws_info = yaml.safe_load(file)\n",
    "        \n",
    "sess = sagemaker.Session()\n",
    "\n",
    "role = aws_info['aws']['sagemaker']['role']\n",
    "bucket = aws_info['aws']['sagemaker']['s3bucket']\n",
    "region = aws_info['aws']['sagemaker']['region']"
   ]
  },
  {
   "cell_type": "code",
   "execution_count": 10,
   "metadata": {},
   "outputs": [],
   "source": [
    "! touch dymmy_model | tar -czf dummy_model.tar.gz dummy_model"
   ]
  },
  {
   "cell_type": "code",
   "execution_count": 12,
   "metadata": {},
   "outputs": [],
   "source": [
    "endpoint_name = 'latency-check-endpoint'\n",
    "prefix = 'latency_check'\n",
    "model_file = \"dummy_model.tar.gz\"\n",
    "\n",
    "s3_resource_session = boto3.Session().resource(\"s3\").Bucket(bucket)\n",
    "s3_resource_session.Object(os.path.join(prefix, \"model\", model_file)).upload_file(model_file)"
   ]
  },
  {
   "cell_type": "code",
   "execution_count": 13,
   "metadata": {},
   "outputs": [
    {
     "ename": "ValueError",
     "evalue": "framework_version or py_version was None, yet image_uri was also None. Either specify both framework_version and py_version, or specify image_uri.",
     "output_type": "error",
     "traceback": [
      "\u001b[0;31m---------------------------------------------------------------------------\u001b[0m",
      "\u001b[0;31mValueError\u001b[0m                                Traceback (most recent call last)",
      "Cell \u001b[0;32mIn [13], line 2\u001b[0m\n\u001b[1;32m      1\u001b[0m model_data \u001b[39m=\u001b[39m \u001b[39mf\u001b[39m\u001b[39m\"\u001b[39m\u001b[39ms3://\u001b[39m\u001b[39m{\u001b[39;00mbucket\u001b[39m}\u001b[39;00m\u001b[39m/\u001b[39m\u001b[39m{\u001b[39;00mprefix\u001b[39m}\u001b[39;00m\u001b[39m/model/\u001b[39m\u001b[39m{\u001b[39;00mmodel_file\u001b[39m}\u001b[39;00m\u001b[39m\"\u001b[39m\n\u001b[0;32m----> 2\u001b[0m model \u001b[39m=\u001b[39m SKLearnModel(model_data\u001b[39m=\u001b[39;49mmodel_data, role\u001b[39m=\u001b[39;49mrole, entry_point\u001b[39m=\u001b[39;49mendpoint_name)\n",
      "File \u001b[0;32m~/.pyenv/versions/3.8.7/envs/data-science/lib/python3.8/site-packages/sagemaker/sklearn/model.py:132\u001b[0m, in \u001b[0;36mSKLearnModel.__init__\u001b[0;34m(self, model_data, role, entry_point, framework_version, py_version, image_uri, predictor_cls, model_server_workers, **kwargs)\u001b[0m\n\u001b[1;32m     78\u001b[0m \u001b[39mdef\u001b[39;00m \u001b[39m__init__\u001b[39m(\n\u001b[1;32m     79\u001b[0m     \u001b[39mself\u001b[39m,\n\u001b[1;32m     80\u001b[0m     model_data: Union[\u001b[39mstr\u001b[39m, PipelineVariable],\n\u001b[0;32m   (...)\u001b[0m\n\u001b[1;32m     88\u001b[0m     \u001b[39m*\u001b[39m\u001b[39m*\u001b[39mkwargs\n\u001b[1;32m     89\u001b[0m ):\n\u001b[1;32m     90\u001b[0m     \u001b[39m\"\"\"Initialize an SKLearnModel.\u001b[39;00m\n\u001b[1;32m     91\u001b[0m \n\u001b[1;32m     92\u001b[0m \u001b[39m    Args:\u001b[39;00m\n\u001b[0;32m   (...)\u001b[0m\n\u001b[1;32m    130\u001b[0m \u001b[39m        :class:`~sagemaker.model.Model`.\u001b[39;00m\n\u001b[1;32m    131\u001b[0m \u001b[39m    \"\"\"\u001b[39;00m\n\u001b[0;32m--> 132\u001b[0m     validate_version_or_image_args(framework_version, py_version, image_uri)\n\u001b[1;32m    133\u001b[0m     \u001b[39mif\u001b[39;00m py_version \u001b[39mand\u001b[39;00m py_version \u001b[39m!=\u001b[39m \u001b[39m\"\u001b[39m\u001b[39mpy3\u001b[39m\u001b[39m\"\u001b[39m:\n\u001b[1;32m    134\u001b[0m         \u001b[39mraise\u001b[39;00m \u001b[39mAttributeError\u001b[39;00m(\n\u001b[1;32m    135\u001b[0m             \u001b[39m\"\u001b[39m\u001b[39mScikit-learn image only supports Python 3. Please use \u001b[39m\u001b[39m'\u001b[39m\u001b[39mpy3\u001b[39m\u001b[39m'\u001b[39m\u001b[39m for py_version.\u001b[39m\u001b[39m\"\u001b[39m\n\u001b[1;32m    136\u001b[0m         )\n",
      "File \u001b[0;32m~/.pyenv/versions/3.8.7/envs/data-science/lib/python3.8/site-packages/sagemaker/fw_utils.py:1112\u001b[0m, in \u001b[0;36mvalidate_version_or_image_args\u001b[0;34m(framework_version, py_version, image_uri)\u001b[0m\n\u001b[1;32m   1098\u001b[0m \u001b[39m\"\"\"Checks if version or image arguments are specified.\u001b[39;00m\n\u001b[1;32m   1099\u001b[0m \n\u001b[1;32m   1100\u001b[0m \u001b[39mValidates framework and model arguments to enforce version or image specification.\u001b[39;00m\n\u001b[0;32m   (...)\u001b[0m\n\u001b[1;32m   1109\u001b[0m \u001b[39m        None.\u001b[39;00m\n\u001b[1;32m   1110\u001b[0m \u001b[39m\"\"\"\u001b[39;00m\n\u001b[1;32m   1111\u001b[0m \u001b[39mif\u001b[39;00m (framework_version \u001b[39mis\u001b[39;00m \u001b[39mNone\u001b[39;00m \u001b[39mor\u001b[39;00m py_version \u001b[39mis\u001b[39;00m \u001b[39mNone\u001b[39;00m) \u001b[39mand\u001b[39;00m image_uri \u001b[39mis\u001b[39;00m \u001b[39mNone\u001b[39;00m:\n\u001b[0;32m-> 1112\u001b[0m     \u001b[39mraise\u001b[39;00m \u001b[39mValueError\u001b[39;00m(\n\u001b[1;32m   1113\u001b[0m         \u001b[39m\"\u001b[39m\u001b[39mframework_version or py_version was None, yet image_uri was also None. \u001b[39m\u001b[39m\"\u001b[39m\n\u001b[1;32m   1114\u001b[0m         \u001b[39m\"\u001b[39m\u001b[39mEither specify both framework_version and py_version, or specify image_uri.\u001b[39m\u001b[39m\"\u001b[39m\n\u001b[1;32m   1115\u001b[0m     )\n",
      "\u001b[0;31mValueError\u001b[0m: framework_version or py_version was None, yet image_uri was also None. Either specify both framework_version and py_version, or specify image_uri."
     ]
    }
   ],
   "source": [
    "model_data = f\"s3://{bucket}/{prefix}/model/{model_file}\"\n",
    "model = SKLearnModel(model_data=model_data,\n",
    "                     role=role, \n",
    "                     entry_point=endpoint_name,\n",
    "                     framework_version=\"0.23-1\",\n",
    "                     py_version=\"py3\",\n",
    "                     source_dir=\"model\",\n",
    "                     entry_point=\"inference.py\",\n",
    "                     sagemaker_session=sess,)\n",
    "                    \n"
   ]
  },
  {
   "cell_type": "code",
   "execution_count": null,
   "metadata": {},
   "outputs": [],
   "source": []
  },
  {
   "cell_type": "code",
   "execution_count": null,
   "metadata": {},
   "outputs": [],
   "source": []
  },
  {
   "cell_type": "code",
   "execution_count": null,
   "metadata": {},
   "outputs": [],
   "source": []
  },
  {
   "cell_type": "code",
   "execution_count": null,
   "metadata": {},
   "outputs": [],
   "source": []
  }
 ],
 "metadata": {
  "kernelspec": {
   "display_name": "Python 3.8.7 64-bit ('data-science')",
   "language": "python",
   "name": "python3"
  },
  "language_info": {
   "codemirror_mode": {
    "name": "ipython",
    "version": 3
   },
   "file_extension": ".py",
   "mimetype": "text/x-python",
   "name": "python",
   "nbconvert_exporter": "python",
   "pygments_lexer": "ipython3",
   "version": "3.8.7"
  },
  "orig_nbformat": 4,
  "vscode": {
   "interpreter": {
    "hash": "58ce3efee2fb151b5edf305e8964b1e8d8af954140de2e28399575e01e945853"
   }
  }
 },
 "nbformat": 4,
 "nbformat_minor": 2
}
