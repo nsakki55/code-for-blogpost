{
 "cells": [
  {
   "cell_type": "code",
   "execution_count": 49,
   "metadata": {},
   "outputs": [],
   "source": [
    "\n",
    "\n",
    "import yaml\n",
    "import sagemaker\n",
    "import boto3\n",
    "import pandas as pd\n",
    "import os\n",
    "import json\n",
    "from time import gmtime, strftime\n",
    "from sagemaker.sklearn.model import SKLearnModel\n",
    "import matplotlib.pyplot as plt\n",
    "%matplotlib inline"
   ]
  },
  {
   "cell_type": "code",
   "execution_count": null,
   "metadata": {},
   "outputs": [],
   "source": []
  },
  {
   "cell_type": "code",
   "execution_count": 50,
   "metadata": {},
   "outputs": [],
   "source": [
    "\n",
    "import yaml\n",
    "import sagemaker\n",
    "\n",
    "SETTING_FILE_PATH = \"../config/settings.yaml\"\n",
    "\n",
    "# AWSリソース設定読み込み\n",
    "with open(SETTING_FILE_PATH) as file:\n",
    "    aws_info = yaml.safe_load(file)\n",
    "\n",
    "sess = sagemaker.Session()\n",
    "\n",
    "role = aws_info[\"aws\"][\"sagemaker\"][\"role\"]\n",
    "bucket = aws_info[\"aws\"][\"sagemaker\"][\"s3bucket\"]\n",
    "region = aws_info[\"aws\"][\"sagemaker\"][\"region\"]\n"
   ]
  },
  {
   "cell_type": "code",
   "execution_count": 3,
   "metadata": {},
   "outputs": [],
   "source": [
    "\n",
    "! echo \"this is dummy model\" > dummy_model.txt |tar -czf dummy_model.tar.gz dummy_model.txt"
   ]
  },
  {
   "cell_type": "code",
   "execution_count": 4,
   "metadata": {},
   "outputs": [],
   "source": [
    "\n",
    "prefix = \"endpoint_latency_experiment\"\n",
    "model_file = \"dummy_model.tar.gz\"\n",
    "\n",
    "s3_resource_session = boto3.Session().resource(\"s3\").Bucket(bucket)\n",
    "s3_resource_session.Object(os.path.join(prefix, \"model\", model_file)).upload_file(\n",
    "    model_file\n",
    ")"
   ]
  },
  {
   "cell_type": "code",
   "execution_count": 70,
   "metadata": {},
   "outputs": [],
   "source": [
    "model_data = f\"s3://{bucket}/{prefix}/model/{model_file}\"\n",
    "model = SKLearnModel(\n",
    "    model_data=model_data,\n",
    "    role=role,\n",
    "    framework_version=\"0.23-1\",\n",
    "    py_version=\"py3\",\n",
    "    source_dir=\"model\",\n",
    "    entry_point=\"inference.py\",\n",
    "    sagemaker_session=sess,\n",
    ")\n"
   ]
  },
  {
   "cell_type": "code",
   "execution_count": 71,
   "metadata": {},
   "outputs": [
    {
     "data": {
      "text/plain": [
       "'latency-experiment-model'"
      ]
     },
     "execution_count": 71,
     "metadata": {},
     "output_type": "execute_result"
    }
   ],
   "source": [
    "\n",
    "model_name = \"latency-experiment-model\"\n",
    "\n",
    "sess.create_model(\n",
    "    model_name, role, model.prepare_container_def()\n",
    ")\n"
   ]
  },
  {
   "cell_type": "markdown",
   "metadata": {},
   "source": [
    "## インスタンス種類別のエンドポイント作成"
   ]
  },
  {
   "cell_type": "code",
   "execution_count": 72,
   "metadata": {},
   "outputs": [],
   "source": [
    "def check_invoke_endopoint(endpoint_name: str):\n",
    "    runtime = boto3.Session().client(\"sagemaker-runtime\")\n",
    "    response = runtime.invoke_endpoint(\n",
    "        EndpointName=endpoint_name,\n",
    "        ContentType=\"application/json\",\n",
    "        Accept=\"application/json\",\n",
    "        Body=\"0\",\n",
    "    )\n",
    "    predictions = json.loads(response[\"Body\"].read().decode(\"utf-8\"))\n",
    "    print(\"prediction: \",predictions)\n"
   ]
  },
  {
   "cell_type": "code",
   "execution_count": 73,
   "metadata": {},
   "outputs": [],
   "source": [
    "def create_endpoint(instance_type: str):\n",
    "    endpoint_name = \"{}-{}\".format(\"latency-experiment-endpoint\", instance_type.replace(\".\", \"\"))\n",
    "    predictor = model.deploy(\n",
    "        initial_instance_count=1,\n",
    "        instance_type=instance_type,\n",
    "        endpoint_name=endpoint_name,\n",
    "    )\n",
    "\n",
    "    check_invoke_endopoint(endpoint_name)"
   ]
  },
  {
   "cell_type": "code",
   "execution_count": 93,
   "metadata": {},
   "outputs": [],
   "source": [
    "t2_instance_type_list = [\"ml.t2.medium\", \"ml.t2.large\", \"ml.t2.xlarge\", \"ml.t2.2xlarge\"]\n",
    "m5_instance_type_list = [\"ml.m5.large\", \"ml.m5.xlarge\", \"ml.m5.2xlarge\", \"ml.m5.4xlarge\", \"ml.m5.12xlarge\", \"ml.m5.24xlarge\"]"
   ]
  },
  {
   "cell_type": "code",
   "execution_count": 78,
   "metadata": {},
   "outputs": [
    {
     "name": "stdout",
     "output_type": "stream",
     "text": [
      "ml.t2.xlarge\n",
      "-----!prediction:  0\n",
      "ml.t2.2xlarge\n",
      "-----!prediction:  0\n"
     ]
    }
   ],
   "source": [
    "for instance_type in t2_instance_type_list:\n",
    "    print(instance_type)\n",
    "    create_endpoint(instance_type=instance_type)"
   ]
  },
  {
   "cell_type": "code",
   "execution_count": 80,
   "metadata": {},
   "outputs": [
    {
     "name": "stdout",
     "output_type": "stream",
     "text": [
      "ml.m5.large\n",
      "-----!prediction:  0\n",
      "ml.m5.xlarge\n",
      "-----!prediction:  0\n",
      "ml.m5.2xlarge\n",
      "----!prediction:  0\n",
      "ml.m5.4xlarge\n",
      "----!prediction:  0\n",
      "ml.m5.12xlarge\n",
      "----!prediction:  0\n",
      "ml.m5.24xlarge\n",
      "-----!prediction:  0\n"
     ]
    }
   ],
   "source": [
    "for instance_type in m5_instance_type_list:\n",
    "    print(instance_type)\n",
    "    create_endpoint(instance_type=instance_type)"
   ]
  },
  {
   "cell_type": "markdown",
   "metadata": {},
   "source": [
    "## VPC内にエンドポイント作成"
   ]
  },
  {
   "cell_type": "code",
   "execution_count": 82,
   "metadata": {},
   "outputs": [
    {
     "name": "stdout",
     "output_type": "stream",
     "text": [
      "-----!"
     ]
    }
   ],
   "source": [
    "endpoint_name = \"{}-{}\".format(\n",
    "    \"latency-experiment-endpoint\", \"default\" \n",
    ")\n",
    "predictor = model.deploy(\n",
    "    initial_instance_count=2,\n",
    "    instance_type=\"ml.t2.xlarge\",\n",
    "    endpoint_name=endpoint_name,\n",
    ")\n"
   ]
  },
  {
   "cell_type": "code",
   "execution_count": 83,
   "metadata": {},
   "outputs": [
    {
     "name": "stderr",
     "output_type": "stream",
     "text": [
      "Using already existing model: latency-experiment-privatelink-model\n"
     ]
    },
    {
     "data": {
      "text/plain": [
       "'latency-experiment-privatelink-model'"
      ]
     },
     "execution_count": 83,
     "metadata": {},
     "output_type": "execute_result"
    }
   ],
   "source": [
    "model_name = \"latency-experiment-privatelink-model\"\n",
    "vpc = \"vpc-0f5cec22138e455fe\"\n",
    "subnet_a = \"subnet-02d49088de4cb6ac2\"\n",
    "subnet_c = \"subnet-0b59cdf939f464244\"\n",
    "security_group = \"sg-07c022fcdbd50acbd\"\n",
    "\n",
    "sess.create_model(\n",
    "    model_name,\n",
    "    role,\n",
    "    model.prepare_container_def(),\n",
    "    vpc_config={\n",
    "        \"SecurityGroupIds\": [security_group],\n",
    "        \"Subnets\": [subnet_a, subnet_c],\n",
    "    },\n",
    ")\n"
   ]
  },
  {
   "cell_type": "code",
   "execution_count": 87,
   "metadata": {},
   "outputs": [],
   "source": [
    "from sagemaker.session import production_variant\n",
    "endpoint_name = \"{}-{}\".format(\n",
    "    \"latency-experiment-endpoint\", \"privatelink\" \n",
    ")\n",
    "model_variant = production_variant(\n",
    "    model_name=model_name,\n",
    "    instance_type=\"ml.t2.xlarge\",\n",
    "    initial_instance_count=2,\n",
    "    variant_name=\"Variant\",\n",
    "    initial_weight=1,\n",
    ")\n"
   ]
  },
  {
   "cell_type": "code",
   "execution_count": 89,
   "metadata": {},
   "outputs": [],
   "source": [
    "\n",
    "sm = boto3.client('sagemaker')\n",
    "\n",
    "endpoint_config_name = \"{}\".format(\"privatelink-endpoint-config\")\n",
    "endpoint_config = sm.create_endpoint_config(\n",
    "    EndpointConfigName=endpoint_config_name, ProductionVariants=[model_variant]\n",
    ")\n",
    "\n",
    "endpoint_response = sm.create_endpoint(EndpointName=endpoint_name, EndpointConfigName=endpoint_config_name)"
   ]
  },
  {
   "cell_type": "code",
   "execution_count": null,
   "metadata": {},
   "outputs": [],
   "source": []
  },
  {
   "cell_type": "markdown",
   "metadata": {},
   "source": [
    "## 結果"
   ]
  },
  {
   "cell_type": "code",
   "execution_count": 90,
   "metadata": {},
   "outputs": [],
   "source": [
    "import matplotlib.pyplot as plt\n",
    "%matplotlib inline"
   ]
  },
  {
   "cell_type": "code",
   "execution_count": 126,
   "metadata": {},
   "outputs": [],
   "source": [
    "statictics_columns = [\n",
    "    \"type\",\n",
    "    \"Average Response Time\",\n",
    "    \"Min Response Time\",\n",
    "    \"Max Response Time\",\n",
    "    \"50%\",\n",
    "    \"66%\",\n",
    "    \"75%\",\n",
    "    \"80%\",\n",
    "    \"90%\",\n",
    "    \"95%\",\n",
    "    \"98%\",\n",
    "    \"99%\",\n",
    "    \"99.9%\",\n",
    "    \"99.99%\",\n",
    "    \"100%\",\n",
    "]\n"
   ]
  },
  {
   "cell_type": "code",
   "execution_count": 127,
   "metadata": {},
   "outputs": [],
   "source": [
    "df_t2_family = pd.DataFrame()\n",
    "for instance_type in t2_instance_type_list:\n",
    "    prefix_instance_type = instance_type.replace(\".\", \"\")\n",
    "    df = pd.read_csv(f\"instance_results/{prefix_instance_type}_stats.csv\")\n",
    "    df[\"type\"] = instance_type\n",
    "    df_t2_family = pd.concat([df_t2_family, df[statictics_columns][:1]], axis=0)\n"
   ]
  },
  {
   "cell_type": "code",
   "execution_count": 128,
   "metadata": {},
   "outputs": [
    {
     "data": {
      "text/html": [
       "<div>\n",
       "<style scoped>\n",
       "    .dataframe tbody tr th:only-of-type {\n",
       "        vertical-align: middle;\n",
       "    }\n",
       "\n",
       "    .dataframe tbody tr th {\n",
       "        vertical-align: top;\n",
       "    }\n",
       "\n",
       "    .dataframe thead th {\n",
       "        text-align: right;\n",
       "    }\n",
       "</style>\n",
       "<table border=\"1\" class=\"dataframe\">\n",
       "  <thead>\n",
       "    <tr style=\"text-align: right;\">\n",
       "      <th></th>\n",
       "      <th>type</th>\n",
       "      <th>Average Response Time</th>\n",
       "      <th>Min Response Time</th>\n",
       "      <th>Max Response Time</th>\n",
       "      <th>50%</th>\n",
       "      <th>66%</th>\n",
       "      <th>75%</th>\n",
       "      <th>80%</th>\n",
       "      <th>90%</th>\n",
       "      <th>95%</th>\n",
       "      <th>98%</th>\n",
       "      <th>99%</th>\n",
       "      <th>99.9%</th>\n",
       "      <th>99.99%</th>\n",
       "      <th>100%</th>\n",
       "    </tr>\n",
       "  </thead>\n",
       "  <tbody>\n",
       "    <tr>\n",
       "      <th>0</th>\n",
       "      <td>ml.t2.medium</td>\n",
       "      <td>9.041108</td>\n",
       "      <td>8</td>\n",
       "      <td>483</td>\n",
       "      <td>9</td>\n",
       "      <td>9</td>\n",
       "      <td>9</td>\n",
       "      <td>9</td>\n",
       "      <td>10</td>\n",
       "      <td>10</td>\n",
       "      <td>11</td>\n",
       "      <td>12</td>\n",
       "      <td>22</td>\n",
       "      <td>65</td>\n",
       "      <td>480</td>\n",
       "    </tr>\n",
       "    <tr>\n",
       "      <th>0</th>\n",
       "      <td>ml.t2.large</td>\n",
       "      <td>7.364959</td>\n",
       "      <td>6</td>\n",
       "      <td>447</td>\n",
       "      <td>7</td>\n",
       "      <td>7</td>\n",
       "      <td>7</td>\n",
       "      <td>8</td>\n",
       "      <td>8</td>\n",
       "      <td>8</td>\n",
       "      <td>9</td>\n",
       "      <td>10</td>\n",
       "      <td>19</td>\n",
       "      <td>53</td>\n",
       "      <td>450</td>\n",
       "    </tr>\n",
       "    <tr>\n",
       "      <th>0</th>\n",
       "      <td>ml.t2.xlarge</td>\n",
       "      <td>7.268115</td>\n",
       "      <td>6</td>\n",
       "      <td>457</td>\n",
       "      <td>7</td>\n",
       "      <td>7</td>\n",
       "      <td>7</td>\n",
       "      <td>7</td>\n",
       "      <td>8</td>\n",
       "      <td>8</td>\n",
       "      <td>9</td>\n",
       "      <td>10</td>\n",
       "      <td>18</td>\n",
       "      <td>60</td>\n",
       "      <td>460</td>\n",
       "    </tr>\n",
       "    <tr>\n",
       "      <th>0</th>\n",
       "      <td>ml.t2.2xlarge</td>\n",
       "      <td>7.340908</td>\n",
       "      <td>6</td>\n",
       "      <td>476</td>\n",
       "      <td>7</td>\n",
       "      <td>7</td>\n",
       "      <td>7</td>\n",
       "      <td>7</td>\n",
       "      <td>8</td>\n",
       "      <td>9</td>\n",
       "      <td>9</td>\n",
       "      <td>10</td>\n",
       "      <td>19</td>\n",
       "      <td>54</td>\n",
       "      <td>480</td>\n",
       "    </tr>\n",
       "  </tbody>\n",
       "</table>\n",
       "</div>"
      ],
      "text/plain": [
       "            type  Average Response Time  Min Response Time  Max Response Time  \\\n",
       "0   ml.t2.medium               9.041108                  8                483   \n",
       "0    ml.t2.large               7.364959                  6                447   \n",
       "0   ml.t2.xlarge               7.268115                  6                457   \n",
       "0  ml.t2.2xlarge               7.340908                  6                476   \n",
       "\n",
       "   50%  66%  75%  80%  90%  95%  98%  99%  99.9%  99.99%  100%  \n",
       "0    9    9    9    9   10   10   11   12     22      65   480  \n",
       "0    7    7    7    8    8    8    9   10     19      53   450  \n",
       "0    7    7    7    7    8    8    9   10     18      60   460  \n",
       "0    7    7    7    7    8    9    9   10     19      54   480  "
      ]
     },
     "execution_count": 128,
     "metadata": {},
     "output_type": "execute_result"
    }
   ],
   "source": [
    "df_t2_family"
   ]
  },
  {
   "cell_type": "code",
   "execution_count": 129,
   "metadata": {},
   "outputs": [],
   "source": [
    "df_m5_family = pd.DataFrame()\n",
    "for instance_type in m5_instance_type_list:\n",
    "    prefix_instance_type = instance_type.replace(\".\", \"\")\n",
    "    df = pd.read_csv(f\"instance_results/{prefix_instance_type}_stats.csv\")\n",
    "    df[\"type\"] = instance_type\n",
    "    df_m5_family = pd.concat([df_m5_family, df[statictics_columns][:1]], axis=0)\n"
   ]
  },
  {
   "cell_type": "code",
   "execution_count": 130,
   "metadata": {},
   "outputs": [
    {
     "data": {
      "text/html": [
       "<div>\n",
       "<style scoped>\n",
       "    .dataframe tbody tr th:only-of-type {\n",
       "        vertical-align: middle;\n",
       "    }\n",
       "\n",
       "    .dataframe tbody tr th {\n",
       "        vertical-align: top;\n",
       "    }\n",
       "\n",
       "    .dataframe thead th {\n",
       "        text-align: right;\n",
       "    }\n",
       "</style>\n",
       "<table border=\"1\" class=\"dataframe\">\n",
       "  <thead>\n",
       "    <tr style=\"text-align: right;\">\n",
       "      <th></th>\n",
       "      <th>type</th>\n",
       "      <th>Average Response Time</th>\n",
       "      <th>Min Response Time</th>\n",
       "      <th>Max Response Time</th>\n",
       "      <th>50%</th>\n",
       "      <th>66%</th>\n",
       "      <th>75%</th>\n",
       "      <th>80%</th>\n",
       "      <th>90%</th>\n",
       "      <th>95%</th>\n",
       "      <th>98%</th>\n",
       "      <th>99%</th>\n",
       "      <th>99.9%</th>\n",
       "      <th>99.99%</th>\n",
       "      <th>100%</th>\n",
       "    </tr>\n",
       "  </thead>\n",
       "  <tbody>\n",
       "    <tr>\n",
       "      <th>0</th>\n",
       "      <td>ml.m5.large</td>\n",
       "      <td>6.375926</td>\n",
       "      <td>5</td>\n",
       "      <td>457</td>\n",
       "      <td>5</td>\n",
       "      <td>8</td>\n",
       "      <td>8</td>\n",
       "      <td>8</td>\n",
       "      <td>8</td>\n",
       "      <td>9</td>\n",
       "      <td>9</td>\n",
       "      <td>11</td>\n",
       "      <td>19</td>\n",
       "      <td>47</td>\n",
       "      <td>460</td>\n",
       "    </tr>\n",
       "    <tr>\n",
       "      <th>0</th>\n",
       "      <td>ml.m5.xlarge</td>\n",
       "      <td>8.511622</td>\n",
       "      <td>8</td>\n",
       "      <td>78</td>\n",
       "      <td>8</td>\n",
       "      <td>9</td>\n",
       "      <td>9</td>\n",
       "      <td>9</td>\n",
       "      <td>9</td>\n",
       "      <td>9</td>\n",
       "      <td>10</td>\n",
       "      <td>14</td>\n",
       "      <td>20</td>\n",
       "      <td>61</td>\n",
       "      <td>78</td>\n",
       "    </tr>\n",
       "    <tr>\n",
       "      <th>0</th>\n",
       "      <td>ml.m5.2xlarge</td>\n",
       "      <td>6.825458</td>\n",
       "      <td>5</td>\n",
       "      <td>216</td>\n",
       "      <td>7</td>\n",
       "      <td>8</td>\n",
       "      <td>8</td>\n",
       "      <td>8</td>\n",
       "      <td>8</td>\n",
       "      <td>9</td>\n",
       "      <td>9</td>\n",
       "      <td>10</td>\n",
       "      <td>21</td>\n",
       "      <td>56</td>\n",
       "      <td>220</td>\n",
       "    </tr>\n",
       "    <tr>\n",
       "      <th>0</th>\n",
       "      <td>ml.m5.4xlarge</td>\n",
       "      <td>7.215649</td>\n",
       "      <td>5</td>\n",
       "      <td>66</td>\n",
       "      <td>8</td>\n",
       "      <td>9</td>\n",
       "      <td>9</td>\n",
       "      <td>9</td>\n",
       "      <td>9</td>\n",
       "      <td>9</td>\n",
       "      <td>10</td>\n",
       "      <td>11</td>\n",
       "      <td>20</td>\n",
       "      <td>55</td>\n",
       "      <td>66</td>\n",
       "    </tr>\n",
       "    <tr>\n",
       "      <th>0</th>\n",
       "      <td>ml.m5.12xlarge</td>\n",
       "      <td>8.995683</td>\n",
       "      <td>8</td>\n",
       "      <td>699</td>\n",
       "      <td>9</td>\n",
       "      <td>9</td>\n",
       "      <td>9</td>\n",
       "      <td>9</td>\n",
       "      <td>9</td>\n",
       "      <td>10</td>\n",
       "      <td>10</td>\n",
       "      <td>14</td>\n",
       "      <td>23</td>\n",
       "      <td>100</td>\n",
       "      <td>700</td>\n",
       "    </tr>\n",
       "    <tr>\n",
       "      <th>0</th>\n",
       "      <td>ml.m5.24xlarge</td>\n",
       "      <td>8.028491</td>\n",
       "      <td>6</td>\n",
       "      <td>475</td>\n",
       "      <td>8</td>\n",
       "      <td>8</td>\n",
       "      <td>8</td>\n",
       "      <td>8</td>\n",
       "      <td>9</td>\n",
       "      <td>9</td>\n",
       "      <td>10</td>\n",
       "      <td>12</td>\n",
       "      <td>22</td>\n",
       "      <td>72</td>\n",
       "      <td>480</td>\n",
       "    </tr>\n",
       "  </tbody>\n",
       "</table>\n",
       "</div>"
      ],
      "text/plain": [
       "             type  Average Response Time  Min Response Time  \\\n",
       "0     ml.m5.large               6.375926                  5   \n",
       "0    ml.m5.xlarge               8.511622                  8   \n",
       "0   ml.m5.2xlarge               6.825458                  5   \n",
       "0   ml.m5.4xlarge               7.215649                  5   \n",
       "0  ml.m5.12xlarge               8.995683                  8   \n",
       "0  ml.m5.24xlarge               8.028491                  6   \n",
       "\n",
       "   Max Response Time  50%  66%  75%  80%  90%  95%  98%  99%  99.9%  99.99%  \\\n",
       "0                457    5    8    8    8    8    9    9   11     19      47   \n",
       "0                 78    8    9    9    9    9    9   10   14     20      61   \n",
       "0                216    7    8    8    8    8    9    9   10     21      56   \n",
       "0                 66    8    9    9    9    9    9   10   11     20      55   \n",
       "0                699    9    9    9    9    9   10   10   14     23     100   \n",
       "0                475    8    8    8    8    9    9   10   12     22      72   \n",
       "\n",
       "   100%  \n",
       "0   460  \n",
       "0    78  \n",
       "0   220  \n",
       "0    66  \n",
       "0   700  \n",
       "0   480  "
      ]
     },
     "execution_count": 130,
     "metadata": {},
     "output_type": "execute_result"
    }
   ],
   "source": [
    "df_m5_family"
   ]
  },
  {
   "cell_type": "code",
   "execution_count": null,
   "metadata": {},
   "outputs": [],
   "source": [
    "\n"
   ]
  },
  {
   "cell_type": "code",
   "execution_count": 132,
   "metadata": {},
   "outputs": [],
   "source": [
    "df_network_family = pd.DataFrame()\n",
    "for network_type in [\"default\", \"PrivateLink\"]:\n",
    "    df = pd.read_csv(f\"network_results/{network_type}_stats.csv\")\n",
    "    df[\"type\"] = network_type \n",
    "    df_network_family = pd.concat([df_network_family, df[statictics_columns][:1]], axis=0)"
   ]
  },
  {
   "cell_type": "code",
   "execution_count": 133,
   "metadata": {},
   "outputs": [
    {
     "data": {
      "text/html": [
       "<div>\n",
       "<style scoped>\n",
       "    .dataframe tbody tr th:only-of-type {\n",
       "        vertical-align: middle;\n",
       "    }\n",
       "\n",
       "    .dataframe tbody tr th {\n",
       "        vertical-align: top;\n",
       "    }\n",
       "\n",
       "    .dataframe thead th {\n",
       "        text-align: right;\n",
       "    }\n",
       "</style>\n",
       "<table border=\"1\" class=\"dataframe\">\n",
       "  <thead>\n",
       "    <tr style=\"text-align: right;\">\n",
       "      <th></th>\n",
       "      <th>type</th>\n",
       "      <th>Average Response Time</th>\n",
       "      <th>Min Response Time</th>\n",
       "      <th>Max Response Time</th>\n",
       "      <th>50%</th>\n",
       "      <th>66%</th>\n",
       "      <th>75%</th>\n",
       "      <th>80%</th>\n",
       "      <th>90%</th>\n",
       "      <th>95%</th>\n",
       "      <th>98%</th>\n",
       "      <th>99%</th>\n",
       "      <th>99.9%</th>\n",
       "      <th>99.99%</th>\n",
       "      <th>100%</th>\n",
       "    </tr>\n",
       "  </thead>\n",
       "  <tbody>\n",
       "    <tr>\n",
       "      <th>0</th>\n",
       "      <td>default</td>\n",
       "      <td>7.415329</td>\n",
       "      <td>7</td>\n",
       "      <td>59</td>\n",
       "      <td>7</td>\n",
       "      <td>7</td>\n",
       "      <td>8</td>\n",
       "      <td>8</td>\n",
       "      <td>8</td>\n",
       "      <td>8</td>\n",
       "      <td>9</td>\n",
       "      <td>10</td>\n",
       "      <td>18</td>\n",
       "      <td>46</td>\n",
       "      <td>59</td>\n",
       "    </tr>\n",
       "    <tr>\n",
       "      <th>0</th>\n",
       "      <td>PrivateLink</td>\n",
       "      <td>6.959126</td>\n",
       "      <td>5</td>\n",
       "      <td>428</td>\n",
       "      <td>7</td>\n",
       "      <td>7</td>\n",
       "      <td>7</td>\n",
       "      <td>8</td>\n",
       "      <td>8</td>\n",
       "      <td>8</td>\n",
       "      <td>9</td>\n",
       "      <td>11</td>\n",
       "      <td>18</td>\n",
       "      <td>360</td>\n",
       "      <td>430</td>\n",
       "    </tr>\n",
       "  </tbody>\n",
       "</table>\n",
       "</div>"
      ],
      "text/plain": [
       "          type  Average Response Time  Min Response Time  Max Response Time  \\\n",
       "0      default               7.415329                  7                 59   \n",
       "0  PrivateLink               6.959126                  5                428   \n",
       "\n",
       "   50%  66%  75%  80%  90%  95%  98%  99%  99.9%  99.99%  100%  \n",
       "0    7    7    8    8    8    8    9   10     18      46    59  \n",
       "0    7    7    7    8    8    8    9   11     18     360   430  "
      ]
     },
     "execution_count": 133,
     "metadata": {},
     "output_type": "execute_result"
    }
   ],
   "source": [
    "df_network_family"
   ]
  },
  {
   "cell_type": "code",
   "execution_count": null,
   "metadata": {},
   "outputs": [],
   "source": []
  }
 ],
 "metadata": {
  "kernelspec": {
   "display_name": "Python 3.8.7 64-bit ('data-science')",
   "language": "python",
   "name": "python3"
  },
  "language_info": {
   "codemirror_mode": {
    "name": "ipython",
    "version": 3
   },
   "file_extension": ".py",
   "mimetype": "text/x-python",
   "name": "python",
   "nbconvert_exporter": "python",
   "pygments_lexer": "ipython3",
   "version": "3.8.7"
  },
  "orig_nbformat": 4,
  "vscode": {
   "interpreter": {
    "hash": "58ce3efee2fb151b5edf305e8964b1e8d8af954140de2e28399575e01e945853"
   }
  }
 },
 "nbformat": 4,
 "nbformat_minor": 2
}
