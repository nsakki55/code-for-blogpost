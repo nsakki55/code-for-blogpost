{
 "cells": [
  {
   "cell_type": "code",
   "execution_count": 1,
   "id": "f7dc2774",
   "metadata": {},
   "outputs": [
    {
     "name": "stderr",
     "output_type": "stream",
     "text": [
      "/Users/satsuki/.pyenv/versions/3.7.10/envs/data-science/lib/python3.7/site-packages/pandas/compat/__init__.py:124: UserWarning: Could not import the lzma module. Your installed Python is incomplete. Attempting to use lzma compression will result in a RuntimeError.\n",
      "  warnings.warn(msg)\n"
     ]
    }
   ],
   "source": [
    "import pandas as pd\n",
    "import yaml\n",
    "import boto3\n",
    "import sagemaker\n",
    "from sagemaker.sklearn.processing import ScriptProcessor\n",
    "from sagemaker.processing import ProcessingInput, ProcessingOutput"
   ]
  },
  {
   "cell_type": "code",
   "execution_count": 5,
   "id": "9f87b534",
   "metadata": {},
   "outputs": [],
   "source": [
    "SETTING_FILE_PATH = '../settings.yaml'\n",
    "with open(SETTING_FILE_PATH) as file:\n",
    "    aws_info = yaml.safe_load(file)\n",
    "    \n",
    "role = aws_info['aws']['sagemaker']['role']\n",
    "s3bucket = aws_info['aws']['sagemaker']['s3bucket']\n",
    "sm = boto3.client('sagemaker')\n",
    "region = boto3.Session().region_name"
   ]
  },
  {
   "cell_type": "code",
   "execution_count": null,
   "id": "f3f2e00a",
   "metadata": {},
   "outputs": [],
   "source": [
    "account_id = boto3.client('sts').get_caller_identity().get('Account')\n",
    "\n",
    "ecr_repository = f'ctr-preprocessor-custom:latest'\n",
    "image_uri = f'{account_id}.dkr.ecr.{region}.amazonaws.com/{ecr_repository}'\n",
    "!docker build . -t $image_uri\n",
    "\n",
    "!aws ecr get-login-password --region $region | docker login --username AWS --password-stdin $account_id.dkr.ecr.$region.amazonaws.com\n",
    " \n",
    "\n",
    "!aws ecr create-repository --repository-name $ecr_repository\n",
    " \n",
    "!docker build -t {ecr_repository} .\n",
    "!docker tag {ecr_repository} $image_uri\n",
    "!docker push $image_uri"
   ]
  },
  {
   "cell_type": "code",
   "execution_count": 7,
   "id": "b7522757",
   "metadata": {},
   "outputs": [],
   "source": [
    "processing_instance_type = \"ml.m5.xlarge\"\n",
    "processing_instance_count = 1\n",
    "train_valid_split_percentage = 0.8\n",
    "input_data_s3_uri =  \"s3://{}/input/\".format(s3bucket)\n",
    "output_data_s3_uri =  \"s3://{}/output/\".format(s3bucket)\n",
    "processing_job_name = \"ctr-prediction-custom-preprocessor\"\n",
    "\n",
    "script_processor = ScriptProcessor(\n",
    "    command=[\"python3\"],\n",
    "    image_uri=image_uri,\n",
    "    role=role,\n",
    "    instance_count=processing_instance_count,\n",
    "    instance_type=processing_instance_type\n",
    ")"
   ]
  },
  {
   "cell_type": "code",
   "execution_count": null,
   "id": "6e253f0e",
   "metadata": {},
   "outputs": [],
   "source": [
    "script_processor.run(\n",
    "    code=\"custom-processor.py\",\n",
    "    inputs=[ProcessingInput(\n",
    "                    source=input_data_s3_uri,\n",
    "                    destination=\"/opt/ml/processing/input\"),\n",
    "           ],\n",
    "    outputs=[\n",
    "        ProcessingOutput(source=\"/opt/ml/processing/output/train\",\n",
    "                                    destination=output_data_s3_uri\n",
    "                        ),\n",
    "        ProcessingOutput(source=\"/opt/ml/processing/output/validation\",\n",
    "                                    destination=output_data_s3_uri\n",
    "                        ),\n",
    "    ],\n",
    "     arguments=[\n",
    "        \"--train_valid_split_percentage\",\n",
    "        str(train_valid_split_percentage)],\n",
    "    wait=True,\n",
    "    logs=True,\n",
    "    job_name=processing_job_name,\n",
    "    experiment_config=None    \n",
    ")\n",
    "script_processor_job_description = script_processor.jobs[-1].describe()\n",
    "print(script_processor_job_description)"
   ]
  }
 ],
 "metadata": {
  "kernelspec": {
   "display_name": "Python 3 (ipykernel)",
   "language": "python",
   "name": "python3"
  },
  "language_info": {
   "codemirror_mode": {
    "name": "ipython",
    "version": 3
   },
   "file_extension": ".py",
   "mimetype": "text/x-python",
   "name": "python",
   "nbconvert_exporter": "python",
   "pygments_lexer": "ipython3",
   "version": "3.7.10"
  }
 },
 "nbformat": 4,
 "nbformat_minor": 5
}
