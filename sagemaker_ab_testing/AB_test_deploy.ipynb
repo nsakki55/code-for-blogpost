{
 "cells": [
  {
   "cell_type": "code",
   "execution_count": 15,
   "id": "ae9e7e7c",
   "metadata": {},
   "outputs": [],
   "source": [
    "import yaml\n",
    "import sagemaker\n",
    "import boto3\n",
    "import json\n",
    "\n",
    "SETTING_FILE_PATH = \"../config/settings.yaml\"\n",
    "DATA_FOLDER_PATH = \"../avazu-ctr-prediction\"\n",
    "\n",
    "# AWS リソース設定\n",
    "with open(SETTING_FILE_PATH) as file:\n",
    "    aws_info = yaml.safe_load(file)\n",
    "        \n",
    "sess = sagemaker.Session()\n",
    "role = aws_info['aws']['sagemaker']['role']\n",
    "bucket = aws_info['aws']['sagemaker']['s3bucket']\n",
    "region = aws_info['aws']['sagemaker']['region']\n",
    "\n",
    "sm = boto3.client('sagemaker')\n",
    "s3 = boto3.client('s3')\n"
   ]
  },
  {
   "cell_type": "code",
   "execution_count": 2,
   "id": "df1fbb6b",
   "metadata": {},
   "outputs": [],
   "source": [
    "import os\n",
    "import pandas as pd\n",
    "\n",
    "from sklearn.model_selection import train_test_split\n",
    "\n",
    "\n",
    "# train, validation, test データを用意\n",
    "df_train = pd.read_csv(os.path.join(DATA_FOLDER_PATH, \"train_partial\"), dtype=\"object\")\n",
    "df_train, df_test = train_test_split(df_train, train_size=0.8, random_state=0, shuffle=True)"
   ]
  },
  {
   "cell_type": "code",
   "execution_count": 3,
   "id": "f093beff",
   "metadata": {},
   "outputs": [],
   "source": [
    "# S3にアップロード\n",
    "prefix = 'sagemaker-ab-testing'\n",
    "\n",
    "train_file = \"train.csv\"\n",
    "test_file = \"test.csv\"\n",
    "\n",
    "df_train.to_csv(train_file, index=False)\n",
    "df_test.to_csv(test_file, index=False)\n",
    "\n",
    "s3_resource_bucket = boto3.Session().resource(\"s3\").Bucket(bucket)\n",
    "\n",
    "s3_resource_bucket.Object(os.path.join(prefix, \"train\", train_file)).upload_file(train_file)\n",
    "s3_resource_bucket.Object(os.path.join(prefix, \"test\", test_file)).upload_file(test_file)\n"
   ]
  },
  {
   "cell_type": "code",
   "execution_count": 4,
   "id": "cd438cd9",
   "metadata": {},
   "outputs": [],
   "source": [
    "output_location = f\"s3://{bucket}/{prefix}/output\"\n",
    "\n",
    "s3_train_data = f\"s3://{bucket}/{prefix}/train/{train_file}\"\n",
    "s3_test_data = f\"s3://{bucket}/{prefix}/test/{test_file}\""
   ]
  },
  {
   "cell_type": "markdown",
   "id": "7ce546ab",
   "metadata": {},
   "source": [
    "## model A"
   ]
  },
  {
   "cell_type": "code",
   "execution_count": null,
   "id": "f3a029be",
   "metadata": {},
   "outputs": [],
   "source": [
    "from time import gmtime, strftime\n",
    "\n",
    "from sagemaker.sklearn.estimator import SKLearn\n",
    "\n",
    "job_name = \"modelA-training-job\" + strftime(\"%Y%m%d-%H-%M-%S\", gmtime())\n",
    "\n",
    "hyperparameters = {\"alpha\": 0.00001, \"eta0\": 2.0}\n",
    "enable_local_mode_training = False\n",
    "\n",
    "if enable_local_mode_training:\n",
    "    train_instance_type = \"local\"\n",
    "    inputs = {\"train\": f\"file://{train_file}\", \"test\": f\"file://{test_file}\"}\n",
    "else:\n",
    "    train_instance_type = \"ml.m5.large\"\n",
    "    inputs = {\"train\": s3_train_data, \"test\": s3_test_data}\n",
    "\n",
    "estimator_parameters = {\n",
    "    \"entry_point\": \"train.py\",\n",
    "    \"source_dir\": \"modelA\",\n",
    "    \"framework_version\": \"0.23-1\",\n",
    "    \"py_version\": \"py3\",\n",
    "    \"instance_type\": train_instance_type,\n",
    "    \"instance_count\": 1,\n",
    "    \"hyperparameters\": hyperparameters,\n",
    "    \"output_path\": output_location,\n",
    "    \"role\": role,\n",
    "    \"base_job_name\": job_name,\n",
    "}\n",
    "\n",
    "model_a_estimator = SKLearn(**estimator_parameters)\n",
    "model_a_estimator.fit(inputs)\n"
   ]
  },
  {
   "cell_type": "code",
   "execution_count": 245,
   "id": "62133438",
   "metadata": {},
   "outputs": [
    {
     "data": {
      "text/plain": [
       "'modelA-1656375905'"
      ]
     },
     "execution_count": 245,
     "metadata": {},
     "output_type": "execute_result"
    }
   ],
   "source": [
    "from sagemaker.sklearn.model import SKLearnModel\n",
    "\n",
    "modelA = SKLearnModel(\n",
    "    role=role,\n",
    "    model_data=model_a_estimator.model_data,\n",
    "    framework_version=\"0.23-1\",\n",
    "    py_version=\"py3\",\n",
    "    source_dir=\"modelA\",\n",
    "    entry_point=\"inference.py\",\n",
    "    sagemaker_session=sess\n",
    ")\n",
    "\n",
    "model_a_name = \"{}-{}\".format(\"modelA\", timestamp)\n",
    "\n",
    "\n",
    "sess.create_model(\n",
    "    model_a_name,\n",
    "    role,\n",
    "    modelA.prepare_container_def(\n",
    "        instance_type='ml.t2.medium'\n",
    "    )\n",
    ")"
   ]
  },
  {
   "cell_type": "markdown",
   "id": "3c3dad2d",
   "metadata": {},
   "source": [
    "## modelB"
   ]
  },
  {
   "cell_type": "code",
   "execution_count": null,
   "id": "53939a63",
   "metadata": {},
   "outputs": [],
   "source": [
    "from time import gmtime, strftime\n",
    "\n",
    "from sagemaker.sklearn.estimator import SKLearn\n",
    "\n",
    "job_name = \"modelB-training-job\" + strftime(\"%Y%m%d-%H-%M-%S\", gmtime())\n",
    "\n",
    "hyperparameters = {\"alpha\": 0.00001, \"eta0\": 2.0}\n",
    "enable_local_mode_training = False\n",
    "\n",
    "if enable_local_mode_training:\n",
    "    train_instance_type = \"local\"\n",
    "    inputs = {\"train\": f\"file://{train_file}\", \"test\": f\"file://{test_file}\"}\n",
    "else:\n",
    "    train_instance_type = \"ml.m5.large\"\n",
    "    inputs = {\"train\": s3_train_data, \"test\": s3_test_data}\n",
    "\n",
    "estimator_parameters = {\n",
    "    \"entry_point\": \"train.py\",\n",
    "    \"source_dir\": \"modelB\",\n",
    "    \"framework_version\": \"0.23-1\",\n",
    "    \"py_version\": \"py3\",\n",
    "    \"instance_type\": train_instance_type,\n",
    "    \"instance_count\": 1,\n",
    "    \"hyperparameters\": hyperparameters,\n",
    "    \"output_path\": output_location,\n",
    "    \"role\": role,\n",
    "    \"base_job_name\": job_name,\n",
    "}\n",
    "\n",
    "model_b_estimator = SKLearn(**estimator_parameters)\n",
    "model_b_estimator.fit(inputs)\n"
   ]
  },
  {
   "cell_type": "code",
   "execution_count": 246,
   "id": "ebe9d05f",
   "metadata": {},
   "outputs": [
    {
     "data": {
      "text/plain": [
       "'modelB-1656375905'"
      ]
     },
     "execution_count": 246,
     "metadata": {},
     "output_type": "execute_result"
    }
   ],
   "source": [
    "from sagemaker.sklearn.model import SKLearnModel\n",
    "\n",
    "modelB = SKLearnModel(\n",
    "    role=role,\n",
    "    model_data=model_b_estimator.model_data,\n",
    "    framework_version=\"0.23-1\",\n",
    "    py_version=\"py3\",\n",
    "    source_dir=\"modelB\",\n",
    "    entry_point=\"inference.py\",\n",
    "    sagemaker_session=sess\n",
    ")\n",
    "\n",
    "model_b_name = \"{}-{}\".format(\"modelB\", timestamp)\n",
    "\n",
    "sess.create_model(\n",
    "    model_b_name,\n",
    "    role,\n",
    "    modelB.prepare_container_def(\n",
    "        instance_type='ml.t2.medium'\n",
    "    )\n",
    ")"
   ]
  },
  {
   "cell_type": "markdown",
   "id": "3f907fdc",
   "metadata": {},
   "source": [
    "## ABテスト"
   ]
  },
  {
   "cell_type": "code",
   "execution_count": 247,
   "id": "34ce346b",
   "metadata": {},
   "outputs": [],
   "source": [
    "from sagemaker.session import production_variant\n",
    "import time\n",
    "\n",
    "timestamp = \"{}\".format(int(time.time()))\n",
    "\n",
    "endpoint_config_name = \"{}-{}\".format(\"abtest\", timestamp)\n",
    "\n",
    "modelA_variant = production_variant(\n",
    "    model_name=model_a_name,\n",
    "    instance_type=\"ml.t2.medium\",\n",
    "    initial_instance_count=1,\n",
    "    variant_name=\"VariantA\",\n",
    "    initial_weight=50,\n",
    ")\n",
    "\n",
    "modelB_variant = production_variant(\n",
    "    model_name=model_b_name,\n",
    "    instance_type=\"ml.t2.medium\",\n",
    "    initial_instance_count=1,\n",
    "    variant_name=\"VariantB\",\n",
    "    initial_weight=50,\n",
    ")\n"
   ]
  },
  {
   "cell_type": "code",
   "execution_count": 248,
   "id": "c1babbca",
   "metadata": {},
   "outputs": [],
   "source": [
    "model_ab_endpoint_name = \"{}-{}\".format(\"abtest\", timestamp)\n",
    "\n",
    "endpoint_config = sm.create_endpoint_config(\n",
    "    EndpointConfigName=endpoint_config_name, ProductionVariants=[modelA_variant, modelB_variant]\n",
    ")\n",
    "\n",
    "endpoint_response = sm.create_endpoint(EndpointName=model_ab_endpoint_name, EndpointConfigName=endpoint_config_name)"
   ]
  },
  {
   "cell_type": "code",
   "execution_count": 249,
   "id": "8a105f4d",
   "metadata": {},
   "outputs": [
    {
     "data": {
      "text/plain": [
       "'abtest-1656383806'"
      ]
     },
     "execution_count": 249,
     "metadata": {},
     "output_type": "execute_result"
    }
   ],
   "source": [
    "model_ab_endpoint_name"
   ]
  },
  {
   "cell_type": "code",
   "execution_count": 288,
   "id": "f27f5f56",
   "metadata": {},
   "outputs": [],
   "source": [
    "runtime = boto3.Session().client('sagemaker-runtime')\n",
    "model_list = []\n",
    "prediction_list = []\n",
    "\n",
    "with open('test_partial.csv') as f:\n",
    "    for line in f:\n",
    "        response = runtime.invoke_endpoint(EndpointName=model_ab_endpoint_name, \n",
    "                                   ContentType='text/csv', \n",
    "                                   Body=line,\n",
    "                                  Accept='application/json')\n",
    "        df_pred = pd.read_csv(response['Body'], header=None, delimiter='\\t')\n",
    "        model = json.loads(df_pred[0][0])['result'][0]['model']\n",
    "        prediction = json.loads(df_pred[0][0])['result'][0]['prediction']\n",
    "        model_list.append(model)\n",
    "        prediction_list.append(prediction)"
   ]
  },
  {
   "cell_type": "code",
   "execution_count": 289,
   "id": "11a18df6",
   "metadata": {},
   "outputs": [
    {
     "name": "stdout",
     "output_type": "stream",
     "text": [
      "[modelA] response:5073, bucket: 0.5073\n",
      "[modelB] response:4927, bucket: 0.4927\n"
     ]
    }
   ],
   "source": [
    "print(\"[modelA] response:{}, bucket: {}\".format(model_list.count('modelA'), model_list.count('modelA') / len(model_list)))\n",
    "print(\"[modelB] response:{}, bucket: {}\".format(model_list.count('modelB'), model_list.count('modelB') / len(model_list)))"
   ]
  },
  {
   "cell_type": "code",
   "execution_count": null,
   "id": "50cf4b45",
   "metadata": {},
   "outputs": [],
   "source": []
  }
 ],
 "metadata": {
  "kernelspec": {
   "display_name": "Python 3 (ipykernel)",
   "language": "python",
   "name": "python3"
  },
  "language_info": {
   "codemirror_mode": {
    "name": "ipython",
    "version": 3
   },
   "file_extension": ".py",
   "mimetype": "text/x-python",
   "name": "python",
   "nbconvert_exporter": "python",
   "pygments_lexer": "ipython3",
   "version": "3.7.10"
  }
 },
 "nbformat": 4,
 "nbformat_minor": 5
}
